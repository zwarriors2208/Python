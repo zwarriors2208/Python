{
 "cells": [
  {
   "cell_type": "code",
   "execution_count": 3,
   "id": "fcdbc373-c703-43bd-ad96-be1df5939baa",
   "metadata": {},
   "outputs": [],
   "source": [
    "from urllib.parse import urlparse,parse_qs,urlencode"
   ]
  },
  {
   "cell_type": "markdown",
   "id": "04961965-852e-414a-a714-299af7823783",
   "metadata": {},
   "source": [
    "## Extracting the domain name from a full URL to identify which website is being accessed"
   ]
  },
  {
   "cell_type": "code",
   "execution_count": 7,
   "id": "9e099592-8a64-4cad-8582-33e3532138ce",
   "metadata": {},
   "outputs": [
    {
     "name": "stdout",
     "output_type": "stream",
     "text": [
      "Domain: www.example.com\n",
      "Path: /path/to/resource\n",
      "Query: search=python&lang=en\n"
     ]
    }
   ],
   "source": [
    "#Extracting the domain name from a full URL to identify which website is being accessed\n",
    "url='https://www.example.com/path/to/resource?search=python&lang=en'\n",
    "parsed_url=urlparse(url)\n",
    "print(f'Domain: {parsed_url.netloc}')\n",
    "print(f'Path: {parsed_url.path}')\n",
    "print(f'Query: {parsed_url.query}')"
   ]
  },
  {
   "cell_type": "markdown",
   "id": "53fc0747-f7da-42e0-8654-f5b1ad5edc55",
   "metadata": {},
   "source": [
    "## Extracting or modifying query parameters in a URL, at runtime"
   ]
  },
  {
   "cell_type": "code",
   "execution_count": 9,
   "id": "486548d2-ac6d-462e-9d35-41bafed50d39",
   "metadata": {},
   "outputs": [
    {
     "name": "stdout",
     "output_type": "stream",
     "text": [
      "Query Params: {'query': ['python'], 'sort': ['recent']}\n"
     ]
    }
   ],
   "source": [
    "#Extracting or modifying query parameters in a URL, at runtime\n",
    "url='https://www.example.com/search?query=python&sort=recent'\n",
    "parsed_url=urlparse(url)\n",
    "query_params=parse_qs(parsed_url.query)\n",
    "print(f'Query Params: {query_params}')"
   ]
  },
  {
   "cell_type": "markdown",
   "id": "9227767d-1850-4851-add6-fa1d55eb0c5e",
   "metadata": {},
   "source": [
    "## Adding or removing query parameters from an existing URL."
   ]
  },
  {
   "cell_type": "code",
   "execution_count": 19,
   "id": "27f88966-bf54-464f-ae44-878be3e73349",
   "metadata": {},
   "outputs": [
    {
     "name": "stdout",
     "output_type": "stream",
     "text": [
      "Updated URL: https://www.example.com/search?query=python&sort=recent\n"
     ]
    }
   ],
   "source": [
    "## Adding or removing query parameters from an existing URL.\n",
    "base_url='https://www.example.com/search'\n",
    "query_params={'query':'python','sort':'recent'}\n",
    "updated_url=f'{base_url}?{urlencode(query_params)}'\n",
    "print(f'Updated URL: {updated_url}')"
   ]
  },
  {
   "cell_type": "code",
   "execution_count": null,
   "id": "a587e7c0-022e-4ce1-b6d0-3c7527232312",
   "metadata": {},
   "outputs": [],
   "source": []
  }
 ],
 "metadata": {
  "kernelspec": {
   "display_name": "Python 3 (ipykernel)",
   "language": "python",
   "name": "python3"
  },
  "language_info": {
   "codemirror_mode": {
    "name": "ipython",
    "version": 3
   },
   "file_extension": ".py",
   "mimetype": "text/x-python",
   "name": "python",
   "nbconvert_exporter": "python",
   "pygments_lexer": "ipython3",
   "version": "3.12.4"
  }
 },
 "nbformat": 4,
 "nbformat_minor": 5
}
