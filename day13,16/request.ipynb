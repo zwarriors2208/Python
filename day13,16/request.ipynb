{
 "cells": [
  {
   "cell_type": "code",
   "execution_count": 1,
   "id": "ad27b931-e683-4282-9d89-a3340dafbae0",
   "metadata": {},
   "outputs": [],
   "source": [
    "import requests"
   ]
  },
  {
   "cell_type": "markdown",
   "id": "5cb4b414-750f-4530-837f-79a14d0066e1",
   "metadata": {},
   "source": [
    "# Send a GET Request"
   ]
  },
  {
   "cell_type": "code",
   "execution_count": 5,
   "id": "23febde6-80bf-4e93-9d30-db16132fbeed",
   "metadata": {},
   "outputs": [],
   "source": [
    "#Send a GET Request\n",
    "response=requests.get('https://restcountries.com/v3.1/all')"
   ]
  },
  {
   "cell_type": "code",
   "execution_count": 9,
   "id": "1e659c7e-f3fd-491a-bc2f-bc4070a0abfd",
   "metadata": {},
   "outputs": [
    {
     "name": "stdout",
     "output_type": "stream",
     "text": [
      "Response received.\n"
     ]
    }
   ],
   "source": [
    "#Check the status code\n",
    "if response.status_code==200:\n",
    "    #Prnt the response content\n",
    "    print(\"Response received.\")\n",
    "    # print(response.json())\n",
    "else:\n",
    "    print(\"Failed to retrieve data:\",response.status_code)\n",
    "countries=response.json()"
   ]
  },
  {
   "cell_type": "code",
   "execution_count": 25,
   "id": "eae2302f-c583-4ae1-a540-631b5e48f873",
   "metadata": {},
   "outputs": [
    {
     "name": "stdout",
     "output_type": "stream",
     "text": [
      "Country: India\n",
      "Capital: New Delhi\n",
      "Area:3287590.0 sq km\n"
     ]
    }
   ],
   "source": [
    "#Loop through the list of countries and display relevant info\n",
    "for country in countries:\n",
    "    # name=country.get('name').get('common')\n",
    "    name=country.get('name',{}).get('common','N/A')\n",
    "    capital=country.get('capital',['N/A'])[0]\n",
    "    # capital=country.get('capital',['N/A'])\n",
    "    area=country.get('area','N/A')\n",
    "    if name=='India':\n",
    "        print(f'Country: {name}')\n",
    "        print(f'Capital: {capital}')\n",
    "        print(f'Area:{area} sq km')\n",
    "    "
   ]
  },
  {
   "cell_type": "code",
   "execution_count": 33,
   "id": "4dc406c0-28e6-4d6e-805d-6bdcad7e4063",
   "metadata": {},
   "outputs": [
    {
     "name": "stdout",
     "output_type": "stream",
     "text": [
      "Country: India\n",
      "Capital: ['New Delhi']\n",
      "Area:3287590.0 sq km\n"
     ]
    }
   ],
   "source": [
    "#Loop through the list of countries and display relevant info\n",
    "for country in countries:\n",
    "    # name=country.get('name').get('common')\n",
    "    name=country.get('name').get('common')\n",
    "    capital=country.get('capital')\n",
    "    # capital=country.get('capital',['N/A'])\n",
    "    area=country.get('area','N/A')\n",
    "    if name=='India':\n",
    "        print(f'Country: {name}')\n",
    "        print(f'Capital: {capital}')\n",
    "        print(f'Area:{area} sq km')\n",
    "    "
   ]
  },
  {
   "cell_type": "markdown",
   "id": "aa4c29f8-e7b2-4f47-9f28-bb02e5e2db24",
   "metadata": {},
   "source": [
    "# Post method\n"
   ]
  },
  {
   "cell_type": "code",
   "execution_count": 64,
   "id": "ad217ef6-e4d9-4b03-8951-1dd1332cb074",
   "metadata": {},
   "outputs": [],
   "source": [
    "import requests"
   ]
  },
  {
   "cell_type": "code",
   "execution_count": 66,
   "id": "eea7339d-73b7-4387-b986-b084b47eb4e1",
   "metadata": {},
   "outputs": [],
   "source": [
    "# api endpoint for creating a new users\n",
    "post_url=\"https://reqres.in/api/users\""
   ]
  },
  {
   "cell_type": "code",
   "execution_count": 68,
   "id": "cc056b7a-a4ce-4f24-8207-5e2aa43e9a3a",
   "metadata": {},
   "outputs": [],
   "source": [
    "# data to be send in post request\n",
    "post_data={\"name\":\"Adarsh\",\"job\":\"Software Developer\"}"
   ]
  },
  {
   "cell_type": "code",
   "execution_count": 78,
   "id": "cd4b9762-0320-41ad-a334-fc2645e60504",
   "metadata": {},
   "outputs": [],
   "source": [
    "# making the post request to create a new users\n",
    "response=requests.post(post_url,json=post_data)\n"
   ]
  },
  {
   "cell_type": "code",
   "execution_count": 79,
   "id": "d9e5bf95-784f-4b24-a10d-fdfe4cd5bbc1",
   "metadata": {},
   "outputs": [
    {
     "data": {
      "text/plain": [
       "201"
      ]
     },
     "execution_count": 79,
     "metadata": {},
     "output_type": "execute_result"
    }
   ],
   "source": [
    "response.status_code"
   ]
  },
  {
   "cell_type": "markdown",
   "id": "41727863-c9d2-4af9-9e69-c0d69b49a385",
   "metadata": {},
   "source": [
    "# delete\n",
    "- requests.delete(url)\n",
    "- - 204 No Content: The request was successful, but there is no content to return (often used in DELETE requests).\n",
    "  "
   ]
  },
  {
   "cell_type": "code",
   "execution_count": 91,
   "id": "ca741d4d-f721-4a66-bb57-ac79c71b7d4c",
   "metadata": {},
   "outputs": [],
   "source": [
    "def dele_te(url, id):\n",
    "    r = requests.delete(url+id)\n",
    "    return r.status_code"
   ]
  },
  {
   "cell_type": "code",
   "execution_count": 106,
   "id": "4c29a86c-6aa6-4c37-9f58-8c5805b67bbb",
   "metadata": {},
   "outputs": [
    {
     "data": {
      "text/plain": [
       "204"
      ]
     },
     "execution_count": 106,
     "metadata": {},
     "output_type": "execute_result"
    }
   ],
   "source": [
    "urls = \"https://reqres.in/api/users/\"\n",
    "id = '21'\n",
    "dele_te(urls, id)"
   ]
  },
  {
   "cell_type": "code",
   "execution_count": null,
   "id": "d150218c-df41-4e80-b060-e7ea8ce45dc1",
   "metadata": {},
   "outputs": [],
   "source": []
  },
  {
   "cell_type": "code",
   "execution_count": null,
   "id": "579d6f75-2d26-4e61-a876-001f6cff712a",
   "metadata": {},
   "outputs": [],
   "source": []
  }
 ],
 "metadata": {
  "kernelspec": {
   "display_name": "Python 3 (ipykernel)",
   "language": "python",
   "name": "python3"
  },
  "language_info": {
   "codemirror_mode": {
    "name": "ipython",
    "version": 3
   },
   "file_extension": ".py",
   "mimetype": "text/x-python",
   "name": "python",
   "nbconvert_exporter": "python",
   "pygments_lexer": "ipython3",
   "version": "3.12.4"
  }
 },
 "nbformat": 4,
 "nbformat_minor": 5
}
