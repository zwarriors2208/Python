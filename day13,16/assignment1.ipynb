{
 "cells": [
  {
   "cell_type": "code",
   "execution_count": 1,
   "id": "3312dbf1-b303-4484-a81d-689c4eb14533",
   "metadata": {},
   "outputs": [],
   "source": [
    "import requests"
   ]
  },
  {
   "cell_type": "markdown",
   "id": "f696802e-d612-448c-a2c8-434387c0c6e6",
   "metadata": {},
   "source": [
    "# get\n",
    "assignment1"
   ]
  },
  {
   "cell_type": "code",
   "execution_count": 2,
   "id": "b0467328-9c0d-4c4a-b9ed-b7d3074139ba",
   "metadata": {},
   "outputs": [],
   "source": [
    "try:\n",
    "    response=requests.get('https://restcountries.com/v3.1/all?fields=name,capital,currencies,region,area')\n",
    "except:\n",
    "        r = response.status_code\n",
    "        if r == 204:\n",
    "            print('no coentent')\n",
    "        elif r == 400:\n",
    "            print('bad request')\n",
    "        elif r == 401:\n",
    "            print('uauthorized')\n",
    "        elif r == 403:\n",
    "            print('forbidden')\n",
    "        elif r == 404:\n",
    "            print('not found')\n",
    "        else:\n",
    "            print('some error occured')"
   ]
  },
  {
   "cell_type": "code",
   "execution_count": 3,
   "id": "92351e0e-2e04-4b64-850e-a355aebb8f9c",
   "metadata": {},
   "outputs": [],
   "source": [
    "countries=response.json()"
   ]
  },
  {
   "cell_type": "code",
   "execution_count": 75,
   "id": "a4c6e6f3-da19-40cc-b68f-58e26ec74b3a",
   "metadata": {},
   "outputs": [],
   "source": [
    "def fn(reg, cur_c):\n",
    "    try:\n",
    "        for country in countries:\n",
    "            # name=country.get('name').get('common')\n",
    "            name=country.get('name').get('common')\n",
    "            region = country.get('region')\n",
    "            currency = country.get('currencies',{}).get(cur_c, {}).get('name')\n",
    "            area=country.get('area','N/A')\n",
    "            if region==reg and currency != None:\n",
    "                capital=country.get('capital')\n",
    "                print(f'Country: {name}')\n",
    "                print(f'Capital: {capital[0]}')\n",
    "                print(f'Area:{area} sq km')\n",
    "                print(f'Regioin:{region}')\n",
    "                print(f'Currency:{currency}')\n",
    "                symbol = country.get('currencies',{}).get(cur_c, {}).get('symbol')\n",
    "                print(f'Symbol: {symbol}')\n",
    "                return\n",
    "\n",
    "        else:\n",
    "            raise \"data not found\"\n",
    "        \n",
    "    except:\n",
    "        r = response.status_code\n",
    "        if r == 204:\n",
    "            print('no coentent')\n",
    "        elif r == 400:\n",
    "            print('bad request')\n",
    "        elif r == 401:\n",
    "            print('uauthorized')\n",
    "        elif r == 403:\n",
    "            print('forbidden')\n",
    "        elif r == 404:\n",
    "            print('not found')\n",
    "        else:\n",
    "            print('some error occured')"
   ]
  },
  {
   "cell_type": "code",
   "execution_count": 77,
   "id": "b306569a-d058-4bc7-9650-032aeb878e0a",
   "metadata": {},
   "outputs": [
    {
     "name": "stdout",
     "output_type": "stream",
     "text": [
      "Country: South Georgia\n",
      "Capital: King Edward Point\n",
      "Area:3903.0 sq km\n",
      "Regioin:Antarctic\n",
      "Currency:Saint Helena pound\n",
      "Symbol: £\n"
     ]
    }
   ],
   "source": [
    "fn('Antarctic','SHP')"
   ]
  },
  {
   "cell_type": "code",
   "execution_count": 79,
   "id": "4890d0de-bb96-472d-ae5a-d4e4c0e056e6",
   "metadata": {},
   "outputs": [
    {
     "name": "stdout",
     "output_type": "stream",
     "text": [
      "some error occured\n"
     ]
    }
   ],
   "source": [
    "fn('rthe','jh')"
   ]
  },
  {
   "cell_type": "markdown",
   "id": "fb7c2810-8943-44bf-8778-f44d54c0f0eb",
   "metadata": {},
   "source": [
    "# post\n",
    "assignment 2"
   ]
  },
  {
   "cell_type": "code",
   "execution_count": 81,
   "id": "271659f1-3815-4348-ba29-5ccef092c04d",
   "metadata": {},
   "outputs": [],
   "source": [
    "def fn1(url,j_son):\n",
    "    response=requests.post(url,json=j_son)\n",
    "    return response.status_code\n"
   ]
  },
  {
   "cell_type": "code",
   "execution_count": 83,
   "id": "f22d1d1b-9a16-44b9-a4bc-c05b108d2e1b",
   "metadata": {},
   "outputs": [],
   "source": [
    "url = \"https://jsonplaceholder.typicode.com/posts\"\n",
    "weather={'city':'New York','temp':28,'humidity':60,'condition':'Sunny'}"
   ]
  },
  {
   "cell_type": "code",
   "execution_count": 85,
   "id": "15c27475-43c6-4777-89fb-c2daa98b65e3",
   "metadata": {},
   "outputs": [
    {
     "data": {
      "text/plain": [
       "201"
      ]
     },
     "execution_count": 85,
     "metadata": {},
     "output_type": "execute_result"
    }
   ],
   "source": [
    "fn1(url, weather)"
   ]
  },
  {
   "cell_type": "markdown",
   "id": "a47cd820-4c9b-4eed-8293-118ca92cc58f",
   "metadata": {},
   "source": [
    "# delete"
   ]
  },
  {
   "cell_type": "code",
   "execution_count": 94,
   "id": "3d527dfd-8e9e-43b2-acd3-eaec121e0534",
   "metadata": {},
   "outputs": [
    {
     "data": {
      "text/plain": [
       "204"
      ]
     },
     "execution_count": 94,
     "metadata": {},
     "output_type": "execute_result"
    }
   ],
   "source": [
    "def dele_te(url, id):\n",
    "    r = requests.delete(url+id)\n",
    "    return r.status_code\n",
    "urls = \"https://reqres.in/api/users/\"\n",
    "id = '21'\n",
    "dele_te(urls, id)"
   ]
  },
  {
   "cell_type": "markdown",
   "id": "fdb3b2ee-23ba-4f2c-a390-254041e88989",
   "metadata": {},
   "source": [
    "# assignment urls"
   ]
  },
  {
   "cell_type": "code",
   "execution_count": null,
   "id": "5a56e5cf-b577-4eb4-87ef-9285829a704f",
   "metadata": {},
   "outputs": [],
   "source": [
    "l = input(\"enter the urls seprated by comma:\").split(',')\n"
   ]
  },
  {
   "cell_type": "code",
   "execution_count": 98,
   "id": "596a401c-54db-4b88-961f-5537201c2399",
   "metadata": {},
   "outputs": [],
   "source": [
    "from urllib.parse import urlparse"
   ]
  },
  {
   "cell_type": "code",
   "execution_count": 100,
   "id": "8aa61769-afa5-4805-be77-503f0ac229c6",
   "metadata": {},
   "outputs": [],
   "source": [
    "def func(urls):\n",
    "    p_url = urlparse(urls)\n",
    "    print(f'Domain: {p_url.netloc}')\n",
    "    print(f'Path: {p_url.path}')\n",
    "    print(f'Query: {p_url.query}')"
   ]
  },
  {
   "cell_type": "code",
   "execution_count": 102,
   "id": "c9b30631-f865-4b05-96f3-54cba714cacd",
   "metadata": {},
   "outputs": [
    {
     "name": "stdin",
     "output_type": "stream",
     "text": [
      "enter the urls seprated by comma: https://example.com/products/shoes?category=sneakers&size=10&color=blue,http://testsite.org/api/v1/users?id=12345&include=profile,purchases,https://randomurl.net/search?query=python+code&sort=desc&page=2,https://demo.com/items/456?filter=active&sort_by=date,http://fakestore.com/catalog/view?item=789&discount=true&user=guest,https://example.org/events/2024?month=09&day=16&type=conference,http://sample.net/product/abcd1234?ref=homepage&promo=summer_sale,https://myapi.com/data?category=electronics&limit=10&offset=0,https://demoapi.com/users/56789?expand=address,contacts,http://placeholder.com/posts/new?tag=technology&author=johndoe\n"
     ]
    },
    {
     "name": "stdout",
     "output_type": "stream",
     "text": [
      "Domain: example.com\n",
      "Path: /products/shoes\n",
      "Query: category=sneakers&size=10&color=blue\n",
      "Domain: testsite.org\n",
      "Path: /api/v1/users\n",
      "Query: id=12345&include=profile\n",
      "Domain: \n",
      "Path: purchases\n",
      "Query: \n",
      "Domain: randomurl.net\n",
      "Path: /search\n",
      "Query: query=python+code&sort=desc&page=2\n",
      "Domain: demo.com\n",
      "Path: /items/456\n",
      "Query: filter=active&sort_by=date\n",
      "Domain: fakestore.com\n",
      "Path: /catalog/view\n",
      "Query: item=789&discount=true&user=guest\n",
      "Domain: example.org\n",
      "Path: /events/2024\n",
      "Query: month=09&day=16&type=conference\n",
      "Domain: sample.net\n",
      "Path: /product/abcd1234\n",
      "Query: ref=homepage&promo=summer_sale\n",
      "Domain: myapi.com\n",
      "Path: /data\n",
      "Query: category=electronics&limit=10&offset=0\n",
      "Domain: demoapi.com\n",
      "Path: /users/56789\n",
      "Query: expand=address\n",
      "Domain: \n",
      "Path: contacts\n",
      "Query: \n",
      "Domain: placeholder.com\n",
      "Path: /posts/new\n",
      "Query: tag=technology&author=johndoe\n"
     ]
    }
   ],
   "source": [
    "l = input(\"enter the urls seprated by comma:\").split(',')\n",
    "for i in l:\n",
    "    func(i)"
   ]
  },
  {
   "cell_type": "code",
   "execution_count": 139,
   "id": "8b28d1a8-cb5a-48cb-a16f-993b243eceb5",
   "metadata": {},
   "outputs": [],
   "source": [
    "b = \"https://example.com/products/shoes?category=sneakers&size=10&color=blue,http://testsite.org/api/v1/users?id=12345&include=profile,purchases,https://randomurl.net/search?query=python+code&sort=desc&page=2,https://demo.com/items/456?filter=active&sort_by=date,http://fakestore.com/catalog/view?item=789&discount=true&user=guest,https://example.org/events/2024?month=09&day=16&type=conference,http://sample.net/product/abcd1234?ref=homepage&promo=summer_sale,https://myapi.com/data?category=electronics&limit=10&offset=0,https://demoapi.com/users/56789?expand=address,contacts,http://placeholder.com/posts/new?tag=technology&author=johndoe\""
   ]
  },
  {
   "cell_type": "code",
   "execution_count": null,
   "id": "b19dd2f6-75ad-491f-8987-fe99b80c1fbf",
   "metadata": {},
   "outputs": [],
   "source": [
    "import re\n",
    "r'https?://[^\\s\"]+'"
   ]
  },
  {
   "cell_type": "code",
   "execution_count": 151,
   "id": "fce1a835-3fa4-44b5-acb4-fc924b28ad46",
   "metadata": {},
   "outputs": [],
   "source": [
    "import re\n",
    "a = re.findall(r'https://[\\w._/~-]* | \\bhttp://[\\w._/~-]*',\"https://example.com/products/shoes?category http://anotherexample.org/path?query=123\")"
   ]
  },
  {
   "cell_type": "code",
   "execution_count": 153,
   "id": "cf062955-9d53-43fd-aec2-7e146cd2ad35",
   "metadata": {},
   "outputs": [
    {
     "name": "stdout",
     "output_type": "stream",
     "text": [
      " http://anotherexample.org/path\n"
     ]
    }
   ],
   "source": [
    "for i in a:\n",
    "    print(i)"
   ]
  },
  {
   "cell_type": "code",
   "execution_count": 188,
   "id": "7d0f1dd5-4491-4a38-881d-71ba0ad94c23",
   "metadata": {},
   "outputs": [],
   "source": [
    "import re\n",
    "a = re.findall(r'\\bhttps?://[\\S\"]*',\"https://example.com/products/shoes?category http://anotherexample.org/path?query=123\")"
   ]
  },
  {
   "cell_type": "code",
   "execution_count": null,
   "id": "c429815d-d164-45c6-aa16-110326907e32",
   "metadata": {},
   "outputs": [],
   "source": []
  },
  {
   "cell_type": "code",
   "execution_count": 190,
   "id": "300ad23f-dca4-468c-9576-3f182d717ede",
   "metadata": {},
   "outputs": [
    {
     "name": "stdout",
     "output_type": "stream",
     "text": [
      "https://example.com/products/shoes?category\n",
      "http://anotherexample.org/path?query=123\n"
     ]
    }
   ],
   "source": [
    "for i in a:\n",
    "    print(i)"
   ]
  },
  {
   "cell_type": "code",
   "execution_count": null,
   "id": "395b84f6-91f5-4cc3-a7db-887931b28f68",
   "metadata": {},
   "outputs": [],
   "source": []
  },
  {
   "cell_type": "code",
   "execution_count": null,
   "id": "d9d9217e-1c32-4a62-8b8b-6ec2ef8e30a1",
   "metadata": {},
   "outputs": [],
   "source": []
  }
 ],
 "metadata": {
  "kernelspec": {
   "display_name": "Python 3 (ipykernel)",
   "language": "python",
   "name": "python3"
  },
  "language_info": {
   "codemirror_mode": {
    "name": "ipython",
    "version": 3
   },
   "file_extension": ".py",
   "mimetype": "text/x-python",
   "name": "python",
   "nbconvert_exporter": "python",
   "pygments_lexer": "ipython3",
   "version": "3.12.4"
  }
 },
 "nbformat": 4,
 "nbformat_minor": 5
}
