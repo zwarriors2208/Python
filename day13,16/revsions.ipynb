{
 "cells": [
  {
   "cell_type": "code",
   "execution_count": 2,
   "id": "644a15ef-995d-443c-99af-27a97d0ee568",
   "metadata": {},
   "outputs": [
    {
     "ename": "NameError",
     "evalue": "name 'dd' is not defined",
     "output_type": "error",
     "traceback": [
      "\u001b[1;31m---------------------------------------------------------------------------\u001b[0m",
      "\u001b[1;31mNameError\u001b[0m                                 Traceback (most recent call last)",
      "Cell \u001b[1;32mIn[2], line 1\u001b[0m\n\u001b[1;32m----> 1\u001b[0m dd\u001b[38;5;241m/\u001b[39m\u001b[38;5;241m/\u001b[39mmm\u001b[38;5;241m/\u001b[39m\u001b[38;5;241m/\u001b[39myyyy\n",
      "\u001b[1;31mNameError\u001b[0m: name 'dd' is not defined"
     ]
    }
   ],
   "source": [
    "dd//mm//yyyy"
   ]
  },
  {
   "cell_type": "code",
   "execution_count": 58,
   "id": "403ee27e-8ed0-4cfc-b13d-2ecb12364003",
   "metadata": {},
   "outputs": [
    {
     "name": "stdin",
     "output_type": "stream",
     "text": [
      "text: The annual report for the year 2024 was finalized on 15/01/2024. The preliminary draft was completed by 30/11/2023. We had several important meetings scheduled, including the strategy session on 07/02/2024 and the review meeting on 21/03/2024. Additionally, the team conducted a quarterly review on 15/05/2024, and the project deadline was set for 31/07/2024. Please remember to submit all reports by 05/09/2024. The year-end review will take place on 15/12/2024.\n"
     ]
    }
   ],
   "source": [
    "#The annual report for the year 2024 was finalized on 15/01/2024. The preliminary draft was completed by 30/11/2023. We had several important meetings scheduled, including the strategy session on 07/02/2024 and the review meeting on 21/03/2024. Additionally, the team conducted a quarterly review on 15/05/2024, and the project deadline was set for 31/07/2024. Please remember to submit all reports by 05/09/2024. The year-end review will take place on 15/12/2024.\n",
    "t = input('text:')\n",
    "import re\n",
    "s = re.findall(r'\\b[\\d]{2}/[\\d]{2}/[\\d]{4}\\b', t)"
   ]
  },
  {
   "cell_type": "code",
   "execution_count": 60,
   "id": "bc3089f4-22e8-435b-bdc3-755ca5a1fd6d",
   "metadata": {},
   "outputs": [
    {
     "name": "stdout",
     "output_type": "stream",
     "text": [
      "15/01/2024\n",
      "30/11/2023\n",
      "07/02/2024\n",
      "21/03/2024\n",
      "15/05/2024\n",
      "31/07/2024\n",
      "05/09/2024\n",
      "15/12/2024\n"
     ]
    }
   ],
   "source": [
    "for i in s:\n",
    "    print(i)"
   ]
  },
  {
   "cell_type": "code",
   "execution_count": 62,
   "id": "4da96681-254b-4d72-936f-fadaf76275e3",
   "metadata": {},
   "outputs": [
    {
     "name": "stdin",
     "output_type": "stream",
     "text": [
      "text: plsaskmeanything\n"
     ]
    }
   ],
   "source": [
    "t = input('text:')\n",
    "s = re.sub(r'ask', 'tell', t)"
   ]
  },
  {
   "cell_type": "code",
   "execution_count": 64,
   "id": "e8a190a6-e037-4f7a-bc9e-b86429d134d8",
   "metadata": {},
   "outputs": [
    {
     "data": {
      "text/plain": [
       "'plsaskmeanything'"
      ]
     },
     "execution_count": 64,
     "metadata": {},
     "output_type": "execute_result"
    }
   ],
   "source": [
    "t"
   ]
  },
  {
   "cell_type": "code",
   "execution_count": 66,
   "id": "8b351b32-b001-4410-ad43-6e245cf47b18",
   "metadata": {},
   "outputs": [
    {
     "name": "stdout",
     "output_type": "stream",
     "text": [
      "plstellmeanything\n"
     ]
    }
   ],
   "source": [
    "print(s)"
   ]
  },
  {
   "cell_type": "code",
   "execution_count": 130,
   "id": "677fbb79-ecd8-44bb-992b-7269b0775339",
   "metadata": {},
   "outputs": [
    {
     "name": "stdin",
     "output_type": "stream",
     "text": [
      "text: CAT cat Cat CaT\n"
     ]
    },
    {
     "name": "stdout",
     "output_type": "stream",
     "text": [
      "CAT \n",
      "cat \n",
      "Cat \n"
     ]
    }
   ],
   "source": [
    "t = input('text:')\n",
    "s = re.findall(r'\\bcat\\b ',t, flags=re.I)\n",
    "for i in s:\n",
    "    print(i)"
   ]
  },
  {
   "cell_type": "code",
   "execution_count": 76,
   "id": "ae45310b-0969-4309-bfca-c142d4f22f4e",
   "metadata": {},
   "outputs": [
    {
     "name": "stdout",
     "output_type": "stream",
     "text": [
      "10\n"
     ]
    }
   ],
   "source": [
    "t='is 123-456-7890'\n",
    "s=re.findall(r'\\d',t)\n",
    "print(len(s))"
   ]
  },
  {
   "cell_type": "code",
   "execution_count": 116,
   "id": "66b94937-9132-4684-9155-f21c5f5b87a1",
   "metadata": {},
   "outputs": [
    {
     "name": "stdout",
     "output_type": "stream",
     "text": [
      "123\n"
     ]
    }
   ],
   "source": [
    "t=\"My number is 123 and my friend's number is 4567890\"\n",
    "s=re.findall(r'\\b\\d{3}\\b',t)\n",
    "for i in s:\n",
    "    print(i)"
   ]
  },
  {
   "cell_type": "code",
   "execution_count": 147,
   "id": "7781522b-5e7e-43d5-816b-b58e7d10a7ce",
   "metadata": {},
   "outputs": [
    {
     "name": "stdout",
     "output_type": "stream",
     "text": [
      "Error:Acess denied.\n",
      "Error:File not found.\n",
      "Error:Acess denied.\n"
     ]
    }
   ],
   "source": [
    "t=\"Error:Acess denied.\\nError:File not found.\\nWarning:Low disk space.\\nError:Acess denied.\"\n",
    "s=re.findall(r'Error.*\\.', t)\n",
    "for i in s:\n",
    "    print (i)"
   ]
  },
  {
   "cell_type": "code",
   "execution_count": 151,
   "id": "7a771596-6c9c-4e27-8305-07c0928a89d6",
   "metadata": {},
   "outputs": [
    {
     "name": "stdout",
     "output_type": "stream",
     "text": [
      "Error:Acess denied.\n",
      "Error:File not found.\n",
      "Error:Acess denied.\n"
     ]
    }
   ],
   "source": [
    "t=\"Error:Acess denied.\\nError:File not found.\\nWarning:Low disk space.\\nError:Acess denied.\"\n",
    "s=re.findall(r'^Error.*\\.$', t, flags = re.M)\n",
    "for i in s:\n",
    "    print (i)"
   ]
  },
  {
   "cell_type": "code",
   "execution_count": 189,
   "id": "220360e4-9105-4518-ab7c-76056df3c916",
   "metadata": {},
   "outputs": [
    {
     "name": "stdin",
     "output_type": "stream",
     "text": [
      "enter the string adrs1234\n"
     ]
    },
    {
     "name": "stdout",
     "output_type": "stream",
     "text": [
      "invalid\n"
     ]
    }
   ],
   "source": [
    "t= input('enter the string')\n",
    "s=re.match(r'\\b(?=.*[@#$%^&+=*!])[a-zA-Z]\\S{4,10}\\d\\b',t)\n",
    "if s:\n",
    "    print('valid password')\n",
    "else:\n",
    "    print('invalid')"
   ]
  },
  {
   "cell_type": "code",
   "execution_count": null,
   "id": "46aeb0cf-19c9-4ecb-b7cd-8b3e56b416ff",
   "metadata": {},
   "outputs": [],
   "source": [
    "t = input('text:')\n",
    "import re\n",
    "s = re.findall(r'\\b[\\d]{2}-[\\d]{2}-[\\d]{4}\\b', t)"
   ]
  },
  {
   "cell_type": "code",
   "execution_count": null,
   "id": "3fbda673-db82-4cf7-aa11-e72c5f3811b4",
   "metadata": {},
   "outputs": [],
   "source": [
    "t = "
   ]
  },
  {
   "cell_type": "code",
   "execution_count": 219,
   "id": "4939bb2d-bf4d-4250-bdad-25aacffe69ae",
   "metadata": {},
   "outputs": [],
   "source": [
    "def conver_date(t):\n",
    "    s = re.findall(r'\\b\\d{4}-\\d{2}-\\d{2}\\b', t)\n",
    "    for i in s:\n",
    "        p = rf'\\b{i}\\b'\n",
    "        t = re.sub(p, f'{i[-2:]}/{i[-5:-3]}/{i[0:4]}', t)\n",
    "    return t"
   ]
  },
  {
   "cell_type": "code",
   "execution_count": 221,
   "id": "dd8304c9-3e20-4c91-8e82-cb72e40342c0",
   "metadata": {},
   "outputs": [],
   "source": [
    "t = '''The project start date was 2024-01-15, which marked the beginning of the initial phase.\n",
    "The preliminary review took place on 2024-03-22, where key objectives were evaluated.\n",
    "The final submission deadline was set for 2024-06-30, by which all deliverables were required.\n",
    "A follow-up meeting was scheduled for 2024-09-10 to assess progress and outline next steps.\n",
    "The project completion date was finally confirmed as 2024-12-25, which concluded the year-long initiative.'''"
   ]
  },
  {
   "cell_type": "code",
   "execution_count": 223,
   "id": "6b047318-cdf4-465d-a97f-b261956a8bbb",
   "metadata": {},
   "outputs": [
    {
     "data": {
      "text/plain": [
       "'The project start date was 15/01/2024, which marked the beginning of the initial phase.\\nThe preliminary review took place on 22/03/2024, where key objectives were evaluated.\\nThe final submission deadline was set for 30/06/2024, by which all deliverables were required.\\nA follow-up meeting was scheduled for 10/09/2024 to assess progress and outline next steps.\\nThe project completion date was finally confirmed as 25/12/2024, which concluded the year-long initiative.'"
      ]
     },
     "execution_count": 223,
     "metadata": {},
     "output_type": "execute_result"
    }
   ],
   "source": [
    "conver_date(t)"
   ]
  },
  {
   "cell_type": "code",
   "execution_count": null,
   "id": "ed6a4cb5-6fd4-4b41-b540-d4613f0d9fee",
   "metadata": {},
   "outputs": [],
   "source": []
  },
  {
   "cell_type": "code",
   "execution_count": null,
   "id": "9a567824-fb49-436c-9c3e-ddf87998093d",
   "metadata": {},
   "outputs": [],
   "source": []
  },
  {
   "cell_type": "code",
   "execution_count": null,
   "id": "b24cb95a-7abb-48d2-a94e-45d72791fe80",
   "metadata": {},
   "outputs": [],
   "source": []
  },
  {
   "cell_type": "code",
   "execution_count": null,
   "id": "00273156-26cb-4d49-bdbe-5c271e0bd383",
   "metadata": {},
   "outputs": [],
   "source": []
  },
  {
   "cell_type": "code",
   "execution_count": null,
   "id": "132c0f11-2ffe-4414-978c-458d8a20f7bc",
   "metadata": {},
   "outputs": [],
   "source": []
  },
  {
   "cell_type": "code",
   "execution_count": null,
   "id": "383d163c-21ab-4e40-8c90-19af8569c8fd",
   "metadata": {},
   "outputs": [],
   "source": []
  }
 ],
 "metadata": {
  "kernelspec": {
   "display_name": "Python 3 (ipykernel)",
   "language": "python",
   "name": "python3"
  },
  "language_info": {
   "codemirror_mode": {
    "name": "ipython",
    "version": 3
   },
   "file_extension": ".py",
   "mimetype": "text/x-python",
   "name": "python",
   "nbconvert_exporter": "python",
   "pygments_lexer": "ipython3",
   "version": "3.12.4"
  }
 },
 "nbformat": 4,
 "nbformat_minor": 5
}
