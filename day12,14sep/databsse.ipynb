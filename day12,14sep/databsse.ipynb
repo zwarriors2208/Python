{
 "cells": [
  {
   "cell_type": "code",
   "execution_count": 1,
   "id": "d5406161-4cd4-492c-989e-05c981c5f3e5",
   "metadata": {},
   "outputs": [],
   "source": [
    "import sqlite3"
   ]
  },
  {
   "cell_type": "code",
   "execution_count": 3,
   "id": "9fd687fb-0079-4c36-9627-2f2c27de5fbc",
   "metadata": {},
   "outputs": [],
   "source": [
    "    conn=sqlite3.connect('DAIBatch2024.db')\n",
    "    cursor=conn.cursor()"
   ]
  },
  {
   "cell_type": "code",
   "execution_count": 4,
   "id": "1ba441d0-1334-447c-be73-4b762335019d",
   "metadata": {},
   "outputs": [
    {
     "name": "stdout",
     "output_type": "stream",
     "text": [
      "All records: \n",
      "\n",
      "Order By clause: \n",
      "\n",
      "(2, 'Mayuresh', 25)\n",
      "(4, 'Srujan', 25)\n",
      "(6, 'Mayuresh', 25)\n",
      "(8, 'Srujan', 25)\n",
      "(10, 'Mayuresh', 25)\n",
      "(12, 'Srujan', 25)\n",
      "(14, 'Mayuresh', 25)\n",
      "(16, 'Srujan', 25)\n",
      "(18, 'Mayuresh', 25)\n",
      "(20, 'Srujan', 25)\n",
      "(22, 'Mayuresh', 25)\n",
      "(24, 'Srujan', 25)\n",
      "(26, 'Mayuresh', 25)\n",
      "(28, 'Srujan', 25)\n",
      "(30, 'Mayuresh', 25)\n",
      "(32, 'Srujan', 25)\n",
      "(1, 'Mayura', 30)\n",
      "(3, 'Sugandha', 30)\n",
      "(5, 'Mayura', 30)\n",
      "(7, 'Sugandha', 30)\n",
      "(9, 'Mayura', 30)\n",
      "(11, 'Sugandha', 30)\n",
      "(13, 'Mayura', 30)\n",
      "(15, 'Sugandha', 30)\n",
      "(17, 'Mayura', 30)\n",
      "(19, 'Sugandha', 30)\n",
      "(21, 'Mayura', 30)\n",
      "(23, 'Sugandha', 30)\n",
      "(25, 'Mayura', 30)\n",
      "(27, 'Sugandha', 30)\n",
      "(29, 'Mayura', 30)\n",
      "(31, 'Sugandha', 30)\n",
      "\n",
      " Users grouped by age with count:\n",
      "(25, 16)\n",
      "(30, 16)\n",
      "[(1, 'Mayura', 22), (5, 'Mayura', 22), (9, 'Mayura', 22), (13, 'Mayura', 22), (17, 'Mayura', 22), (21, 'Mayura', 22), (25, 'Mayura', 22), (29, 'Mayura', 22)]\n"
     ]
    }
   ],
   "source": [
    "try:\n",
    "    # cursor.execute(\"drop table users\")\n",
    "    cursor.execute(''' CREATE TABLE IF NOT EXISTS users (id INTEGER PRIMARY KEY,name TEXT,age INTEGER)''')\n",
    "    cursor.execute(\"INSERT INTO users (name, age) VALUES ('Mayura',30)\")\n",
    "    cursor.execute(\"INSERT INTO users (name, age) VALUES ('Mayuresh',25)\")\n",
    "    cursor.execute(\"INSERT INTO users (name, age) VALUES ('Sugandha',30)\")\n",
    "    cursor.execute(\"INSERT INTO users (name, age) VALUES ('Srujan',25)\")\n",
    "    \n",
    "    conn.commit()\n",
    "    print(\"All records: \\n\")\n",
    "    cursor.execute(\"SELECT * FROM users\")\n",
    "    print(\"Order By clause: \\n\")\n",
    "    cursor.execute(\"SELECT * FROM users ORDER BY age\")\n",
    "    while True:\n",
    "        row = cursor.fetchone()\n",
    "        if row is None:\n",
    "            break\n",
    "        print(row)\n",
    "    print(\"\\n Users grouped by age with count:\")\n",
    "    cursor.execute(\"SELECT age, COUNT (*) as count FROM users GROUP BY age\")\n",
    "    results= cursor.fetchall()\n",
    "    for row in results:\n",
    "        print(row)\n",
    "    \n",
    "    cursor.execute(\"UPDATE users SET age = 22 WHERE name= 'Mayura'\")\n",
    "    results=cursor.fetchall()\n",
    "    for row in results:\n",
    "        print(row)\n",
    "    \n",
    "    cursor.execute(\"SELECT * FROM users where name like 'Mayura'\")\n",
    "    results=cursor.fetchall()\n",
    "    print(results)\n",
    "    \n",
    "except Exceptions:\n",
    "    print(\"there was error\")\n",
    "finally:\n",
    "    cursor.close()\n",
    "    conn.close()"
   ]
  },
  {
   "cell_type": "code",
   "execution_count": 5,
   "id": "adaa0851-b800-44a7-a790-83e02929881a",
   "metadata": {},
   "outputs": [],
   "source": [
    "conn=sqlite3.connect('company.db')\n",
    "conn.execute(\"PRAGMA foreign_keys= 1\")\n",
    "cursor=conn.cursor()\n",
    "\n",
    "cursor.execute(''' CREATE TABLE IF NOT EXISTS departments (department_id INTEGER PRIMARY KEY, department_name TEXT NOT NULL)''')\n",
    "\n",
    "cursor.execute(''' CREATE TABLE IF NOT EXISTS employees (employee_id INTEGER PRIMARY KEY, employee_name TEXT NOT NULL, department_id INTEGER, FOREIGN KEY (department_id) REFERENCES departments (department_id) )''')\n",
    "\n",
    "cursor.execute('CREATE INDEX IF NOT EXISTS idx_employee_name ON employees (employee_name)')\n",
    "cursor.execute('CREATE INDEX IF NOT EXISTS idx_department_name ON departments (department_name)')\n",
    "\n",
    "cursor.execute(\"INSERT INTO departments (department_name) VALUES ('Human Resources')\")\n",
    "cursor.execute(\"INSERT INTO departments (department_name) VALUES ('Engineering')\")\n",
    "cursor.execute(\"INSERT INTO departments (department_name) VALUES ('Sales')\")\n",
    "\n",
    "cursor.execute(\"INSERT INTO employees (employee_name, department_id) VALUES ('Mayura',1), ('Mayuresh', 2), ('Sugandha', 2), ('Srujan',3)\")\n",
    "conn.commit()"
   ]
  },
  {
   "cell_type": "code",
   "execution_count": 6,
   "id": "aaa0add4-0056-4335-ab89-27928f74de3f",
   "metadata": {},
   "outputs": [
    {
     "name": "stdout",
     "output_type": "stream",
     "text": [
      "(1, 'Human Resources')\n",
      "(2, 'Engineering')\n",
      "(3, 'Sales')\n"
     ]
    }
   ],
   "source": [
    "cursor.execute('SELECT * from departments')\n",
    "results = cursor.fetchall()\n",
    "for row in results:\n",
    "    print(row)"
   ]
  },
  {
   "cell_type": "code",
   "execution_count": 7,
   "id": "dfc8e8ae-c392-4912-a20e-253307d1fc73",
   "metadata": {},
   "outputs": [
    {
     "name": "stdout",
     "output_type": "stream",
     "text": [
      "(1, 'Mayura', 1)\n",
      "(2, 'Mayuresh', 2)\n",
      "(3, 'Sugandha', 2)\n",
      "(4, 'Srujan', 3)\n"
     ]
    }
   ],
   "source": [
    "cursor.execute('SELECT * from employees')\n",
    "results = cursor.fetchall()\n",
    "for row in results:\n",
    "    print(row)"
   ]
  },
  {
   "cell_type": "code",
   "execution_count": 8,
   "id": "6f1e83f3-ee88-436b-b81a-e5e9f0089a78",
   "metadata": {},
   "outputs": [
    {
     "name": "stdout",
     "output_type": "stream",
     "text": [
      "employees and theoir department:\n",
      "(1, 'Mayura', 1, 1, 'Human Resources')\n",
      "(2, 'Mayuresh', 2, 2, 'Engineering')\n",
      "(3, 'Sugandha', 2, 2, 'Engineering')\n",
      "(4, 'Srujan', 3, 3, 'Sales')\n"
     ]
    }
   ],
   "source": [
    "print('employees and theoir department:')\n",
    "cursor.execute('''SELECT * from employees JOIN departments ON employees.department_id = departments.department_id''')\n",
    "results = cursor.fetchall()\n",
    "for row in results:\n",
    "    print(row)"
   ]
  },
  {
   "cell_type": "code",
   "execution_count": 15,
   "id": "60b09652-978b-4bd6-abc5-46db1b1abd0d",
   "metadata": {},
   "outputs": [
    {
     "data": {
      "text/plain": [
       "<sqlite3.Cursor at 0x29f3a417540>"
      ]
     },
     "execution_count": 15,
     "metadata": {},
     "output_type": "execute_result"
    }
   ],
   "source": [
    "cursor.execute(\"drop table employees\")\n",
    "cursor.execute(\"drop table departments\")"
   ]
  },
  {
   "cell_type": "code",
   "execution_count": 17,
   "id": "173f000b-875e-4cbb-86a5-4a5407b34c4c",
   "metadata": {},
   "outputs": [],
   "source": [
    "cursor.close()\n",
    "conn.close()"
   ]
  },
  {
   "cell_type": "code",
   "execution_count": null,
   "id": "fdb83df9-1776-4165-9ca8-54ea353444ff",
   "metadata": {},
   "outputs": [],
   "source": []
  },
  {
   "cell_type": "code",
   "execution_count": null,
   "id": "fcc71944-fa21-4354-980c-76a44133a9fa",
   "metadata": {},
   "outputs": [],
   "source": []
  }
 ],
 "metadata": {
  "kernelspec": {
   "display_name": "Python 3 (ipykernel)",
   "language": "python",
   "name": "python3"
  },
  "language_info": {
   "codemirror_mode": {
    "name": "ipython",
    "version": 3
   },
   "file_extension": ".py",
   "mimetype": "text/x-python",
   "name": "python",
   "nbconvert_exporter": "python",
   "pygments_lexer": "ipython3",
   "version": "3.12.4"
  }
 },
 "nbformat": 4,
 "nbformat_minor": 5
}
