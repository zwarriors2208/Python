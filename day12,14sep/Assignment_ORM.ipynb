{
 "cells": [
  {
   "cell_type": "code",
   "execution_count": 12,
   "id": "d8b431b4-85d8-42a5-b68d-3eb4d4612862",
   "metadata": {},
   "outputs": [],
   "source": [
    "from sqlalchemy import create_engine, MetaData, Column, Integer,String,Float,Sequence\n",
    "from sqlalchemy.orm import declarative_base, sessionmaker\n",
    "from sqlalchemy import inspect"
   ]
  },
  {
   "cell_type": "code",
   "execution_count": 14,
   "id": "c0d46e25-ed65-4c8d-84ad-ee6bb08db330",
   "metadata": {},
   "outputs": [],
   "source": [
    "engine = create_engine('sqlite:///school_orm.db')\n",
    "Base = declarative_base()"
   ]
  },
  {
   "cell_type": "code",
   "execution_count": 16,
   "id": "5e711f9b-8917-4a96-b99a-95cb9b0820af",
   "metadata": {},
   "outputs": [],
   "source": [
    "class student(Base):\n",
    "    __tablename__ = 'students'\n",
    "    id = Column(Integer, Sequence('student_id_seq'), primary_key = True)\n",
    "    name = Column(String(50))\n",
    "    subject_id = Column(Integer, unique = True)\n",
    "    marks = Column(Integer)\n",
    "\n"
   ]
  },
  {
   "cell_type": "code",
   "execution_count": 18,
   "id": "a17322ed-d74c-4564-ad9b-62ff28626d90",
   "metadata": {},
   "outputs": [],
   "source": [
    "metadata =MetaData()\n",
    "metadata.reflect(bind = engine)\n",
    "Base.metadata.create_all(engine)"
   ]
  },
  {
   "cell_type": "code",
   "execution_count": 20,
   "id": "0e703985-2b09-43c0-b3a3-453d786e907f",
   "metadata": {},
   "outputs": [],
   "source": [
    "students = metadata.tables['students']\n",
    "inspector = inspect(engine)\n",
    "columns = inspector.get_columns('students')\n",
    "\n"
   ]
  },
  {
   "cell_type": "code",
   "execution_count": 22,
   "id": "318f526d-2ea6-48f9-bfb6-f10d753f2f45",
   "metadata": {},
   "outputs": [],
   "source": [
    "Session = sessionmaker(bind = engine)\n",
    "session = Session()\n",
    "students = [\n",
    "    student(name = 'adarsh', subject_id = 1, marks = 98),\n",
    "    student(name = 'anu', subject_id = 4, marks = 96),\n",
    "    student(name = 'ankit', subject_id = 2, marks = 94),\n",
    "]\n",
    "session.add_all(students)\n",
    "session.commit()\n",
    "all_employees = session.query(student).all()"
   ]
  },
  {
   "cell_type": "code",
   "execution_count": 24,
   "id": "9da52f31-03b4-40b3-8476-ff8de1238f8c",
   "metadata": {},
   "outputs": [
    {
     "name": "stdout",
     "output_type": "stream",
     "text": [
      "1: adarsh - 98\n",
      "2: anu - 96\n",
      "3: ankit - 94\n"
     ]
    }
   ],
   "source": [
    "for std in all_employees:\n",
    "    print(f\"{std.id}: {std.name} - {std.marks}\")"
   ]
  },
  {
   "cell_type": "code",
   "execution_count": 26,
   "id": "687ccee5-6ba3-4107-81a1-9261e199e3aa",
   "metadata": {},
   "outputs": [],
   "source": [
    "# Base.metadata.drop_all(engine, tables=[student.__table__])\n",
    "Base.metadata.drop_all(engine)"
   ]
  },
  {
   "cell_type": "code",
   "execution_count": null,
   "id": "99f7708f-93ee-4c81-8ca5-7c30738cd76a",
   "metadata": {},
   "outputs": [],
   "source": []
  },
  {
   "cell_type": "code",
   "execution_count": null,
   "id": "d52e0d8b-400b-447b-83ba-93feb018c924",
   "metadata": {},
   "outputs": [],
   "source": []
  }
 ],
 "metadata": {
  "kernelspec": {
   "display_name": "Python 3 (ipykernel)",
   "language": "python",
   "name": "python3"
  },
  "language_info": {
   "codemirror_mode": {
    "name": "ipython",
    "version": 3
   },
   "file_extension": ".py",
   "mimetype": "text/x-python",
   "name": "python",
   "nbconvert_exporter": "python",
   "pygments_lexer": "ipython3",
   "version": "3.12.4"
  }
 },
 "nbformat": 4,
 "nbformat_minor": 5
}
