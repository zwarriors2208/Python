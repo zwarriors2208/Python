{
 "cells": [
  {
   "cell_type": "code",
   "execution_count": 27,
   "id": "eeac2f77-39a3-4ce9-8c7c-1ad4e27c4e43",
   "metadata": {},
   "outputs": [],
   "source": [
    "import sqlite3\n"
   ]
  },
  {
   "cell_type": "code",
   "execution_count": 29,
   "id": "08d03baa-5710-4d75-ad92-6c4be681df35",
   "metadata": {},
   "outputs": [],
   "source": [
    "conn=sqlite3.connect('schol.db')\n",
    "conn.execute(\"PRAGMA foreign_keys= 1\")\n",
    "cursor=conn.cursor()\n",
    "\n",
    "cursor.execute(''' CREATE TABLE IF NOT EXISTS subjects (subject_id INTEGER PRIMARY KEY, subject_name TEXT NOT NULL)''')\n",
    "\n",
    "cursor.execute(''' CREATE TABLE IF NOT EXISTS students (student_id INTEGER PRIMARY KEY, student_name TEXT NOT NULL, subject_id INTEGER,marks INTEGER, FOREIGN KEY (subject_id) REFERENCES subjects (subject_id) )''')\n",
    "\n",
    "cursor.execute('CREATE INDEX IF NOT EXISTS idx_student_name ON students (student_name)')\n",
    "cursor.execute('CREATE INDEX IF NOT EXISTS idx_subject_name ON subjects (subject_name)')\n",
    "\n",
    "cursor.execute(\"INSERT INTO subjects (subject_name) VALUES ('math'),('python'), ('data science'), ('aptitude')\")\n",
    "# cursor.execute(\"INSERT INTO departments (department_name) VALUES ('Engineering')\")\n",
    "# cursor.execute(\"INSERT INTO departments (department_name) VALUES ('Sales')\")\n",
    "\n",
    "cursor.execute(\"INSERT INTO students (student_name, subject_id, marks) VALUES ('Mayura',1, 99), ('Mayuresh', 2,78), ('Sugandha', 3,98), ('Srujan',4,67)\")\n",
    "conn.commit()"
   ]
  },
  {
   "cell_type": "code",
   "execution_count": 31,
   "id": "c2516de3-3406-4028-b870-8254db5ac213",
   "metadata": {},
   "outputs": [
    {
     "name": "stdout",
     "output_type": "stream",
     "text": [
      "(1, 'math')\n",
      "(2, 'python')\n",
      "(3, 'data science')\n",
      "(4, 'aptitude')\n"
     ]
    }
   ],
   "source": [
    "cursor.execute(\"select * from subjects\")\n",
    "results = cursor.fetchall()\n",
    "for row in results:\n",
    "    print(row)"
   ]
  },
  {
   "cell_type": "code",
   "execution_count": 33,
   "id": "1c0caeb9-0062-421b-a3bb-d43a934c22d8",
   "metadata": {},
   "outputs": [
    {
     "name": "stdout",
     "output_type": "stream",
     "text": [
      "(1, 'Mayura', 1, 99)\n",
      "(2, 'Mayuresh', 2, 78)\n",
      "(3, 'Sugandha', 3, 98)\n",
      "(4, 'Srujan', 4, 67)\n"
     ]
    }
   ],
   "source": [
    "cursor.execute(\"select * from students\")\n",
    "results = cursor.fetchall()\n",
    "for row in results:\n",
    "    print(row)"
   ]
  },
  {
   "cell_type": "code",
   "execution_count": 35,
   "id": "a25a6c46-a272-4f65-9468-8b1b55d3c4be",
   "metadata": {},
   "outputs": [
    {
     "name": "stdout",
     "output_type": "stream",
     "text": [
      "('Mayura', 'math', 99)\n",
      "('Mayuresh', 'python', 78)\n",
      "('Sugandha', 'data science', 98)\n",
      "('Srujan', 'aptitude', 67)\n"
     ]
    }
   ],
   "source": [
    "cursor.execute(\"SELECT students.student_name, subjects.subject_name, students.marks from students join subjects on subjects.subject_id = students.subject_id\")\n",
    "results = cursor.fetchall()\n",
    "for row in results:\n",
    "    print(row)"
   ]
  },
  {
   "cell_type": "code",
   "execution_count": 37,
   "id": "dc2152a2-5645-4e4a-9095-4180de46b333",
   "metadata": {},
   "outputs": [
    {
     "data": {
      "text/plain": [
       "<sqlite3.Cursor at 0x159698731c0>"
      ]
     },
     "execution_count": 37,
     "metadata": {},
     "output_type": "execute_result"
    }
   ],
   "source": [
    "cursor.execute(\"drop table students\")\n",
    "cursor.execute(\"drop table subjects\")"
   ]
  },
  {
   "cell_type": "code",
   "execution_count": 40,
   "id": "0737ee84-c8ca-45c4-9934-f9e0478b3758",
   "metadata": {},
   "outputs": [],
   "source": [
    "cursor.close()\n",
    "conn.close()"
   ]
  },
  {
   "cell_type": "code",
   "execution_count": null,
   "id": "78508a04-dc76-47d4-b384-6e1038fd5404",
   "metadata": {},
   "outputs": [],
   "source": []
  }
 ],
 "metadata": {
  "kernelspec": {
   "display_name": "Python 3 (ipykernel)",
   "language": "python",
   "name": "python3"
  },
  "language_info": {
   "codemirror_mode": {
    "name": "ipython",
    "version": 3
   },
   "file_extension": ".py",
   "mimetype": "text/x-python",
   "name": "python",
   "nbconvert_exporter": "python",
   "pygments_lexer": "ipython3",
   "version": "3.12.4"
  }
 },
 "nbformat": 4,
 "nbformat_minor": 5
}
