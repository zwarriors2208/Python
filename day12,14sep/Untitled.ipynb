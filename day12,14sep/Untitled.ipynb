{
 "cells": [
  {
   "cell_type": "code",
   "execution_count": 1,
   "id": "162d2895-6cae-4779-98aa-3a7c0e5245fe",
   "metadata": {},
   "outputs": [],
   "source": [
    "import sqlite3"
   ]
  },
  {
   "cell_type": "code",
   "execution_count": 4,
   "id": "5d69725b-3eef-4776-9b9c-cd1c13a40182",
   "metadata": {},
   "outputs": [],
   "source": [
    "conn = sqlite3.connect('school.db')\n",
    "cursor = conn.cursor()\n"
   ]
  },
  {
   "cell_type": "code",
   "execution_count": 8,
   "id": "dd0aba72-b4de-497c-b6ad-af7d28f408b5",
   "metadata": {},
   "outputs": [
    {
     "data": {
      "text/plain": [
       "<sqlite3.Cursor at 0x2b1a8b453c0>"
      ]
     },
     "execution_count": 8,
     "metadata": {},
     "output_type": "execute_result"
    }
   ],
   "source": [
    "cursor.execute('''\n",
    "CREATE TABLE stuents(id INTEGER PRIMARY KEY, name TEXT, age INTEGER, grade TEXT)''')"
   ]
  },
  {
   "cell_type": "code",
   "execution_count": 10,
   "id": "296fb62d-4d2a-4a1d-b848-da8f0d315dcb",
   "metadata": {},
   "outputs": [
    {
     "data": {
      "text/plain": [
       "<sqlite3.Cursor at 0x2b1a8b453c0>"
      ]
     },
     "execution_count": 10,
     "metadata": {},
     "output_type": "execute_result"
    }
   ],
   "source": [
    "cursor.execute('''create table courses(id INTEGER PRIMARY KEY, course_name TEXT, instructor TEXT)''')"
   ]
  },
  {
   "cell_type": "code",
   "execution_count": 18,
   "id": "a9cdd1bb-431c-412b-8a89-69fe60d905f8",
   "metadata": {},
   "outputs": [
    {
     "data": {
      "text/plain": [
       "<sqlite3.Cursor at 0x2b1a8b453c0>"
      ]
     },
     "execution_count": 18,
     "metadata": {},
     "output_type": "execute_result"
    }
   ],
   "source": [
    "cursor.execute(\"INSERT INTO stuents VALUES (1, 'ankit', 23, 'A+'),(2, 'adarsh', 21, 'E'),(3, 'b', 32,'f'),(4, 'sd', 98, 's')\")"
   ]
  },
  {
   "cell_type": "code",
   "execution_count": 20,
   "id": "11ab4aad-74a2-4e2b-8e85-137b8c3f9fad",
   "metadata": {},
   "outputs": [
    {
     "data": {
      "text/plain": [
       "<sqlite3.Cursor at 0x2b1a8b453c0>"
      ]
     },
     "execution_count": 20,
     "metadata": {},
     "output_type": "execute_result"
    }
   ],
   "source": [
    "cursor.execute(\"INSERT INTO courses VALUES (54, 'dai', 'anjali'),(43,'dbda','vishwa'),(35, 'dac', 'elena')\")"
   ]
  },
  {
   "cell_type": "code",
   "execution_count": 22,
   "id": "cc8cb8b8-8a5e-4f12-aa14-786093a82e94",
   "metadata": {},
   "outputs": [
    {
     "data": {
      "text/plain": [
       "<sqlite3.Cursor at 0x2b1a8b453c0>"
      ]
     },
     "execution_count": 22,
     "metadata": {},
     "output_type": "execute_result"
    }
   ],
   "source": [
    "cursor.execute(\"SELECT * from stuents WHERE grade = 'A+' \")"
   ]
  },
  {
   "cell_type": "code",
   "execution_count": 25,
   "id": "fd31a39b-2a6d-4266-bf5c-8996a3877562",
   "metadata": {},
   "outputs": [
    {
     "name": "stdout",
     "output_type": "stream",
     "text": [
      "(1, 'ankit', 23, 'A+')\n"
     ]
    }
   ],
   "source": [
    "results= cursor.fetchall()\n",
    "for row in results:\n",
    "    print(row)"
   ]
  },
  {
   "cell_type": "code",
   "execution_count": 27,
   "id": "fd93a4f5-170b-4cba-9f9d-92f29b6541f9",
   "metadata": {},
   "outputs": [
    {
     "data": {
      "text/plain": [
       "<sqlite3.Cursor at 0x2b1a8b453c0>"
      ]
     },
     "execution_count": 27,
     "metadata": {},
     "output_type": "execute_result"
    }
   ],
   "source": [
    "cursor.execute(\"SELECT * from courses ORDER BY course_name ASC\")"
   ]
  },
  {
   "cell_type": "code",
   "execution_count": 29,
   "id": "795f7e33-0804-4f1f-acc7-1e6857a3cc53",
   "metadata": {},
   "outputs": [
    {
     "name": "stdout",
     "output_type": "stream",
     "text": [
      "(35, 'dac', 'elena')\n",
      "(54, 'dai', 'anjali')\n",
      "(43, 'dbda', 'vishwa')\n"
     ]
    }
   ],
   "source": [
    "results= cursor.fetchall()\n",
    "for row in results:\n",
    "    print(row)"
   ]
  },
  {
   "cell_type": "code",
   "execution_count": 33,
   "id": "5c256ed4-4e05-4273-a9a5-018cc8392a48",
   "metadata": {},
   "outputs": [
    {
     "data": {
      "text/plain": [
       "<sqlite3.Cursor at 0x2b1a8b453c0>"
      ]
     },
     "execution_count": 33,
     "metadata": {},
     "output_type": "execute_result"
    }
   ],
   "source": [
    "cursor.execute(\"UPDATE stuents SET grade = 'A+' WHERE id= 3\")"
   ]
  },
  {
   "cell_type": "code",
   "execution_count": 35,
   "id": "1304d661-475f-4560-9062-c70a1c19de1f",
   "metadata": {},
   "outputs": [],
   "source": [
    "results= cursor.fetchall()\n",
    "for row in results:\n",
    "    print(row)"
   ]
  },
  {
   "cell_type": "code",
   "execution_count": 37,
   "id": "db29cf1c-0cff-42da-88cf-43c93ac6d1fc",
   "metadata": {},
   "outputs": [
    {
     "data": {
      "text/plain": [
       "<sqlite3.Cursor at 0x2b1a8b453c0>"
      ]
     },
     "execution_count": 37,
     "metadata": {},
     "output_type": "execute_result"
    }
   ],
   "source": [
    "cursor.execute(\"SELECT * FROM stuents\")"
   ]
  },
  {
   "cell_type": "code",
   "execution_count": 39,
   "id": "d4023fa1-76cd-4a16-86ae-d51766c1eae9",
   "metadata": {},
   "outputs": [
    {
     "name": "stdout",
     "output_type": "stream",
     "text": [
      "(1, 'ankit', 23, 'A+')\n",
      "(2, 'adarsh', 21, 'E')\n",
      "(3, 'b', 32, 'A+')\n",
      "(4, 'sd', 98, 's')\n"
     ]
    }
   ],
   "source": [
    "results= cursor.fetchall()\n",
    "for row in results:\n",
    "    print(row)"
   ]
  },
  {
   "cell_type": "code",
   "execution_count": 45,
   "id": "a5859fb2-3c8e-4182-96e7-8f7d4b258ef8",
   "metadata": {},
   "outputs": [
    {
     "data": {
      "text/plain": [
       "<sqlite3.Cursor at 0x2b1a8b453c0>"
      ]
     },
     "execution_count": 45,
     "metadata": {},
     "output_type": "execute_result"
    }
   ],
   "source": [
    "cursor.execute(\"UPDATE courses SET instructor = 'Awin' WHERE id= 43\")"
   ]
  },
  {
   "cell_type": "code",
   "execution_count": 47,
   "id": "791210ae-bcab-4311-90e9-9b83086523e8",
   "metadata": {},
   "outputs": [
    {
     "name": "stdout",
     "output_type": "stream",
     "text": [
      "(35, 'dac', 'elena')\n",
      "(43, 'dbda', 'Awin')\n",
      "(54, 'dai', 'anjali')\n"
     ]
    }
   ],
   "source": [
    "cursor.execute(\"SELECT * FROM courses\")\n",
    "results= cursor.fetchall()\n",
    "for row in results:\n",
    "    print(row)"
   ]
  },
  {
   "cell_type": "code",
   "execution_count": 51,
   "id": "c0599b29-2f48-4c98-a533-e612e1398bb8",
   "metadata": {},
   "outputs": [
    {
     "name": "stdout",
     "output_type": "stream",
     "text": [
      "(1, 'ankit', 23, 'A+')\n",
      "(2, 'adarsh', 21, 'E')\n",
      "(3, 'b', 32, 'A+')\n"
     ]
    }
   ],
   "source": [
    "cursor.execute(\"DELETE from stuents WHERE id = '4'\")\n",
    "cursor.execute(\"SELECT * from stuents\")\n",
    "results= cursor.fetchall()\n",
    "for row in results:\n",
    "    print(row)"
   ]
  },
  {
   "cell_type": "code",
   "execution_count": 59,
   "id": "3e575b91-14c3-4ce4-8574-a96a2e9ee058",
   "metadata": {},
   "outputs": [
    {
     "data": {
      "text/plain": [
       "<sqlite3.Cursor at 0x2b1a8b453c0>"
      ]
     },
     "execution_count": 59,
     "metadata": {},
     "output_type": "execute_result"
    }
   ],
   "source": [
    "cursor.execute(\"DROP table stuents\")"
   ]
  },
  {
   "cell_type": "code",
   "execution_count": 61,
   "id": "60d0033b-cd51-43ed-949c-eef9d4102c87",
   "metadata": {},
   "outputs": [
    {
     "data": {
      "text/plain": [
       "<sqlite3.Cursor at 0x2b1a8b453c0>"
      ]
     },
     "execution_count": 61,
     "metadata": {},
     "output_type": "execute_result"
    }
   ],
   "source": [
    "cursor.execute(\"DROP table courses\")"
   ]
  },
  {
   "cell_type": "code",
   "execution_count": null,
   "id": "d6a27d75-a411-4906-a55e-b85db4d3c925",
   "metadata": {},
   "outputs": [],
   "source": []
  }
 ],
 "metadata": {
  "kernelspec": {
   "display_name": "Python 3 (ipykernel)",
   "language": "python",
   "name": "python3"
  },
  "language_info": {
   "codemirror_mode": {
    "name": "ipython",
    "version": 3
   },
   "file_extension": ".py",
   "mimetype": "text/x-python",
   "name": "python",
   "nbconvert_exporter": "python",
   "pygments_lexer": "ipython3",
   "version": "3.12.4"
  }
 },
 "nbformat": 4,
 "nbformat_minor": 5
}
