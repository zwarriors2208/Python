{
 "cells": [
  {
   "cell_type": "code",
   "execution_count": 1,
   "id": "4244b017-2ad1-4619-838d-c0321e22c836",
   "metadata": {},
   "outputs": [],
   "source": [
    "from flask import Flask"
   ]
  },
  {
   "cell_type": "code",
   "execution_count": 27,
   "id": "168a61a1-a77f-452d-9a74-a06fd3df654c",
   "metadata": {},
   "outputs": [],
   "source": [
    "i = [8,9,0]\n",
    "y = [0,9,8]"
   ]
  },
  {
   "cell_type": "code",
   "execution_count": 5,
   "id": "532da230-f38d-4044-8f28-687e27e2bb80",
   "metadata": {},
   "outputs": [
    {
     "data": {
      "text/plain": [
       "False"
      ]
     },
     "execution_count": 5,
     "metadata": {},
     "output_type": "execute_result"
    }
   ],
   "source": [
    "i==y"
   ]
  },
  {
   "cell_type": "code",
   "execution_count": 13,
   "id": "17d5de99-df2a-4a06-a5a7-a41dadc51651",
   "metadata": {},
   "outputs": [
    {
     "data": {
      "text/plain": [
       "<enumerate at 0x274aeb38090>"
      ]
     },
     "execution_count": 13,
     "metadata": {},
     "output_type": "execute_result"
    }
   ],
   "source": [
    "a = [i,y]\n",
    "enumerate(a)"
   ]
  },
  {
   "cell_type": "code",
   "execution_count": 15,
   "id": "bfc5ffa1-ac2f-460a-b91e-fdaab3ec1d2e",
   "metadata": {},
   "outputs": [
    {
     "data": {
      "text/plain": [
       "[0]"
      ]
     },
     "execution_count": 15,
     "metadata": {},
     "output_type": "execute_result"
    }
   ],
   "source": [
    "i[2:]"
   ]
  },
  {
   "cell_type": "code",
   "execution_count": 21,
   "id": "860c5571-174e-4c15-96a7-3414ee062956",
   "metadata": {},
   "outputs": [],
   "source": [
    "i"
   ]
  },
  {
   "cell_type": "code",
   "execution_count": 31,
   "id": "84de2a03-2905-41db-897e-78b66f4ce4ce",
   "metadata": {},
   "outputs": [
    {
     "name": "stdout",
     "output_type": "stream",
     "text": [
      "y\n"
     ]
    }
   ],
   "source": [
    "i.sort()\n",
    "y.sort()\n",
    "if i not in y:\n",
    "    print('y')"
   ]
  },
  {
   "cell_type": "code",
   "execution_count": 37,
   "id": "da4b2607-e049-4956-8831-3cb1050b3e44",
   "metadata": {},
   "outputs": [
    {
     "data": {
      "text/plain": [
       "True"
      ]
     },
     "execution_count": 37,
     "metadata": {},
     "output_type": "execute_result"
    }
   ],
   "source": [
    "i==y"
   ]
  },
  {
   "cell_type": "code",
   "execution_count": 35,
   "id": "74782bd9-ff4e-434c-88cf-c4d13365e035",
   "metadata": {},
   "outputs": [
    {
     "data": {
      "text/plain": [
       "[0, 8, 9]"
      ]
     },
     "execution_count": 35,
     "metadata": {},
     "output_type": "execute_result"
    }
   ],
   "source": [
    "y"
   ]
  },
  {
   "cell_type": "code",
   "execution_count": null,
   "id": "cabe4593-a7c0-4c85-b95a-3868fbca054d",
   "metadata": {},
   "outputs": [],
   "source": []
  }
 ],
 "metadata": {
  "kernelspec": {
   "display_name": "Python 3 (ipykernel)",
   "language": "python",
   "name": "python3"
  },
  "language_info": {
   "codemirror_mode": {
    "name": "ipython",
    "version": 3
   },
   "file_extension": ".py",
   "mimetype": "text/x-python",
   "name": "python",
   "nbconvert_exporter": "python",
   "pygments_lexer": "ipython3",
   "version": "3.12.4"
  }
 },
 "nbformat": 4,
 "nbformat_minor": 5
}
