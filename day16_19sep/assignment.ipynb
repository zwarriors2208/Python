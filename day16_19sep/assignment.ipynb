{
 "cells": [
  {
   "cell_type": "code",
   "execution_count": 4,
   "id": "360fd30c-001a-4c19-a15a-7571acbfe1bd",
   "metadata": {},
   "outputs": [],
   "source": [
    "import pandas as pd\n",
    "from plotnine import ggplot, aes, labs, geom_bar, scale_fill_manual"
   ]
  },
  {
   "cell_type": "code",
   "execution_count": 6,
   "id": "5394c400-d121-4052-88eb-b76f49a171b9",
   "metadata": {},
   "outputs": [
    {
     "data": {
      "text/html": [
       "<div>\n",
       "<style scoped>\n",
       "    .dataframe tbody tr th:only-of-type {\n",
       "        vertical-align: middle;\n",
       "    }\n",
       "\n",
       "    .dataframe tbody tr th {\n",
       "        vertical-align: top;\n",
       "    }\n",
       "\n",
       "    .dataframe thead th {\n",
       "        text-align: right;\n",
       "    }\n",
       "</style>\n",
       "<table border=\"1\" class=\"dataframe\">\n",
       "  <thead>\n",
       "    <tr style=\"text-align: right;\">\n",
       "      <th></th>\n",
       "      <th>ID</th>\n",
       "      <th>Name</th>\n",
       "      <th>Age</th>\n",
       "      <th>Photo</th>\n",
       "      <th>Nationality</th>\n",
       "      <th>Flag</th>\n",
       "      <th>Overall</th>\n",
       "      <th>Potential</th>\n",
       "      <th>Club</th>\n",
       "      <th>Club Logo</th>\n",
       "      <th>...</th>\n",
       "      <th>Marking</th>\n",
       "      <th>StandingTackle</th>\n",
       "      <th>SlidingTackle</th>\n",
       "      <th>GKDiving</th>\n",
       "      <th>GKHandling</th>\n",
       "      <th>GKKicking</th>\n",
       "      <th>GKPositioning</th>\n",
       "      <th>GKReflexes</th>\n",
       "      <th>Best Position</th>\n",
       "      <th>Best Overall Rating</th>\n",
       "    </tr>\n",
       "  </thead>\n",
       "  <tbody>\n",
       "    <tr>\n",
       "      <th>0</th>\n",
       "      <td>176580</td>\n",
       "      <td>L. Suárez</td>\n",
       "      <td>29</td>\n",
       "      <td>https://cdn.sofifa.com/players/176/580/17_60.png</td>\n",
       "      <td>Uruguay</td>\n",
       "      <td>https://cdn.sofifa.com/flags/uy.png</td>\n",
       "      <td>92</td>\n",
       "      <td>92</td>\n",
       "      <td>FC Barcelona</td>\n",
       "      <td>https://cdn.sofifa.com/teams/241/light_30.png</td>\n",
       "      <td>...</td>\n",
       "      <td>30.0</td>\n",
       "      <td>45.0</td>\n",
       "      <td>38.0</td>\n",
       "      <td>27.0</td>\n",
       "      <td>25.0</td>\n",
       "      <td>31.0</td>\n",
       "      <td>33.0</td>\n",
       "      <td>37.0</td>\n",
       "      <td>ST</td>\n",
       "      <td>88.0</td>\n",
       "    </tr>\n",
       "    <tr>\n",
       "      <th>1</th>\n",
       "      <td>178518</td>\n",
       "      <td>R. Nainggolan</td>\n",
       "      <td>28</td>\n",
       "      <td>https://cdn.sofifa.com/players/178/518/17_60.png</td>\n",
       "      <td>Belgium</td>\n",
       "      <td>https://cdn.sofifa.com/flags/be.png</td>\n",
       "      <td>86</td>\n",
       "      <td>86</td>\n",
       "      <td>Roma</td>\n",
       "      <td>https://cdn.sofifa.com/teams/52/light_30.png</td>\n",
       "      <td>...</td>\n",
       "      <td>78.0</td>\n",
       "      <td>85.0</td>\n",
       "      <td>88.0</td>\n",
       "      <td>11.0</td>\n",
       "      <td>11.0</td>\n",
       "      <td>14.0</td>\n",
       "      <td>8.0</td>\n",
       "      <td>11.0</td>\n",
       "      <td>CDM</td>\n",
       "      <td>84.0</td>\n",
       "    </tr>\n",
       "    <tr>\n",
       "      <th>2</th>\n",
       "      <td>181872</td>\n",
       "      <td>A. Vidal</td>\n",
       "      <td>29</td>\n",
       "      <td>https://cdn.sofifa.com/players/181/872/17_60.png</td>\n",
       "      <td>Chile</td>\n",
       "      <td>https://cdn.sofifa.com/flags/cl.png</td>\n",
       "      <td>87</td>\n",
       "      <td>87</td>\n",
       "      <td>FC Bayern München</td>\n",
       "      <td>https://cdn.sofifa.com/teams/21/light_30.png</td>\n",
       "      <td>...</td>\n",
       "      <td>76.0</td>\n",
       "      <td>89.0</td>\n",
       "      <td>84.0</td>\n",
       "      <td>4.0</td>\n",
       "      <td>2.0</td>\n",
       "      <td>4.0</td>\n",
       "      <td>2.0</td>\n",
       "      <td>4.0</td>\n",
       "      <td>CDM</td>\n",
       "      <td>85.0</td>\n",
       "    </tr>\n",
       "    <tr>\n",
       "      <th>3</th>\n",
       "      <td>197445</td>\n",
       "      <td>D. Alaba</td>\n",
       "      <td>24</td>\n",
       "      <td>https://cdn.sofifa.com/players/197/445/17_60.png</td>\n",
       "      <td>Austria</td>\n",
       "      <td>https://cdn.sofifa.com/flags/at.png</td>\n",
       "      <td>86</td>\n",
       "      <td>89</td>\n",
       "      <td>FC Bayern München</td>\n",
       "      <td>https://cdn.sofifa.com/teams/21/light_30.png</td>\n",
       "      <td>...</td>\n",
       "      <td>81.0</td>\n",
       "      <td>83.0</td>\n",
       "      <td>83.0</td>\n",
       "      <td>5.0</td>\n",
       "      <td>7.0</td>\n",
       "      <td>14.0</td>\n",
       "      <td>15.0</td>\n",
       "      <td>9.0</td>\n",
       "      <td>LB</td>\n",
       "      <td>84.0</td>\n",
       "    </tr>\n",
       "    <tr>\n",
       "      <th>4</th>\n",
       "      <td>195864</td>\n",
       "      <td>P. Pogba</td>\n",
       "      <td>23</td>\n",
       "      <td>https://cdn.sofifa.com/players/195/864/17_60.png</td>\n",
       "      <td>France</td>\n",
       "      <td>https://cdn.sofifa.com/flags/fr.png</td>\n",
       "      <td>88</td>\n",
       "      <td>94</td>\n",
       "      <td>Manchester United</td>\n",
       "      <td>https://cdn.sofifa.com/teams/11/light_30.png</td>\n",
       "      <td>...</td>\n",
       "      <td>68.0</td>\n",
       "      <td>73.0</td>\n",
       "      <td>73.0</td>\n",
       "      <td>5.0</td>\n",
       "      <td>6.0</td>\n",
       "      <td>2.0</td>\n",
       "      <td>4.0</td>\n",
       "      <td>3.0</td>\n",
       "      <td>CAM</td>\n",
       "      <td>85.0</td>\n",
       "    </tr>\n",
       "  </tbody>\n",
       "</table>\n",
       "<p>5 rows × 63 columns</p>\n",
       "</div>"
      ],
      "text/plain": [
       "       ID            Name  Age  \\\n",
       "0  176580       L. Suárez   29   \n",
       "1  178518   R. Nainggolan   28   \n",
       "2  181872        A. Vidal   29   \n",
       "3  197445        D. Alaba   24   \n",
       "4  195864        P. Pogba   23   \n",
       "\n",
       "                                              Photo Nationality  \\\n",
       "0  https://cdn.sofifa.com/players/176/580/17_60.png     Uruguay   \n",
       "1  https://cdn.sofifa.com/players/178/518/17_60.png     Belgium   \n",
       "2  https://cdn.sofifa.com/players/181/872/17_60.png       Chile   \n",
       "3  https://cdn.sofifa.com/players/197/445/17_60.png     Austria   \n",
       "4  https://cdn.sofifa.com/players/195/864/17_60.png      France   \n",
       "\n",
       "                                  Flag  Overall  Potential               Club  \\\n",
       "0  https://cdn.sofifa.com/flags/uy.png       92         92       FC Barcelona   \n",
       "1  https://cdn.sofifa.com/flags/be.png       86         86               Roma   \n",
       "2  https://cdn.sofifa.com/flags/cl.png       87         87  FC Bayern München   \n",
       "3  https://cdn.sofifa.com/flags/at.png       86         89  FC Bayern München   \n",
       "4  https://cdn.sofifa.com/flags/fr.png       88         94  Manchester United   \n",
       "\n",
       "                                       Club Logo  ... Marking StandingTackle  \\\n",
       "0  https://cdn.sofifa.com/teams/241/light_30.png  ...    30.0           45.0   \n",
       "1   https://cdn.sofifa.com/teams/52/light_30.png  ...    78.0           85.0   \n",
       "2   https://cdn.sofifa.com/teams/21/light_30.png  ...    76.0           89.0   \n",
       "3   https://cdn.sofifa.com/teams/21/light_30.png  ...    81.0           83.0   \n",
       "4   https://cdn.sofifa.com/teams/11/light_30.png  ...    68.0           73.0   \n",
       "\n",
       "   SlidingTackle GKDiving  GKHandling  GKKicking  GKPositioning GKReflexes  \\\n",
       "0           38.0     27.0        25.0       31.0           33.0       37.0   \n",
       "1           88.0     11.0        11.0       14.0            8.0       11.0   \n",
       "2           84.0      4.0         2.0        4.0            2.0        4.0   \n",
       "3           83.0      5.0         7.0       14.0           15.0        9.0   \n",
       "4           73.0      5.0         6.0        2.0            4.0        3.0   \n",
       "\n",
       "  Best Position Best Overall Rating  \n",
       "0            ST                88.0  \n",
       "1           CDM                84.0  \n",
       "2           CDM                85.0  \n",
       "3            LB                84.0  \n",
       "4           CAM                85.0  \n",
       "\n",
       "[5 rows x 63 columns]"
      ]
     },
     "execution_count": 6,
     "metadata": {},
     "output_type": "execute_result"
    }
   ],
   "source": [
    "df=pd.read_csv('FIFA17_official_data.csv')\n",
    "df.head()"
   ]
  },
  {
   "cell_type": "code",
   "execution_count": 12,
   "id": "37134046-8632-47e9-9ee7-4877879bf538",
   "metadata": {},
   "outputs": [
    {
     "data": {
      "text/plain": [
       "63"
      ]
     },
     "execution_count": 12,
     "metadata": {},
     "output_type": "execute_result"
    }
   ],
   "source": [
    "df.isnull().count().count()"
   ]
  },
  {
   "cell_type": "code",
   "execution_count": 14,
   "id": "7448e41b-0b14-46fb-8661-2f458bfcaa9a",
   "metadata": {},
   "outputs": [
    {
     "data": {
      "text/plain": [
       "<bound method DataFrame.info of            ID            Name  Age  \\\n",
       "0      176580       L. Suárez   29   \n",
       "1      178518   R. Nainggolan   28   \n",
       "2      181872        A. Vidal   29   \n",
       "3      197445        D. Alaba   24   \n",
       "4      195864        P. Pogba   23   \n",
       "...       ...             ...  ...   \n",
       "17555  233215        C. Addai   18   \n",
       "17556  232911     R. Kamiyama   31   \n",
       "17557  235387         B. Gaye   18   \n",
       "17558  237904   K. Olifirenko   18   \n",
       "17559  237463       A. Kelsey   16   \n",
       "\n",
       "                                                  Photo Nationality  \\\n",
       "0      https://cdn.sofifa.com/players/176/580/17_60.png     Uruguay   \n",
       "1      https://cdn.sofifa.com/players/178/518/17_60.png     Belgium   \n",
       "2      https://cdn.sofifa.com/players/181/872/17_60.png       Chile   \n",
       "3      https://cdn.sofifa.com/players/197/445/17_60.png     Austria   \n",
       "4      https://cdn.sofifa.com/players/195/864/17_60.png      France   \n",
       "...                                                 ...         ...   \n",
       "17555  https://cdn.sofifa.com/players/233/215/17_60.png       Ghana   \n",
       "17556  https://cdn.sofifa.com/players/232/911/17_60.png       Japan   \n",
       "17557  https://cdn.sofifa.com/players/235/387/17_60.png     Germany   \n",
       "17558  https://cdn.sofifa.com/players/237/904/17_60.png      Russia   \n",
       "17559  https://cdn.sofifa.com/players/237/463/17_60.png     England   \n",
       "\n",
       "                                          Flag  Overall  Potential  \\\n",
       "0          https://cdn.sofifa.com/flags/uy.png       92         92   \n",
       "1          https://cdn.sofifa.com/flags/be.png       86         86   \n",
       "2          https://cdn.sofifa.com/flags/cl.png       87         87   \n",
       "3          https://cdn.sofifa.com/flags/at.png       86         89   \n",
       "4          https://cdn.sofifa.com/flags/fr.png       88         94   \n",
       "...                                        ...      ...        ...   \n",
       "17555      https://cdn.sofifa.com/flags/gh.png       54         72   \n",
       "17556      https://cdn.sofifa.com/flags/jp.png       57         57   \n",
       "17557      https://cdn.sofifa.com/flags/de.png       53         67   \n",
       "17558      https://cdn.sofifa.com/flags/ru.png       50         66   \n",
       "17559  https://cdn.sofifa.com/flags/gb-eng.png       46         63   \n",
       "\n",
       "                        Club  \\\n",
       "0               FC Barcelona   \n",
       "1                       Roma   \n",
       "2          FC Bayern München   \n",
       "3          FC Bayern München   \n",
       "4          Manchester United   \n",
       "...                      ...   \n",
       "17555          Coventry City   \n",
       "17556         Avispa Fukuoka   \n",
       "17557  DSC Arminia Bielefeld   \n",
       "17558           FC Tom Tomsk   \n",
       "17559      Scunthorpe United   \n",
       "\n",
       "                                              Club Logo  ... Marking  \\\n",
       "0         https://cdn.sofifa.com/teams/241/light_30.png  ...    30.0   \n",
       "1          https://cdn.sofifa.com/teams/52/light_30.png  ...    78.0   \n",
       "2          https://cdn.sofifa.com/teams/21/light_30.png  ...    76.0   \n",
       "3          https://cdn.sofifa.com/teams/21/light_30.png  ...    81.0   \n",
       "4          https://cdn.sofifa.com/teams/11/light_30.png  ...    68.0   \n",
       "...                                                 ...  ...     ...   \n",
       "17555    https://cdn.sofifa.com/teams/1800/light_30.png  ...     8.0   \n",
       "17556  https://cdn.sofifa.com/teams/113186/light_30.png  ...     6.0   \n",
       "17557     https://cdn.sofifa.com/teams/159/light_30.png  ...     9.0   \n",
       "17558  https://cdn.sofifa.com/teams/110233/light_30.png  ...     8.0   \n",
       "17559    https://cdn.sofifa.com/teams/1949/light_30.png  ...     9.0   \n",
       "\n",
       "      StandingTackle  SlidingTackle GKDiving  GKHandling  GKKicking  \\\n",
       "0               45.0           38.0     27.0        25.0       31.0   \n",
       "1               85.0           88.0     11.0        11.0       14.0   \n",
       "2               89.0           84.0      4.0         2.0        4.0   \n",
       "3               83.0           83.0      5.0         7.0       14.0   \n",
       "4               73.0           73.0      5.0         6.0        2.0   \n",
       "...              ...            ...      ...         ...        ...   \n",
       "17555           13.0           13.0     51.0        51.0       48.0   \n",
       "17556           10.0           11.0     59.0        46.0       41.0   \n",
       "17557           13.0           12.0     54.0        50.0       49.0   \n",
       "17558           13.0           13.0     47.0        59.0       52.0   \n",
       "17559           11.0           10.0     46.0        47.0       54.0   \n",
       "\n",
       "       GKPositioning GKReflexes Best Position Best Overall Rating  \n",
       "0               33.0       37.0            ST                88.0  \n",
       "1                8.0       11.0           CDM                84.0  \n",
       "2                2.0        4.0           CDM                85.0  \n",
       "3               15.0        9.0            LB                84.0  \n",
       "4                4.0        3.0           CAM                85.0  \n",
       "...              ...        ...           ...                 ...  \n",
       "17555           59.0       60.0            GK                53.0  \n",
       "17556           62.0       59.0            GK                56.0  \n",
       "17557           54.0       58.0            GK                52.0  \n",
       "17558           44.0       49.0            GK                49.0  \n",
       "17559           43.0       48.0            GK                45.0  \n",
       "\n",
       "[17560 rows x 63 columns]>"
      ]
     },
     "execution_count": 14,
     "metadata": {},
     "output_type": "execute_result"
    }
   ],
   "source": [
    "df.info"
   ]
  },
  {
   "cell_type": "code",
   "execution_count": 16,
   "id": "73863006-07c1-438f-938a-d6bc003b1449",
   "metadata": {},
   "outputs": [],
   "source": [
    "df1 = df[['Name', 'Best Overall Rating']]"
   ]
  },
  {
   "cell_type": "code",
   "execution_count": 18,
   "id": "db45cfcf-7833-4b5d-bf2f-ae25ed8928b6",
   "metadata": {},
   "outputs": [
    {
     "data": {
      "text/html": [
       "<div>\n",
       "<style scoped>\n",
       "    .dataframe tbody tr th:only-of-type {\n",
       "        vertical-align: middle;\n",
       "    }\n",
       "\n",
       "    .dataframe tbody tr th {\n",
       "        vertical-align: top;\n",
       "    }\n",
       "\n",
       "    .dataframe thead th {\n",
       "        text-align: right;\n",
       "    }\n",
       "</style>\n",
       "<table border=\"1\" class=\"dataframe\">\n",
       "  <thead>\n",
       "    <tr style=\"text-align: right;\">\n",
       "      <th></th>\n",
       "      <th>Name</th>\n",
       "      <th>Best Overall Rating</th>\n",
       "    </tr>\n",
       "  </thead>\n",
       "  <tbody>\n",
       "    <tr>\n",
       "      <th>0</th>\n",
       "      <td>L. Suárez</td>\n",
       "      <td>88.0</td>\n",
       "    </tr>\n",
       "    <tr>\n",
       "      <th>1</th>\n",
       "      <td>R. Nainggolan</td>\n",
       "      <td>84.0</td>\n",
       "    </tr>\n",
       "    <tr>\n",
       "      <th>2</th>\n",
       "      <td>A. Vidal</td>\n",
       "      <td>85.0</td>\n",
       "    </tr>\n",
       "    <tr>\n",
       "      <th>3</th>\n",
       "      <td>D. Alaba</td>\n",
       "      <td>84.0</td>\n",
       "    </tr>\n",
       "    <tr>\n",
       "      <th>4</th>\n",
       "      <td>P. Pogba</td>\n",
       "      <td>85.0</td>\n",
       "    </tr>\n",
       "  </tbody>\n",
       "</table>\n",
       "</div>"
      ],
      "text/plain": [
       "             Name  Best Overall Rating\n",
       "0       L. Suárez                 88.0\n",
       "1   R. Nainggolan                 84.0\n",
       "2        A. Vidal                 85.0\n",
       "3        D. Alaba                 84.0\n",
       "4        P. Pogba                 85.0"
      ]
     },
     "execution_count": 18,
     "metadata": {},
     "output_type": "execute_result"
    }
   ],
   "source": [
    "df1.head()"
   ]
  },
  {
   "cell_type": "code",
   "execution_count": 22,
   "id": "54fd87ba-ce4a-4074-93d0-3108f268efa1",
   "metadata": {},
   "outputs": [
    {
     "data": {
      "text/plain": [
       "<bound method DataFrame.info of                  Name  Best Overall Rating\n",
       "0           L. Suárez                 88.0\n",
       "1       R. Nainggolan                 84.0\n",
       "2            A. Vidal                 85.0\n",
       "3            D. Alaba                 84.0\n",
       "4            P. Pogba                 85.0\n",
       "...               ...                  ...\n",
       "17555        C. Addai                 53.0\n",
       "17556     R. Kamiyama                 56.0\n",
       "17557         B. Gaye                 52.0\n",
       "17558   K. Olifirenko                 49.0\n",
       "17559       A. Kelsey                 45.0\n",
       "\n",
       "[17560 rows x 2 columns]>"
      ]
     },
     "execution_count": 22,
     "metadata": {},
     "output_type": "execute_result"
    }
   ],
   "source": [
    "df1.info"
   ]
  },
  {
   "cell_type": "code",
   "execution_count": 20,
   "id": "f19ac2c7-74b5-4d5f-96a2-deaf0dfbd5d6",
   "metadata": {},
   "outputs": [
    {
     "data": {
      "text/plain": [
       "0"
      ]
     },
     "execution_count": 20,
     "metadata": {},
     "output_type": "execute_result"
    }
   ],
   "source": [
    "df1.isnull().sum().sum()"
   ]
  },
  {
   "cell_type": "code",
   "execution_count": 26,
   "id": "5e29d05a-0883-44cb-9701-fd5f4881ccbd",
   "metadata": {},
   "outputs": [],
   "source": [
    "df1 = df1.drop_duplicates(subset = 'Name')"
   ]
  },
  {
   "cell_type": "code",
   "execution_count": 28,
   "id": "fee87898-38e1-407d-9e34-6db568a0186e",
   "metadata": {},
   "outputs": [
    {
     "name": "stdout",
     "output_type": "stream",
     "text": [
      "<class 'pandas.core.frame.DataFrame'>\n",
      "Index: 16596 entries, 0 to 17559\n",
      "Data columns (total 2 columns):\n",
      " #   Column               Non-Null Count  Dtype  \n",
      "---  ------               --------------  -----  \n",
      " 0   Name                 16596 non-null  object \n",
      " 1   Best Overall Rating  16596 non-null  float64\n",
      "dtypes: float64(1), object(1)\n",
      "memory usage: 389.0+ KB\n"
     ]
    }
   ],
   "source": [
    "df1.info()"
   ]
  },
  {
   "cell_type": "code",
   "execution_count": 32,
   "id": "2600ae4f-be20-4885-9f13-e88a16c79e39",
   "metadata": {},
   "outputs": [],
   "source": [
    "df1 = df1.sort_values(by = 'Best Overall Rating', ascending=False)"
   ]
  },
  {
   "cell_type": "code",
   "execution_count": 36,
   "id": "1dbce2b7-8522-444c-8192-e880e050e002",
   "metadata": {},
   "outputs": [],
   "source": [
    "d = df1.head()"
   ]
  },
  {
   "cell_type": "code",
   "execution_count": 38,
   "id": "c6b4e24b-9657-42c5-9644-7575854e6e8c",
   "metadata": {},
   "outputs": [
    {
     "data": {
      "text/html": [
       "<div>\n",
       "<style scoped>\n",
       "    .dataframe tbody tr th:only-of-type {\n",
       "        vertical-align: middle;\n",
       "    }\n",
       "\n",
       "    .dataframe tbody tr th {\n",
       "        vertical-align: top;\n",
       "    }\n",
       "\n",
       "    .dataframe thead th {\n",
       "        text-align: right;\n",
       "    }\n",
       "</style>\n",
       "<table border=\"1\" class=\"dataframe\">\n",
       "  <thead>\n",
       "    <tr style=\"text-align: right;\">\n",
       "      <th></th>\n",
       "      <th>Name</th>\n",
       "      <th>Best Overall Rating</th>\n",
       "    </tr>\n",
       "  </thead>\n",
       "  <tbody>\n",
       "    <tr>\n",
       "      <th>58</th>\n",
       "      <td>L. Messi</td>\n",
       "      <td>92.0</td>\n",
       "    </tr>\n",
       "    <tr>\n",
       "      <th>9</th>\n",
       "      <td>Cristiano Ronaldo</td>\n",
       "      <td>91.0</td>\n",
       "    </tr>\n",
       "    <tr>\n",
       "      <th>12372</th>\n",
       "      <td>M. Neuer</td>\n",
       "      <td>89.0</td>\n",
       "    </tr>\n",
       "    <tr>\n",
       "      <th>168</th>\n",
       "      <td>Neymar</td>\n",
       "      <td>89.0</td>\n",
       "    </tr>\n",
       "    <tr>\n",
       "      <th>0</th>\n",
       "      <td>L. Suárez</td>\n",
       "      <td>88.0</td>\n",
       "    </tr>\n",
       "  </tbody>\n",
       "</table>\n",
       "</div>"
      ],
      "text/plain": [
       "                     Name  Best Overall Rating\n",
       "58               L. Messi                 92.0\n",
       "9       Cristiano Ronaldo                 91.0\n",
       "12372            M. Neuer                 89.0\n",
       "168                Neymar                 89.0\n",
       "0               L. Suárez                 88.0"
      ]
     },
     "execution_count": 38,
     "metadata": {},
     "output_type": "execute_result"
    }
   ],
   "source": [
    "d "
   ]
  },
  {
   "cell_type": "code",
   "execution_count": 98,
   "id": "29273a44-9944-4195-848d-f8e06b53414b",
   "metadata": {},
   "outputs": [],
   "source": [
    "b_p=(ggplot(d,aes(x='Name',y='Best Overall Rating', fill = 'Name'))+ geom_bar(stat=\"identity\")+scale_fill_manual(values=['steelblue', 'orange','pink','lavender', 'grey']))"
   ]
  },
  {
   "cell_type": "code",
   "execution_count": 100,
   "id": "bc3ee5ac-43da-4ae1-b660-c5450b395a27",
   "metadata": {},
   "outputs": [
    {
     "data": {
      "image/png": "[encoded data removed]"
     },
     "metadata": {
      "image/png": {
       "height": 480,
       "width": 640
      }
     },
     "output_type": "display_data"
    }
   ],
   "source": [
    "b_p.show()"
   ]
  },
  {
   "cell_type": "code",
   "execution_count": null,
   "id": "922a2804-c557-428a-9d5b-4f91f57e17a1",
   "metadata": {},
   "outputs": [],
   "source": []
  }
 ],
 "metadata": {
  "kernelspec": {
   "display_name": "Python 3 (ipykernel)",
   "language": "python",
   "name": "python3"
  },
  "language_info": {
   "codemirror_mode": {
    "name": "ipython",
    "version": 3
   },
   "file_extension": ".py",
   "mimetype": "text/x-python",
   "name": "python",
   "nbconvert_exporter": "python",
   "pygments_lexer": "ipython3",
   "version": "3.12.4"
  }
 },
 "nbformat": 4,
 "nbformat_minor": 5
}
