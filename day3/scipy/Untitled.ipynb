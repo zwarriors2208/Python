{
 "cells": [
  {
   "cell_type": "markdown",
   "id": "7bb32b5e-8532-43c9-a09f-e206b5997ae6",
   "metadata": {},
   "source": [
    "## scipy.optimize"
   ]
  },
  {
   "cell_type": "code",
   "execution_count": 4,
   "id": "245947ad-4c8f-46ee-a501-8ce19a81e062",
   "metadata": {},
   "outputs": [
    {
     "name": "stdout",
     "output_type": "stream",
     "text": [
      "[-1.50000001]\n"
     ]
    }
   ],
   "source": [
    "from scipy.optimize import minimize\n",
    "def objective_function(x):\n",
    "    return x**2 + 3*x + 2\n",
    "result = minimize(objective_function, x0 = 0)\n",
    "print(result.x)"
   ]
  },
  {
   "cell_type": "markdown",
   "id": "db55b0f7-f941-4a58-88ed-532104a0cc03",
   "metadata": {},
   "source": [
    "## scipy.integrate"
   ]
  },
  {
   "cell_type": "code",
   "execution_count": 52,
   "id": "fcab04f0-2aa0-487e-812e-3e2ec0c415f3",
   "metadata": {},
   "outputs": [
    {
     "name": "stdout",
     "output_type": "stream",
     "text": [
      "0.00\n"
     ]
    }
   ],
   "source": [
    "from scipy.integrate import quad\n",
    "def integrand(x):\n",
    "    return x**2\n",
    "\n",
    "result, error = quad(integrand, 0 , 1)\n",
    "print(f\"{error:.2f}\")\n",
    "\n"
   ]
  },
  {
   "cell_type": "markdown",
   "id": "6d24c121-e606-4170-8a45-a716aaad8441",
   "metadata": {},
   "source": [
    "- Error: This is an estimate of how far the computed result might be from the exact mathematical solution of the integral."
   ]
  },
  {
   "cell_type": "markdown",
   "id": "7f6df936-3fca-492d-b940-203379d4186c",
   "metadata": {},
   "source": [
    "\n",
    "- here 0 , 1 are upper limit and lower limmit"
   ]
  },
  {
   "cell_type": "markdown",
   "id": "254864e4-69ec-4a34-bff7-f21bd2f22700",
   "metadata": {},
   "source": [
    "## scipy.linalg"
   ]
  },
  {
   "cell_type": "code",
   "execution_count": 40,
   "id": "287ebe64-c1ac-4c25-8a3b-b44078daa91b",
   "metadata": {},
   "outputs": [
    {
     "name": "stdout",
     "output_type": "stream",
     "text": [
      "-2.0\n"
     ]
    }
   ],
   "source": [
    "from scipy.linalg import inv,det\n",
    "import numpy as np\n",
    "matrix=np.array([[1,2],[3,4]])\n",
    "matrix_det=det(matrix)\n",
    "print(matrix_det)"
   ]
  },
  {
   "cell_type": "code",
   "execution_count": 46,
   "id": "9b4a3818-020c-4e1d-9067-19bbc1ad2820",
   "metadata": {},
   "outputs": [
    {
     "name": "stdout",
     "output_type": "stream",
     "text": [
      "[[ 0.6 -0.7]\n",
      " [-0.2  0.4]]\n"
     ]
    }
   ],
   "source": [
    "x = np.array([[4,7],[2,6]])\n",
    "x_inv = inv(x)\n",
    "print(x_inv)"
   ]
  },
  {
   "cell_type": "markdown",
   "id": "8ffef32b-1800-4d25-9316-60c613ba0559",
   "metadata": {},
   "source": [
    "## scipy.interpolate"
   ]
  },
  {
   "cell_type": "code",
   "execution_count": 32,
   "id": "61ba12ed-159c-49f7-a389-4e36a290f268",
   "metadata": {},
   "outputs": [
    {
     "name": "stdout",
     "output_type": "stream",
     "text": [
      "6.5\n"
     ]
    }
   ],
   "source": [
    "from scipy.interpolate import interp1d\n",
    "x=np.array([0,1,2,3])\n",
    "y=np.array([0,1,4,9])\n",
    "# imterpolation function\n",
    "f=interp1d(x,y,kind='linear')\n",
    "# interpolating a new value\n",
    "new_x=2.5\n",
    "interpolated_value=f(new_x)\n",
    "print(interpolated_value)"
   ]
  },
  {
   "cell_type": "markdown",
   "id": "2acbda25-0391-4923-9af5-3517dc965544",
   "metadata": {},
   "source": [
    "- basixally for 2.5 value in x array the value in y will be 6.5"
   ]
  },
  {
   "cell_type": "code",
   "execution_count": null,
   "id": "9778b48f-166f-40d7-9ae7-4fa904855536",
   "metadata": {},
   "outputs": [],
   "source": []
  }
 ],
 "metadata": {
  "kernelspec": {
   "display_name": "Python 3 (ipykernel)",
   "language": "python",
   "name": "python3"
  },
  "language_info": {
   "codemirror_mode": {
    "name": "ipython",
    "version": 3
   },
   "file_extension": ".py",
   "mimetype": "text/x-python",
   "name": "python",
   "nbconvert_exporter": "python",
   "pygments_lexer": "ipython3",
   "version": "3.12.4"
  }
 },
 "nbformat": 4,
 "nbformat_minor": 5
}
