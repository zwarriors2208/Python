{
 "cells": [
  {
   "cell_type": "markdown",
   "id": "b6e07efe-2645-41b6-b3a9-d615bf82bb33",
   "metadata": {},
   "source": [
    "# import pandas as pd\n",
    "import numpy as np\n"
   ]
  },
  {
   "cell_type": "code",
   "execution_count": null,
   "id": "5ffce1d6-2808-441a-9eda-e58e4ed3552e",
   "metadata": {},
   "outputs": [],
   "source": []
  },
  {
   "cell_type": "code",
   "execution_count": 3,
   "id": "e3c50593-14dc-4117-bf98-7afe4174e58d",
   "metadata": {},
   "outputs": [
    {
     "data": {
      "text/plain": [
       "DatetimeIndex(['2024-01-01', '2024-01-02', '2024-01-03', '2024-01-04',\n",
       "               '2024-01-05', '2024-01-06', '2024-01-07', '2024-01-08',\n",
       "               '2024-01-09', '2024-01-10'],\n",
       "              dtype='datetime64[ns]', freq='D')"
      ]
     },
     "execution_count": 3,
     "metadata": {},
     "output_type": "execute_result"
    }
   ],
   "source": [
    "dates = pd.date_range(start='2024-01-01', periods=10, freq='D')\n",
    "dates"
   ]
  },
  {
   "cell_type": "code",
   "execution_count": 4,
   "id": "f1a89c6d-131b-46bb-9256-78d858630e14",
   "metadata": {},
   "outputs": [
    {
     "data": {
      "text/plain": [
       "2024-01-01    1.466419\n",
       "2024-01-02    2.328387\n",
       "2024-01-03   -0.222781\n",
       "2024-01-04    0.471281\n",
       "2024-01-05   -0.052695\n",
       "2024-01-06    0.923242\n",
       "2024-01-07    0.361851\n",
       "2024-01-08    0.027569\n",
       "2024-01-09    0.701056\n",
       "2024-01-10    0.532487\n",
       "Freq: D, dtype: float64"
      ]
     },
     "execution_count": 4,
     "metadata": {},
     "output_type": "execute_result"
    }
   ],
   "source": [
    "data = np.random.randn(10)\n",
    "time_series = pd.Series(data, index=dates)\n",
    "time_series"
   ]
  },
  {
   "cell_type": "code",
   "execution_count": 5,
   "id": "9192b32a-e721-44b1-af3a-ea7f836a7e9b",
   "metadata": {},
   "outputs": [
    {
     "data": {
      "text/plain": [
       "2024-01-04    0.471281\n",
       "2024-01-05   -0.052695\n",
       "2024-01-06    0.923242\n",
       "2024-01-07    0.361851\n",
       "2024-01-08    0.027569\n",
       "2024-01-09    0.701056\n",
       "Freq: D, dtype: float64"
      ]
     },
     "execution_count": 5,
     "metadata": {},
     "output_type": "execute_result"
    }
   ],
   "source": [
    "time_series['2024-01-04':'2024-01-09']"
   ]
  },
  {
   "cell_type": "code",
   "execution_count": 6,
   "id": "fcd5924b-be5e-4283-8936-47510838d689",
   "metadata": {},
   "outputs": [
    {
     "data": {
      "text/plain": [
       "DatetimeIndex(['2024-01-01 00:00:00', '2024-01-01 01:00:00',\n",
       "               '2024-01-01 02:00:00', '2024-01-01 03:00:00',\n",
       "               '2024-01-01 04:00:00', '2024-01-01 05:00:00',\n",
       "               '2024-01-01 06:00:00', '2024-01-01 07:00:00',\n",
       "               '2024-01-01 08:00:00', '2024-01-01 09:00:00'],\n",
       "              dtype='datetime64[ns]', freq='h')"
      ]
     },
     "execution_count": 6,
     "metadata": {},
     "output_type": "execute_result"
    }
   ],
   "source": [
    "time1 = pd.date_range(start='2024-01-01', periods=10, freq='h')\n",
    "time1"
   ]
  },
  {
   "cell_type": "code",
   "execution_count": 7,
   "id": "c7f16f1a-f100-466c-ae2d-45d24489787e",
   "metadata": {},
   "outputs": [
    {
     "name": "stdout",
     "output_type": "stream",
     "text": [
      "datetime64[ns] DatetimeIndex(['2024-01-01', '2024-01-02', '2024-01-03', '2024-01-04',\n",
      "               '2024-01-05', '2024-01-06', '2024-01-07', '2024-01-08',\n",
      "               '2024-01-09', '2024-01-10'],\n",
      "              dtype='datetime64[ns]', freq='D') \n",
      "\n"
     ]
    }
   ],
   "source": [
    "dates=pd.date_range(start='2024-01-01',periods=10,freq='D')\n",
    "print(dates.dtype,dates,\"\\n\")\n"
   ]
  },
  {
   "cell_type": "code",
   "execution_count": 8,
   "id": "fb724af4-1bec-4d67-a656-5cfa52799bac",
   "metadata": {},
   "outputs": [
    {
     "data": {
      "text/plain": [
       "2024-01-01   -1.055291\n",
       "2024-01-02    1.641701\n",
       "2024-01-03   -2.365653\n",
       "2024-01-04   -1.700025\n",
       "2024-01-05   -0.966155\n",
       "2024-01-06    1.092953\n",
       "2024-01-07    0.315038\n",
       "2024-01-08   -0.340013\n",
       "2024-01-09    2.106506\n",
       "2024-01-10    0.107121\n",
       "Freq: D, dtype: float64"
      ]
     },
     "execution_count": 8,
     "metadata": {},
     "output_type": "execute_result"
    }
   ],
   "source": [
    "data=np.random.randn(10)\n",
    "time_series=pd.Series(data,index=dates)\n",
    "time_series"
   ]
  },
  {
   "cell_type": "code",
   "execution_count": 14,
   "id": "dd4f08c3-ef83-4f38-9675-6d47ec8a384d",
   "metadata": {},
   "outputs": [
    {
     "name": "stdout",
     "output_type": "stream",
     "text": [
      "time_series\n",
      " -0.9661552715096802\n"
     ]
    }
   ],
   "source": [
    "print(\"time_series\\n\", time_series['2024-01-05'])"
   ]
  },
  {
   "cell_type": "code",
   "execution_count": 17,
   "id": "cba22e13-4208-4fdf-a646-a743c3f8dd60",
   "metadata": {},
   "outputs": [
    {
     "name": "stdout",
     "output_type": "stream",
     "text": [
      "time_series\n",
      " 2024-01-05   -0.966155\n",
      "2024-01-06    1.092953\n",
      "Freq: D, dtype: float64\n"
     ]
    }
   ],
   "source": [
    "print(\"time_series\\n\", time_series['2024-01-05':'2024-01-06'])"
   ]
  },
  {
   "cell_type": "code",
   "execution_count": 20,
   "id": "cf0a91f1-e4cb-458a-9b44-6bb3fdefae82",
   "metadata": {},
   "outputs": [
    {
     "name": "stdout",
     "output_type": "stream",
     "text": [
      "time_series\n",
      " 2024-01-09    2.106506\n",
      "Freq: D, dtype: float64\n"
     ]
    }
   ],
   "source": [
    "print(\"time_series\\n\", time_series[time_series>2])"
   ]
  },
  {
   "cell_type": "code",
   "execution_count": 22,
   "id": "04a46576-ec9e-4438-a28a-eaf40064834b",
   "metadata": {},
   "outputs": [],
   "source": [
    "h_d1=pd.date_range(start='2024-01-01',periods=24,freq='h')"
   ]
  },
  {
   "cell_type": "code",
   "execution_count": 29,
   "id": "4bf8ed89-8ab2-4786-90b4-6b22c935d6ff",
   "metadata": {},
   "outputs": [
    {
     "data": {
      "text/plain": [
       "DatetimeIndex(['2024-01-01 00:00:00', '2024-01-01 01:00:00',\n",
       "               '2024-01-01 02:00:00', '2024-01-01 03:00:00',\n",
       "               '2024-01-01 04:00:00', '2024-01-01 05:00:00',\n",
       "               '2024-01-01 06:00:00', '2024-01-01 07:00:00',\n",
       "               '2024-01-01 08:00:00', '2024-01-01 09:00:00',\n",
       "               '2024-01-01 10:00:00', '2024-01-01 11:00:00',\n",
       "               '2024-01-01 12:00:00', '2024-01-01 13:00:00',\n",
       "               '2024-01-01 14:00:00', '2024-01-01 15:00:00',\n",
       "               '2024-01-01 16:00:00', '2024-01-01 17:00:00',\n",
       "               '2024-01-01 18:00:00', '2024-01-01 19:00:00',\n",
       "               '2024-01-01 20:00:00', '2024-01-01 21:00:00',\n",
       "               '2024-01-01 22:00:00', '2024-01-01 23:00:00'],\n",
       "              dtype='datetime64[ns]', freq='h')"
      ]
     },
     "execution_count": 29,
     "metadata": {},
     "output_type": "execute_result"
    }
   ],
   "source": [
    "h_d1\n"
   ]
  },
  {
   "cell_type": "code",
   "execution_count": 31,
   "id": "46e6cf42-0db8-4ce3-845e-2437141ec219",
   "metadata": {},
   "outputs": [],
   "source": [
    "h_d=np.random.randn(24)"
   ]
  },
  {
   "cell_type": "code",
   "execution_count": 33,
   "id": "fcab8584-ce96-431e-b492-15fe6132ab75",
   "metadata": {},
   "outputs": [
    {
     "name": "stdout",
     "output_type": "stream",
     "text": [
      "2024-01-01 00:00:00    2.802919\n",
      "2024-01-01 01:00:00   -0.063777\n",
      "2024-01-01 02:00:00    0.856528\n",
      "2024-01-01 03:00:00   -0.650327\n",
      "2024-01-01 04:00:00   -0.836698\n",
      "2024-01-01 05:00:00    0.628803\n",
      "2024-01-01 06:00:00    0.220703\n",
      "2024-01-01 07:00:00   -2.369596\n",
      "2024-01-01 08:00:00    0.341821\n",
      "2024-01-01 09:00:00    0.263940\n",
      "2024-01-01 10:00:00   -0.844666\n",
      "2024-01-01 11:00:00   -0.193445\n",
      "2024-01-01 12:00:00    0.997744\n",
      "2024-01-01 13:00:00   -0.285465\n",
      "2024-01-01 14:00:00   -0.945601\n",
      "2024-01-01 15:00:00    0.734740\n",
      "2024-01-01 16:00:00    0.671728\n",
      "2024-01-01 17:00:00    1.246302\n",
      "2024-01-01 18:00:00    0.556616\n",
      "2024-01-01 19:00:00    0.436955\n",
      "2024-01-01 20:00:00   -1.826138\n",
      "2024-01-01 21:00:00    0.851518\n",
      "2024-01-01 22:00:00    0.509772\n",
      "2024-01-01 23:00:00    2.861018\n",
      "Freq: h, dtype: float64\n"
     ]
    }
   ],
   "source": [
    "h_s=pd.Series(h_d,index=h_d1)\n",
    "print(h_s)"
   ]
  },
  {
   "cell_type": "code",
   "execution_count": 35,
   "id": "38df0da7-1a3d-49d8-bd8b-8b87324ff51a",
   "metadata": {},
   "outputs": [
    {
     "name": "stdout",
     "output_type": "stream",
     "text": [
      "2024-01-02    1.641701\n",
      "2024-01-06    1.092953\n",
      "2024-01-09    2.106506\n",
      "dtype: float64\n"
     ]
    }
   ],
   "source": [
    "print(time_series['2024-01-01':'2024-01-10'][time_series>1])"
   ]
  },
  {
   "cell_type": "code",
   "execution_count": 37,
   "id": "edc8b662-2dda-4c40-b693-5e5201863345",
   "metadata": {},
   "outputs": [
    {
     "name": "stdout",
     "output_type": "stream",
     "text": [
      "-0.9661552715096802\n"
     ]
    }
   ],
   "source": [
    "print(time_series.loc['2024-01-05'])"
   ]
  },
  {
   "cell_type": "code",
   "execution_count": 39,
   "id": "ef66842f-756f-4dcc-ad65-5cc54308aecf",
   "metadata": {},
   "outputs": [
    {
     "name": "stdout",
     "output_type": "stream",
     "text": [
      "2024-01-03   -2.365653\n",
      "2024-01-04   -1.700025\n",
      "2024-01-05   -0.966155\n",
      "2024-01-06    1.092953\n",
      "Freq: D, dtype: float64\n"
     ]
    }
   ],
   "source": [
    "print(time_series.loc['2024-01-03':'2024-01-06'])"
   ]
  },
  {
   "cell_type": "code",
   "execution_count": 41,
   "id": "ab24d213-7afd-4346-910c-4f41ec5d49aa",
   "metadata": {},
   "outputs": [
    {
     "name": "stdout",
     "output_type": "stream",
     "text": [
      "2024-01-01   -1.055291\n",
      "2024-01-05   -0.966155\n",
      "2024-01-10    0.107121\n",
      "dtype: float64\n"
     ]
    }
   ],
   "source": [
    "print(time_series.loc[['2024-01-01','2024-01-05','2024-01-10']])"
   ]
  },
  {
   "cell_type": "code",
   "execution_count": 43,
   "id": "a7d9a41f-c06e-4ba1-80c4-c5869a502abd",
   "metadata": {},
   "outputs": [
    {
     "name": "stdout",
     "output_type": "stream",
     "text": [
      "-1.0552912674758839\n"
     ]
    }
   ],
   "source": [
    "print(time_series.iloc[0])"
   ]
  },
  {
   "cell_type": "code",
   "execution_count": 45,
   "id": "247e5190-625d-47a7-9447-fa87cf1807a3",
   "metadata": {},
   "outputs": [
    {
     "name": "stdout",
     "output_type": "stream",
     "text": [
      "2024-01-03   -2.365653\n",
      "2024-01-04   -1.700025\n",
      "2024-01-05   -0.966155\n",
      "2024-01-06    1.092953\n",
      "Freq: D, dtype: float64\n"
     ]
    }
   ],
   "source": [
    "print(time_series.iloc[2:6])"
   ]
  },
  {
   "cell_type": "code",
   "execution_count": 47,
   "id": "24d5ae4f-d962-406f-b1a2-c324dc37e933",
   "metadata": {},
   "outputs": [
    {
     "name": "stdout",
     "output_type": "stream",
     "text": [
      "2024-01-01   -1.055291\n",
      "2024-01-04   -1.700025\n",
      "2024-01-08   -0.340013\n",
      "dtype: float64\n"
     ]
    }
   ],
   "source": [
    "print(time_series.iloc[[0,3,7]])"
   ]
  },
  {
   "cell_type": "code",
   "execution_count": 49,
   "id": "46b7e982-6517-4965-beca-b0daa2fc7dcb",
   "metadata": {},
   "outputs": [
    {
     "name": "stdout",
     "output_type": "stream",
     "text": [
      "2024-01-03   -2.365653\n",
      "2024-01-04   -1.700025\n",
      "2024-01-05   -0.966155\n",
      "2024-01-06    1.092953\n",
      "Freq: D, dtype: float64\n"
     ]
    }
   ],
   "source": [
    "print(time_series['2024-01-03':'2024-01-06'])"
   ]
  },
  {
   "cell_type": "code",
   "execution_count": 51,
   "id": "52c851b4-28a9-4cc8-8af7-0a4c76157320",
   "metadata": {},
   "outputs": [
    {
     "name": "stdout",
     "output_type": "stream",
     "text": [
      "2024-01-01   -1.055291\n",
      "2024-01-02    1.641701\n",
      "2024-01-03   -2.365653\n",
      "2024-01-04   -1.700025\n",
      "2024-01-05   -0.966155\n",
      "Freq: D, dtype: float64\n"
     ]
    }
   ],
   "source": [
    "print(time_series[:'2024-01-05'])"
   ]
  },
  {
   "cell_type": "code",
   "execution_count": 53,
   "id": "569e814b-833d-402a-a744-866de4937455",
   "metadata": {},
   "outputs": [
    {
     "name": "stdout",
     "output_type": "stream",
     "text": [
      "2024-01-06    1.092953\n",
      "2024-01-07    0.315038\n",
      "2024-01-08   -0.340013\n",
      "2024-01-09    2.106506\n",
      "2024-01-10    0.107121\n",
      "Freq: D, dtype: float64\n"
     ]
    }
   ],
   "source": [
    "print(time_series['2024-01-06':])"
   ]
  },
  {
   "cell_type": "code",
   "execution_count": 55,
   "id": "4ecd3ff2-1736-4990-b262-9ba9f8764121",
   "metadata": {},
   "outputs": [
    {
     "data": {
      "text/plain": [
       "2024-01-01   -1.055291\n",
       "2024-01-02    1.641701\n",
       "2024-01-03   -2.365653\n",
       "2024-01-04   -1.700025\n",
       "2024-01-05   -0.966155\n",
       "2024-01-06    1.092953\n",
       "2024-01-07    0.315038\n",
       "2024-01-08   -0.340013\n",
       "2024-01-09    2.106506\n",
       "2024-01-10    0.107121\n",
       "Freq: D, dtype: float64"
      ]
     },
     "execution_count": 55,
     "metadata": {},
     "output_type": "execute_result"
    }
   ],
   "source": [
    "time_series"
   ]
  },
  {
   "cell_type": "code",
   "execution_count": 57,
   "id": "3ba96cf8-309c-4ec9-99f7-3bda5678893f",
   "metadata": {},
   "outputs": [
    {
     "name": "stdout",
     "output_type": "stream",
     "text": [
      "2024-01-07   -0.433919\n",
      "2024-01-14    0.624538\n",
      "Freq: W-SUN, dtype: float64\n"
     ]
    }
   ],
   "source": [
    "x = time_series.resample('W').mean()\n",
    "print(x)"
   ]
  },
  {
   "cell_type": "code",
   "execution_count": 59,
   "id": "df4e606c-3fa0-4746-891c-ddf680b4ff61",
   "metadata": {},
   "outputs": [
    {
     "data": {
      "text/plain": [
       "2024-01-01   -1.055291\n",
       "2024-01-02    1.641701\n",
       "2024-01-03   -2.365653\n",
       "2024-01-04   -1.700025\n",
       "2024-01-05   -0.966155\n",
       "2024-01-06    1.092953\n",
       "2024-01-07    0.315038\n",
       "2024-01-08   -0.340013\n",
       "2024-01-09    2.106506\n",
       "2024-01-10    0.107121\n",
       "Freq: D, dtype: float64"
      ]
     },
     "execution_count": 59,
     "metadata": {},
     "output_type": "execute_result"
    }
   ],
   "source": [
    "time_series"
   ]
  },
  {
   "cell_type": "code",
   "execution_count": 61,
   "id": "322f24b2-a101-40cc-9509-74cd9a688b6b",
   "metadata": {},
   "outputs": [
    {
     "data": {
      "text/plain": [
       "2024-01-01         NaN\n",
       "2024-01-02         NaN\n",
       "2024-01-03   -0.593081\n",
       "2024-01-04   -0.807992\n",
       "2024-01-05   -1.677278\n",
       "2024-01-06   -0.524409\n",
       "2024-01-07    0.147278\n",
       "2024-01-08    0.355993\n",
       "2024-01-09    0.693844\n",
       "2024-01-10    0.624538\n",
       "Freq: D, dtype: float64"
      ]
     },
     "execution_count": 61,
     "metadata": {},
     "output_type": "execute_result"
    }
   ],
   "source": [
    "x=time_series.rolling(window=3).mean()\n",
    "x"
   ]
  },
  {
   "cell_type": "code",
   "execution_count": 137,
   "id": "45416211-2d92-483d-b476-12a36754e6f5",
   "metadata": {},
   "outputs": [
    {
     "data": {
      "text/plain": [
       "2024-01-01 00:00:00    2.215874\n",
       "2024-01-02 00:00:00    1.485460\n",
       "2024-01-03 00:00:00   -1.585818\n",
       "2024-01-04 00:00:00    0.120407\n",
       "2024-01-05 00:00:00    1.311387\n",
       "2024-01-06 00:00:00   -0.285912\n",
       "2024-01-07 00:00:00    0.476313\n",
       "2024-01-08 00:00:00   -0.141875\n",
       "2024-01-09 00:00:00   -0.342011\n",
       "2024-01-10 00:00:00    0.313745\n",
       "2024-0104                   NaN\n",
       "2024-01-04                  NaN\n",
       "dtype: float64"
      ]
     },
     "execution_count": 137,
     "metadata": {},
     "output_type": "execute_result"
    }
   ],
   "source": [
    "time_series['2024-01-04']=np.nan\n",
    "time_series"
   ]
  },
  {
   "cell_type": "code",
   "execution_count": 143,
   "id": "6665ac57-d2a8-46fa-b2ee-f43433fa496e",
   "metadata": {},
   "outputs": [
    {
     "data": {
      "text/plain": [
       "2024-01-01 00:00:00    2.215874\n",
       "2024-01-02 00:00:00    1.485460\n",
       "2024-01-03 00:00:00   -1.585818\n",
       "2024-01-04 00:00:00    0.120407\n",
       "2024-01-05 00:00:00    1.311387\n",
       "2024-01-06 00:00:00   -0.285912\n",
       "2024-01-07 00:00:00    0.476313\n",
       "2024-01-08 00:00:00   -0.141875\n",
       "2024-01-09 00:00:00   -0.342011\n",
       "2024-01-10 00:00:00    0.313745\n",
       "2024-0104              0.313745\n",
       "2024-01-04             0.313745\n",
       "dtype: float64"
      ]
     },
     "execution_count": 143,
     "metadata": {},
     "output_type": "execute_result"
    }
   ],
   "source": [
    "filled_series=time_series.ffill()\n",
    "filled_series"
   ]
  },
  {
   "cell_type": "code",
   "execution_count": 195,
   "id": "d4740e01-4c18-4602-96aa-59fddf87146f",
   "metadata": {},
   "outputs": [
    {
     "data": {
      "text/plain": [
       "2024-01-01     1.0\n",
       "2024-01-02     2.0\n",
       "2024-01-03     NaN\n",
       "2024-01-04     4.0\n",
       "2024-01-05     NaN\n",
       "2024-01-06     7.0\n",
       "2024-01-07     NaN\n",
       "2024-01-08     9.0\n",
       "2024-01-09    10.0\n",
       "2024-01-10    67.0\n",
       "Freq: D, dtype: float64"
      ]
     },
     "execution_count": 195,
     "metadata": {},
     "output_type": "execute_result"
    }
   ],
   "source": [
    "time_series"
   ]
  },
  {
   "cell_type": "code",
   "execution_count": 199,
   "id": "fdba7caa-ba2f-4af2-993f-6f2ebe2df258",
   "metadata": {},
   "outputs": [],
   "source": [
    "weekly_series=time_series.resample('W').mean()"
   ]
  },
  {
   "cell_type": "code",
   "execution_count": 157,
   "id": "843f4fc6-315f-465b-ae99-5a409959813f",
   "metadata": {},
   "outputs": [
    {
     "data": {
      "text/plain": [
       "2024-01-01 00:00:00    2.215874\n",
       "2024-01-02 00:00:00    1.485460\n",
       "2024-01-03 00:00:00   -1.585818\n",
       "2024-01-04 00:00:00    0.120407\n",
       "2024-01-05 00:00:00    1.311387\n",
       "2024-01-06 00:00:00   -0.285912\n",
       "2024-01-07 00:00:00    0.476313\n",
       "2024-01-08 00:00:00   -0.141875\n",
       "2024-01-09 00:00:00   -0.342011\n",
       "2024-01-10 00:00:00    0.313745\n",
       "2024-0104                   NaN\n",
       "2024-01-04                  NaN\n",
       "dtype: float64"
      ]
     },
     "execution_count": 157,
     "metadata": {},
     "output_type": "execute_result"
    }
   ],
   "source": [
    "filled_backward=time_series.bfill()\n",
    "filled_backward"
   ]
  },
  {
   "cell_type": "code",
   "execution_count": 161,
   "id": "1b832b16-865b-4ddd-8fb2-39a945a57b33",
   "metadata": {},
   "outputs": [
    {
     "data": {
      "text/plain": [
       "2024-01-01 00:00:00    2.215874\n",
       "2024-01-02 00:00:00    1.485460\n",
       "2024-01-03 00:00:00   -1.585818\n",
       "2024-01-04 00:00:00    0.120407\n",
       "2024-01-05 00:00:00    1.311387\n",
       "2024-01-06 00:00:00   -0.285912\n",
       "2024-01-07 00:00:00    0.476313\n",
       "2024-01-08 00:00:00   -0.141875\n",
       "2024-01-09 00:00:00   -0.342011\n",
       "2024-01-10 00:00:00    0.313745\n",
       "2024-0104              0.313745\n",
       "2024-01-04             0.313745\n",
       "dtype: float64"
      ]
     },
     "execution_count": 161,
     "metadata": {},
     "output_type": "execute_result"
    }
   ],
   "source": [
    "interpolated=time_series.interpolate()\n",
    "interpolated"
   ]
  },
  {
   "cell_type": "code",
   "execution_count": 163,
   "id": "72b2ec67-0838-4736-95a9-f991562169e9",
   "metadata": {},
   "outputs": [],
   "source": [
    "#create a date range"
   ]
  },
  {
   "cell_type": "code",
   "execution_count": 165,
   "id": "37e6ac79-4388-477f-a2b3-0c1747bdcf9e",
   "metadata": {},
   "outputs": [
    {
     "data": {
      "text/plain": [
       "DatetimeIndex(['2024-01-01', '2024-01-02', '2024-01-03', '2024-01-04',\n",
       "               '2024-01-05', '2024-01-06', '2024-01-07', '2024-01-08',\n",
       "               '2024-01-09', '2024-01-10'],\n",
       "              dtype='datetime64[ns]', freq='D')"
      ]
     },
     "execution_count": 165,
     "metadata": {},
     "output_type": "execute_result"
    }
   ],
   "source": [
    "dates=pd.date_range(start='2024-01-01',periods=10,freq='D')\n",
    "dates"
   ]
  },
  {
   "cell_type": "code",
   "execution_count": 177,
   "id": "9777d4c6-981d-41eb-85f0-bac4c946efd4",
   "metadata": {},
   "outputs": [
    {
     "data": {
      "text/plain": [
       "[1, 2, nan, 4, nan, 7, nan, 9, 10, 67]"
      ]
     },
     "execution_count": 177,
     "metadata": {},
     "output_type": "execute_result"
    }
   ],
   "source": [
    "data=[1,2,np.nan,4,np.nan,6,7,np.nan,9,10]\n",
    "data"
   ]
  },
  {
   "cell_type": "code",
   "execution_count": 181,
   "id": "1f0e5676-e3de-46e3-83fe-0af1c9868998",
   "metadata": {},
   "outputs": [
    {
     "data": {
      "text/plain": [
       "2024-01-01     1.0\n",
       "2024-01-02     2.0\n",
       "2024-01-03     NaN\n",
       "2024-01-04     4.0\n",
       "2024-01-05     NaN\n",
       "2024-01-06     7.0\n",
       "2024-01-07     NaN\n",
       "2024-01-08     9.0\n",
       "2024-01-09    10.0\n",
       "2024-01-10    67.0\n",
       "Freq: D, dtype: float64"
      ]
     },
     "execution_count": 181,
     "metadata": {},
     "output_type": "execute_result"
    }
   ],
   "source": [
    "time_series=pd.Series(data,index=dates)\n",
    "time_series"
   ]
  },
  {
   "cell_type": "code",
   "execution_count": 183,
   "id": "14531aad-23fb-43df-bb1c-e35d6b502139",
   "metadata": {},
   "outputs": [],
   "source": [
    "missing_values=time_series.isna()"
   ]
  },
  {
   "cell_type": "code",
   "execution_count": 185,
   "id": "ea684e0b-fd1d-4f27-89ac-e334b502a907",
   "metadata": {},
   "outputs": [
    {
     "data": {
      "text/plain": [
       "2024-01-01    False\n",
       "2024-01-02    False\n",
       "2024-01-03     True\n",
       "2024-01-04    False\n",
       "2024-01-05     True\n",
       "2024-01-06    False\n",
       "2024-01-07     True\n",
       "2024-01-08    False\n",
       "2024-01-09    False\n",
       "2024-01-10    False\n",
       "Freq: D, dtype: bool"
      ]
     },
     "execution_count": 185,
     "metadata": {},
     "output_type": "execute_result"
    }
   ],
   "source": [
    "missing_values"
   ]
  },
  {
   "cell_type": "code",
   "execution_count": 187,
   "id": "ba5e8f51-f2ec-4e17-b807-48fe95212a51",
   "metadata": {},
   "outputs": [],
   "source": [
    "num_missing = missing_values.sum()"
   ]
  },
  {
   "cell_type": "code",
   "execution_count": 189,
   "id": "87f7f727-b144-49cf-9aa9-07699b029dd9",
   "metadata": {},
   "outputs": [
    {
     "data": {
      "text/plain": [
       "3"
      ]
     },
     "execution_count": 189,
     "metadata": {},
     "output_type": "execute_result"
    }
   ],
   "source": [
    "num_missing\n"
   ]
  },
  {
   "cell_type": "code",
   "execution_count": 191,
   "id": "f1d4fc3c-639b-4777-bddd-54680039881a",
   "metadata": {},
   "outputs": [
    {
     "data": {
      "text/plain": [
       "DatetimeIndex(['2024-01-03', '2024-01-05', '2024-01-07'], dtype='datetime64[ns]', freq=None)"
      ]
     },
     "execution_count": 191,
     "metadata": {},
     "output_type": "execute_result"
    }
   ],
   "source": [
    "missing_indices = time_series.index[missing_values]\n",
    "missing_indices"
   ]
  },
  {
   "cell_type": "code",
   "execution_count": 193,
   "id": "1382e89f-f821-473b-8565-338a89b15d51",
   "metadata": {},
   "outputs": [
    {
     "data": {
      "text/plain": [
       "2024-01-01     1.0\n",
       "2024-01-02     2.0\n",
       "2024-01-03     0.0\n",
       "2024-01-04     4.0\n",
       "2024-01-05     0.0\n",
       "2024-01-06     7.0\n",
       "2024-01-07     0.0\n",
       "2024-01-08     9.0\n",
       "2024-01-09    10.0\n",
       "2024-01-10    67.0\n",
       "Freq: D, dtype: float64"
      ]
     },
     "execution_count": 193,
     "metadata": {},
     "output_type": "execute_result"
    }
   ],
   "source": [
    "filled_value = time_series.fillna(0)\n",
    "filled_value"
   ]
  },
  {
   "cell_type": "code",
   "execution_count": 201,
   "id": "9d14b27d-5a7c-4f32-9d66-7f6e6ccbd27c",
   "metadata": {},
   "outputs": [],
   "source": [
    "dropped = time_series.dropna()"
   ]
  },
  {
   "cell_type": "code",
   "execution_count": 203,
   "id": "77e6b672-15aa-45de-a676-d19e4b703231",
   "metadata": {},
   "outputs": [
    {
     "data": {
      "text/plain": [
       "2024-01-01     1.0\n",
       "2024-01-02     2.0\n",
       "2024-01-04     4.0\n",
       "2024-01-06     7.0\n",
       "2024-01-08     9.0\n",
       "2024-01-09    10.0\n",
       "2024-01-10    67.0\n",
       "dtype: float64"
      ]
     },
     "execution_count": 203,
     "metadata": {},
     "output_type": "execute_result"
    }
   ],
   "source": [
    "dropped"
   ]
  },
  {
   "cell_type": "code",
   "execution_count": 66,
   "id": "65c9e356-68e2-44cd-bbfc-35f334897a11",
   "metadata": {},
   "outputs": [],
   "source": [
    "dates = pd.date_range(start='2024-01-01', periods = 20, freq = 'D')"
   ]
  },
  {
   "cell_type": "code",
   "execution_count": 68,
   "id": "fd1c3e3b-3c3c-4612-bca7-542821e087b6",
   "metadata": {},
   "outputs": [],
   "source": [
    "data = np.arange(20)"
   ]
  },
  {
   "cell_type": "code",
   "execution_count": 70,
   "id": "3ffbfaee-19aa-4650-9825-a979a33b3b0a",
   "metadata": {},
   "outputs": [],
   "source": [
    "t_s = pd.Series(data, index=dates)"
   ]
  },
  {
   "cell_type": "code",
   "execution_count": 71,
   "id": "9825c0e1-7e43-46c0-a74f-076db94ef8c2",
   "metadata": {},
   "outputs": [
    {
     "data": {
      "text/plain": [
       "2024-01-01     0\n",
       "2024-01-02     1\n",
       "2024-01-03     2\n",
       "2024-01-04     3\n",
       "2024-01-05     4\n",
       "2024-01-06     5\n",
       "2024-01-07     6\n",
       "2024-01-08     7\n",
       "2024-01-09     8\n",
       "2024-01-10     9\n",
       "2024-01-11    10\n",
       "2024-01-12    11\n",
       "2024-01-13    12\n",
       "2024-01-14    13\n",
       "2024-01-15    14\n",
       "2024-01-16    15\n",
       "2024-01-17    16\n",
       "2024-01-18    17\n",
       "2024-01-19    18\n",
       "2024-01-20    19\n",
       "Freq: D, dtype: int32"
      ]
     },
     "execution_count": 71,
     "metadata": {},
     "output_type": "execute_result"
    }
   ],
   "source": [
    "t_s\n"
   ]
  },
  {
   "cell_type": "code",
   "execution_count": 72,
   "id": "67f7cbd0-2fbc-43a3-8e6e-f9848a430c3b",
   "metadata": {},
   "outputs": [
    {
     "data": {
      "text/plain": [
       "2024-01-01     NaN\n",
       "2024-01-02     NaN\n",
       "2024-01-03     0.0\n",
       "2024-01-04     1.0\n",
       "2024-01-05     2.0\n",
       "2024-01-06     3.0\n",
       "2024-01-07     4.0\n",
       "2024-01-08     5.0\n",
       "2024-01-09     6.0\n",
       "2024-01-10     7.0\n",
       "2024-01-11     8.0\n",
       "2024-01-12     9.0\n",
       "2024-01-13    10.0\n",
       "2024-01-14    11.0\n",
       "2024-01-15    12.0\n",
       "2024-01-16    13.0\n",
       "2024-01-17    14.0\n",
       "2024-01-18    15.0\n",
       "2024-01-19    16.0\n",
       "2024-01-20    17.0\n",
       "Freq: D, dtype: float64"
      ]
     },
     "execution_count": 72,
     "metadata": {},
     "output_type": "execute_result"
    }
   ],
   "source": [
    "### shifted forward\n",
    "t_s.shift(2)"
   ]
  },
  {
   "cell_type": "code",
   "execution_count": 73,
   "id": "f6acad09-33cf-43a9-9282-ce28822e3211",
   "metadata": {},
   "outputs": [
    {
     "data": {
      "text/plain": [
       "2024-01-01     2.0\n",
       "2024-01-02     3.0\n",
       "2024-01-03     4.0\n",
       "2024-01-04     5.0\n",
       "2024-01-05     6.0\n",
       "2024-01-06     7.0\n",
       "2024-01-07     8.0\n",
       "2024-01-08     9.0\n",
       "2024-01-09    10.0\n",
       "2024-01-10    11.0\n",
       "2024-01-11    12.0\n",
       "2024-01-12    13.0\n",
       "2024-01-13    14.0\n",
       "2024-01-14    15.0\n",
       "2024-01-15    16.0\n",
       "2024-01-16    17.0\n",
       "2024-01-17    18.0\n",
       "2024-01-18    19.0\n",
       "2024-01-19     NaN\n",
       "2024-01-20     NaN\n",
       "Freq: D, dtype: float64"
      ]
     },
     "execution_count": 73,
     "metadata": {},
     "output_type": "execute_result"
    }
   ],
   "source": [
    "##bwd shift\n",
    "t_s.shift(-2)"
   ]
  },
  {
   "cell_type": "code",
   "execution_count": 74,
   "id": "042d69cd-96c1-462b-8c77-d117c5e78f83",
   "metadata": {},
   "outputs": [
    {
     "data": {
      "text/plain": [
       "2024-01-01     2.0\n",
       "2024-01-02     3.0\n",
       "2024-01-03     4.0\n",
       "2024-01-04     5.0\n",
       "2024-01-05     6.0\n",
       "2024-01-06     7.0\n",
       "2024-01-07     8.0\n",
       "2024-01-08     9.0\n",
       "2024-01-09    10.0\n",
       "2024-01-10    11.0\n",
       "2024-01-11    12.0\n",
       "2024-01-12    13.0\n",
       "2024-01-13    14.0\n",
       "2024-01-14    15.0\n",
       "2024-01-15    16.0\n",
       "2024-01-16    17.0\n",
       "2024-01-17    18.0\n",
       "2024-01-18    19.0\n",
       "2024-01-19     0.0\n",
       "2024-01-20     0.0\n",
       "Freq: D, dtype: float64"
      ]
     },
     "execution_count": 74,
     "metadata": {},
     "output_type": "execute_result"
    }
   ],
   "source": [
    "t_s.shift(-2).fillna(0)"
   ]
  },
  {
   "cell_type": "code",
   "execution_count": 84,
   "id": "23d89be0-d9d8-4f38-b6c1-1c6e2aa0d8d1",
   "metadata": {},
   "outputs": [
    {
     "data": {
      "text/plain": [
       "DatetimeIndex(['2024-01-01', '2024-01-02', '2024-01-03', '2024-01-04',\n",
       "               '2024-01-05', '2024-01-06', '2024-01-07', '2024-01-08',\n",
       "               '2024-01-09', '2024-01-10', '2024-01-11', '2024-01-12',\n",
       "               '2024-01-13', '2024-01-14', '2024-01-15', '2024-01-16',\n",
       "               '2024-01-17', '2024-01-18', '2024-01-19', '2024-01-20'],\n",
       "              dtype='datetime64[ns]', freq='D')"
      ]
     },
     "execution_count": 84,
     "metadata": {},
     "output_type": "execute_result"
    }
   ],
   "source": [
    "dates"
   ]
  },
  {
   "cell_type": "code",
   "execution_count": 92,
   "id": "ecfebde7-357e-4f56-829d-4757ddd4b1b7",
   "metadata": {},
   "outputs": [
    {
     "data": {
      "text/plain": [
       "pandas.core.indexes.datetimes.DatetimeIndex"
      ]
     },
     "execution_count": 92,
     "metadata": {},
     "output_type": "execute_result"
    }
   ],
   "source": [
    "type(dates)"
   ]
  },
  {
   "cell_type": "code",
   "execution_count": null,
   "id": "3b6bfead-bd3f-47a0-964a-8e188693ed9c",
   "metadata": {},
   "outputs": [],
   "source": [
    "import pandas as"
   ]
  },
  {
   "cell_type": "code",
   "execution_count": null,
   "id": "9606b544-0d7e-4e53-9e83-a1b3833a97b3",
   "metadata": {},
   "outputs": [],
   "source": []
  },
  {
   "cell_type": "code",
   "execution_count": null,
   "id": "9a94b4de-6c0a-45a2-9136-0ae81896d670",
   "metadata": {},
   "outputs": [],
   "source": []
  },
  {
   "cell_type": "code",
   "execution_count": null,
   "id": "35d1aa16-c578-4448-b84d-8ca811837335",
   "metadata": {},
   "outputs": [],
   "source": []
  },
  {
   "cell_type": "code",
   "execution_count": null,
   "id": "1dfcd6f2-e62f-4d85-b213-18e138d1af06",
   "metadata": {},
   "outputs": [],
   "source": []
  },
  {
   "cell_type": "code",
   "execution_count": null,
   "id": "c5c3ebe9-3796-4b9b-a0d1-2da708c0ae41",
   "metadata": {},
   "outputs": [],
   "source": []
  }
 ],
 "metadata": {
  "kernelspec": {
   "display_name": "Python 3 (ipykernel)",
   "language": "python",
   "name": "python3"
  },
  "language_info": {
   "codemirror_mode": {
    "name": "ipython",
    "version": 3
   },
   "file_extension": ".py",
   "mimetype": "text/x-python",
   "name": "python",
   "nbconvert_exporter": "python",
   "pygments_lexer": "ipython3",
   "version": "3.12.4"
  }
 },
 "nbformat": 4,
 "nbformat_minor": 5
}
