{
 "cells": [
  {
   "cell_type": "code",
   "execution_count": 1,
   "id": "699cea4c-e9a4-41fd-8fa0-0731202cad0c",
   "metadata": {},
   "outputs": [],
   "source": [
    "import numpy as np"
   ]
  },
  {
   "cell_type": "markdown",
   "id": "962ea50c-b2cd-4672-b9df-8036745ed2a8",
   "metadata": {},
   "source": [
    "#### zeros((n,m)) : is used to create a matrix of nXm dimension filled with zeros"
   ]
  },
  {
   "cell_type": "code",
   "execution_count": 3,
   "id": "24edbd75-64e6-48ff-af67-27506ddfad1f",
   "metadata": {},
   "outputs": [
    {
     "data": {
      "text/plain": [
       "array([[0., 0., 0.],\n",
       "       [0., 0., 0.]])"
      ]
     },
     "execution_count": 3,
     "metadata": {},
     "output_type": "execute_result"
    }
   ],
   "source": [
    "np.zeros((2,3))\n"
   ]
  },
  {
   "cell_type": "markdown",
   "id": "0c50ddb3-4870-45e3-b2fc-739eac9da94c",
   "metadata": {},
   "source": [
    "#### .ones((n,m))"
   ]
  },
  {
   "cell_type": "code",
   "execution_count": 7,
   "id": "1df3d026-d403-42ce-9d4a-2cb034b2b6ed",
   "metadata": {},
   "outputs": [
    {
     "data": {
      "text/plain": [
       "array([[1., 1., 1.],\n",
       "       [1., 1., 1.],\n",
       "       [1., 1., 1.]])"
      ]
     },
     "execution_count": 7,
     "metadata": {},
     "output_type": "execute_result"
    }
   ],
   "source": [
    "np.ones((3,3))"
   ]
  },
  {
   "cell_type": "markdown",
   "id": "aea08261-f8f9-4ad2-a2a0-6bb07c21ffe5",
   "metadata": {},
   "source": [
    "#### full((n,m), a): matrix of nXm dimension filled with a"
   ]
  },
  {
   "cell_type": "code",
   "execution_count": 10,
   "id": "7874886a-641f-4a0c-b8b6-879c441ca87a",
   "metadata": {},
   "outputs": [
    {
     "data": {
      "text/plain": [
       "array([[2, 2, 2, 2, 2],\n",
       "       [2, 2, 2, 2, 2],\n",
       "       [2, 2, 2, 2, 2],\n",
       "       [2, 2, 2, 2, 2],\n",
       "       [2, 2, 2, 2, 2]])"
      ]
     },
     "execution_count": 10,
     "metadata": {},
     "output_type": "execute_result"
    }
   ],
   "source": [
    "np.full((5,5), 2)"
   ]
  },
  {
   "cell_type": "markdown",
   "id": "5e70c6b6-6eac-46e1-9273-b652898dad32",
   "metadata": {},
   "source": [
    "#### np.arange"
   ]
  },
  {
   "cell_type": "code",
   "execution_count": 13,
   "id": "2b354b9d-93cc-4091-a094-d679f340ec7c",
   "metadata": {},
   "outputs": [
    {
     "data": {
      "text/plain": [
       "array([0, 2, 4, 6, 8])"
      ]
     },
     "execution_count": 13,
     "metadata": {},
     "output_type": "execute_result"
    }
   ],
   "source": [
    "np.arange(0,10,2)"
   ]
  },
  {
   "cell_type": "markdown",
   "id": "da3ebb3a-e8fb-4142-be3c-89fcc103760d",
   "metadata": {},
   "source": [
    "#### linearly spaced values\n",
    "np.linspace\n"
   ]
  },
  {
   "cell_type": "code",
   "execution_count": 16,
   "id": "280fcd02-c576-4d43-8de6-75da53551459",
   "metadata": {},
   "outputs": [
    {
     "data": {
      "text/plain": [
       "array([0.        , 0.11111111, 0.22222222, 0.33333333, 0.44444444,\n",
       "       0.55555556, 0.66666667, 0.77777778, 0.88888889, 1.        ])"
      ]
     },
     "execution_count": 16,
     "metadata": {},
     "output_type": "execute_result"
    }
   ],
   "source": [
    "np.linspace(0,1,10)\n"
   ]
  },
  {
   "cell_type": "markdown",
   "id": "c906e963-8c69-4840-8f91-1292ba48b442",
   "metadata": {},
   "source": [
    "#### 3X3 array with random values between 0 and 1"
   ]
  },
  {
   "cell_type": "code",
   "execution_count": 19,
   "id": "bb3b084b-d221-414a-8344-7ccf0dff484a",
   "metadata": {},
   "outputs": [
    {
     "data": {
      "text/plain": [
       "array([[0.49488962, 0.61286017, 0.08484835],\n",
       "       [0.16771262, 0.26904855, 0.81802966],\n",
       "       [0.58136252, 0.28475857, 0.66109216]])"
      ]
     },
     "execution_count": 19,
     "metadata": {},
     "output_type": "execute_result"
    }
   ],
   "source": [
    "np.random.rand(3,3)"
   ]
  },
  {
   "cell_type": "markdown",
   "id": "7deff704-e320-4857-9891-59e618f8a458",
   "metadata": {},
   "source": [
    "#### 3X3 array with random values between 0 and 1\n"
   ]
  },
  {
   "cell_type": "code",
   "execution_count": 22,
   "id": "700d643c-5ce3-4cc8-97bf-44111a35ae9d",
   "metadata": {},
   "outputs": [
    {
     "data": {
      "text/plain": [
       "array([[0.32001488, 0.32773074, 0.79170062],\n",
       "       [0.7820274 , 0.127184  , 0.42343568],\n",
       "       [0.78890246, 0.39830287, 0.72577211]])"
      ]
     },
     "execution_count": 22,
     "metadata": {},
     "output_type": "execute_result"
    }
   ],
   "source": [
    "np.random.rand(3,3)"
   ]
  },
  {
   "cell_type": "markdown",
   "id": "0c62ba12-062d-4f9c-b3d8-4a42262786d1",
   "metadata": {},
   "source": [
    "#### 2X2 array with random integers between 1 and 10"
   ]
  },
  {
   "cell_type": "code",
   "execution_count": 25,
   "id": "2a17a4e7-aa42-47cb-9d02-c9a2a3d7a2c1",
   "metadata": {},
   "outputs": [
    {
     "data": {
      "text/plain": [
       "array([[4, 1],\n",
       "       [7, 8]])"
      ]
     },
     "execution_count": 25,
     "metadata": {},
     "output_type": "execute_result"
    }
   ],
   "source": [
    "np.random.randint(1,10, size=(2,2))\n"
   ]
  },
  {
   "cell_type": "markdown",
   "id": "9eacc98d-5469-4b62-9e11-2e1cfdd04d3f",
   "metadata": {},
   "source": [
    "#### .eye() ientity matrix"
   ]
  },
  {
   "cell_type": "code",
   "execution_count": 28,
   "id": "ff03f0e4-ac30-4359-8f5e-9348fffb27b1",
   "metadata": {},
   "outputs": [
    {
     "data": {
      "text/plain": [
       "array([[1., 0., 0., 0.],\n",
       "       [0., 1., 0., 0.],\n",
       "       [0., 0., 1., 0.],\n",
       "       [0., 0., 0., 1.]])"
      ]
     },
     "execution_count": 28,
     "metadata": {},
     "output_type": "execute_result"
    }
   ],
   "source": [
    "np.eye(4)"
   ]
  },
  {
   "cell_type": "markdown",
   "id": "b1c1b6a3-5c1e-49af-8fd8-43db60a41a68",
   "metadata": {},
   "source": [
    "#### .diag() used to fill specified diagonal values"
   ]
  },
  {
   "cell_type": "code",
   "execution_count": 31,
   "id": "ddfb785b-aad7-45f6-b56e-ec7070e02365",
   "metadata": {},
   "outputs": [
    {
     "data": {
      "text/plain": [
       "array([[ 1,  0,  0],\n",
       "       [ 0, 23,  0],\n",
       "       [ 0,  0, 43]])"
      ]
     },
     "execution_count": 31,
     "metadata": {},
     "output_type": "execute_result"
    }
   ],
   "source": [
    "np.diag([1,23,43])"
   ]
  },
  {
   "cell_type": "markdown",
   "id": "76637219-647e-4c77-a694-23eab6eb0a02",
   "metadata": {},
   "source": [
    "#### a.reshape()"
   ]
  },
  {
   "cell_type": "code",
   "execution_count": 34,
   "id": "c2ac98ae-513e-456c-bb76-37bf6a2d2b56",
   "metadata": {},
   "outputs": [],
   "source": [
    "a = np.array([1,2,3,4,5,56,67,78,89])"
   ]
  },
  {
   "cell_type": "code",
   "execution_count": 36,
   "id": "9d409802-7ca1-454a-bc1e-c58da1518628",
   "metadata": {},
   "outputs": [
    {
     "data": {
      "text/plain": [
       "array([[ 1,  2,  3],\n",
       "       [ 4,  5, 56],\n",
       "       [67, 78, 89]])"
      ]
     },
     "execution_count": 36,
     "metadata": {},
     "output_type": "execute_result"
    }
   ],
   "source": [
    "a.reshape((3,3))"
   ]
  },
  {
   "cell_type": "markdown",
   "id": "2c0c504e-4fc1-4ac0-8a16-21b725e37e9e",
   "metadata": {},
   "source": [
    "#### np.empty():- it gives the memory free of given space but that memory may have garbage vlue so to set it to zero we will need to use np.zero"
   ]
  },
  {
   "cell_type": "code",
   "execution_count": 39,
   "id": "8891b53b-26b6-41ff-a7f0-4f428becec13",
   "metadata": {},
   "outputs": [
    {
     "name": "stdout",
     "output_type": "stream",
     "text": [
      "1D empty array:  [0.00000000e+000 1.21013991e-311 1.21013991e-311 1.21013991e-311\n",
      " 5.81762784e+252]\n"
     ]
    }
   ],
   "source": [
    "b = np.empty(5)\n",
    "print(\"1D empty array: \" , b)"
   ]
  },
  {
   "cell_type": "code",
   "execution_count": 41,
   "id": "106ab84d-42b7-4ca6-ae90-fbda1c05f3db",
   "metadata": {},
   "outputs": [
    {
     "data": {
      "text/plain": [
       "array([[[-80,   3],\n",
       "        [-19,  68],\n",
       "        [ 58,   2]],\n",
       "\n",
       "       [[  0,   0],\n",
       "        [  0,   0],\n",
       "        [  0,   0]],\n",
       "\n",
       "       [[  0,   0],\n",
       "        [  0,   0],\n",
       "        [  2,   0]]], dtype=int8)"
      ]
     },
     "execution_count": 41,
     "metadata": {},
     "output_type": "execute_result"
    }
   ],
   "source": [
    "# creating empty array with datatype\n",
    "np.empty((3,3,2), dtype = 'int8')"
   ]
  },
  {
   "cell_type": "markdown",
   "id": "696a78e9-0b9b-42eb-905a-5ddbc737560e",
   "metadata": {},
   "source": [
    "#### a.transpose() : use o transpose 'a' matrix"
   ]
  },
  {
   "cell_type": "code",
   "execution_count": 44,
   "id": "8f435632-add5-4fbc-88ec-35d76ec7c40b",
   "metadata": {},
   "outputs": [],
   "source": [
    "a = a.reshape((3,3))"
   ]
  },
  {
   "cell_type": "code",
   "execution_count": 46,
   "id": "e0ce0a3b-f89e-4550-b477-f34f8cd28d08",
   "metadata": {},
   "outputs": [
    {
     "name": "stdout",
     "output_type": "stream",
     "text": [
      "[[ 1  2  3]\n",
      " [ 4  5 56]\n",
      " [67 78 89]]\n"
     ]
    },
    {
     "data": {
      "text/plain": [
       "array([[ 1,  4, 67],\n",
       "       [ 2,  5, 78],\n",
       "       [ 3, 56, 89]])"
      ]
     },
     "execution_count": 46,
     "metadata": {},
     "output_type": "execute_result"
    }
   ],
   "source": [
    "print(a)\n",
    "a.transpose()"
   ]
  },
  {
   "cell_type": "code",
   "execution_count": 233,
   "id": "f5ac0828-3f85-40f4-af30-46240bbd4ff8",
   "metadata": {},
   "outputs": [
    {
     "data": {
      "text/plain": [
       "array([[92, 81, 74, 83, 51],\n",
       "       [79,  0,  0,  0, 82],\n",
       "       [68,  0,  0,  0, 84],\n",
       "       [88,  0,  0,  0, 93],\n",
       "       [56, 79, 82, 97, 82]])"
      ]
     },
     "execution_count": 233,
     "metadata": {},
     "output_type": "execute_result"
    }
   ],
   "source": []
  },
  {
   "cell_type": "code",
   "execution_count": null,
   "id": "3bfbf211-f22d-40e9-85b2-569dbc442470",
   "metadata": {},
   "outputs": [],
   "source": []
  },
  {
   "cell_type": "code",
   "execution_count": 48,
   "id": "dec8234e-10cc-4137-b1b1-24d78595125b",
   "metadata": {},
   "outputs": [
    {
     "data": {
      "text/plain": [
       "2"
      ]
     },
     "execution_count": 48,
     "metadata": {},
     "output_type": "execute_result"
    }
   ],
   "source": [
    "a.ndim"
   ]
  },
  {
   "cell_type": "code",
   "execution_count": 50,
   "id": "16266fc1-e96c-47d7-a043-d7bb2efed8c0",
   "metadata": {},
   "outputs": [
    {
     "data": {
      "text/plain": [
       "9"
      ]
     },
     "execution_count": 50,
     "metadata": {},
     "output_type": "execute_result"
    }
   ],
   "source": [
    "a.size"
   ]
  },
  {
   "cell_type": "code",
   "execution_count": 52,
   "id": "ed5c8779-494a-48e0-9268-ffaebbf21961",
   "metadata": {},
   "outputs": [
    {
     "data": {
      "text/plain": [
       "(3, 3)"
      ]
     },
     "execution_count": 52,
     "metadata": {},
     "output_type": "execute_result"
    }
   ],
   "source": [
    "a.shape"
   ]
  },
  {
   "cell_type": "code",
   "execution_count": 54,
   "id": "cabdb415-aba4-4b28-8d77-7e1cf23a6740",
   "metadata": {},
   "outputs": [
    {
     "data": {
      "text/plain": [
       "36"
      ]
     },
     "execution_count": 54,
     "metadata": {},
     "output_type": "execute_result"
    }
   ],
   "source": [
    "a.nbytes"
   ]
  },
  {
   "cell_type": "code",
   "execution_count": 56,
   "id": "d0734704-61d2-47e1-b5f0-ab9819e50645",
   "metadata": {},
   "outputs": [
    {
     "data": {
      "text/plain": [
       "dtype('int32')"
      ]
     },
     "execution_count": 56,
     "metadata": {},
     "output_type": "execute_result"
    }
   ],
   "source": [
    "a.dtype\n"
   ]
  },
  {
   "cell_type": "code",
   "execution_count": 58,
   "id": "ac87e629-502a-4176-8884-28d5676a0648",
   "metadata": {
    "scrolled": true
   },
   "outputs": [
    {
     "name": "stdout",
     "output_type": "stream",
     "text": [
      "3\n"
     ]
    }
   ],
   "source": [
    "a_3d=np.array([[[1,2,3],[4,5,6]], [[6,7,9], [7,8,0]]], dtype = 'float32')\n",
    "print(a_3d.ndim)"
   ]
  },
  {
   "cell_type": "code",
   "execution_count": 60,
   "id": "e0f36abc-36ca-4193-b888-836c8331f243",
   "metadata": {},
   "outputs": [
    {
     "name": "stdout",
     "output_type": "stream",
     "text": [
      "(2, 2, 3)\n"
     ]
    }
   ],
   "source": [
    "print(a_3d.shape)"
   ]
  },
  {
   "cell_type": "code",
   "execution_count": 62,
   "id": "edf84881-e639-43e3-805f-5fccfa4b9aec",
   "metadata": {},
   "outputs": [
    {
     "name": "stdout",
     "output_type": "stream",
     "text": [
      "12\n"
     ]
    }
   ],
   "source": [
    "print(a_3d.size)"
   ]
  },
  {
   "cell_type": "code",
   "execution_count": 64,
   "id": "b8dc93c7-95b4-4b68-9528-c55444250126",
   "metadata": {},
   "outputs": [
    {
     "data": {
      "text/plain": [
       "dtype('float32')"
      ]
     },
     "execution_count": 64,
     "metadata": {},
     "output_type": "execute_result"
    }
   ],
   "source": [
    "a_3d.dtype"
   ]
  },
  {
   "cell_type": "code",
   "execution_count": 66,
   "id": "f3080f43-88ab-45db-81f1-7946538f398f",
   "metadata": {},
   "outputs": [
    {
     "data": {
      "text/plain": [
       "4"
      ]
     },
     "execution_count": 66,
     "metadata": {},
     "output_type": "execute_result"
    }
   ],
   "source": [
    "a_3d.itemsize"
   ]
  },
  {
   "cell_type": "code",
   "execution_count": 68,
   "id": "637106a2-7dc8-45ce-a539-ec0034d1b62c",
   "metadata": {},
   "outputs": [],
   "source": [
    "# a = np.array(['f','j', 'c'])\n",
    "b = np.array([1.98, 2.98 , 3.09] ,)\n",
    "c = np.array([True, False, True, False])\n",
    "d = np.array([1,2,3])"
   ]
  },
  {
   "cell_type": "code",
   "execution_count": 70,
   "id": "d73363cf-1dfe-48fe-ac8a-e980f3ec7590",
   "metadata": {},
   "outputs": [],
   "source": [
    "# print(a.itemsize, b.itemsize, c.itemsize, d.itemsize)"
   ]
  },
  {
   "cell_type": "code",
   "execution_count": 72,
   "id": "5ef7bf4b-6d3e-490a-9e8d-40cf67599593",
   "metadata": {},
   "outputs": [
    {
     "name": "stdout",
     "output_type": "stream",
     "text": [
      "8 1 4\n"
     ]
    }
   ],
   "source": [
    "print( b.itemsize, c.itemsize, d.itemsize)"
   ]
  },
  {
   "cell_type": "code",
   "execution_count": 74,
   "id": "74f5c4a0-1d6e-4640-b9f8-21c3516ff2d7",
   "metadata": {},
   "outputs": [],
   "source": [
    "# print(a.nbytes, b.nbytes, c.nbytes, d.nbytes)"
   ]
  },
  {
   "cell_type": "code",
   "execution_count": 76,
   "id": "80ce7c2a-9c1e-4e63-a072-01d1f0f9bf15",
   "metadata": {},
   "outputs": [
    {
     "name": "stdout",
     "output_type": "stream",
     "text": [
      "24 4 12\n"
     ]
    }
   ],
   "source": [
    "print(b.nbytes, c.nbytes, d.nbytes)"
   ]
  },
  {
   "cell_type": "code",
   "execution_count": 78,
   "id": "9a3fe5bd-a206-468e-8788-a1dc5649185b",
   "metadata": {},
   "outputs": [
    {
     "name": "stdout",
     "output_type": "stream",
     "text": [
      "float64--||--bool--||--int32\n"
     ]
    }
   ],
   "source": [
    "print(b.dtype, c.dtype, d.dtype, sep = \"--||--\")"
   ]
  },
  {
   "cell_type": "code",
   "execution_count": 80,
   "id": "588710f2-1299-4710-94c2-b158648c71ee",
   "metadata": {},
   "outputs": [],
   "source": [
    "# print(a.dtype, b.dtype, c.dtype, d.dtype, sep = \"--||--\")"
   ]
  },
  {
   "cell_type": "markdown",
   "id": "9a4e0e54-c775-4525-a458-26a503c84a03",
   "metadata": {},
   "source": [
    "## datatrasformation"
   ]
  },
  {
   "cell_type": "code",
   "execution_count": 83,
   "id": "a5dfda05-905d-4bda-a017-6cffad8ff52b",
   "metadata": {},
   "outputs": [
    {
     "name": "stdout",
     "output_type": "stream",
     "text": [
      "3\n"
     ]
    }
   ],
   "source": [
    "a_3d=np.array([[[1,2,3],[4,5,6]], [[6,7,9], [7,8,0]]], dtype = 'float32')\n",
    "print(a_3d.ndim)"
   ]
  },
  {
   "cell_type": "code",
   "execution_count": 85,
   "id": "cca0a3c8-a7ab-4247-af93-0083cdd933fc",
   "metadata": {},
   "outputs": [
    {
     "data": {
      "text/plain": [
       "array([[[6., 7., 9.],\n",
       "        [7., 8., 0.]],\n",
       "\n",
       "       [[1., 2., 3.],\n",
       "        [4., 5., 6.]]], dtype=float32)"
      ]
     },
     "execution_count": 85,
     "metadata": {},
     "output_type": "execute_result"
    }
   ],
   "source": [
    "a_3d[::-1]"
   ]
  },
  {
   "cell_type": "code",
   "execution_count": 157,
   "id": "8083f967-3110-43de-86e2-a304f60123ff",
   "metadata": {},
   "outputs": [
    {
     "data": {
      "text/plain": [
       "6.0"
      ]
     },
     "execution_count": 157,
     "metadata": {},
     "output_type": "execute_result"
    }
   ],
   "source": [
    "a_3d[1,0,0]"
   ]
  },
  {
   "cell_type": "code",
   "execution_count": 89,
   "id": "89a58985-5f7f-4a4b-92e0-065f1193617c",
   "metadata": {},
   "outputs": [
    {
     "data": {
      "text/plain": [
       "array([1, 2, 3])"
      ]
     },
     "execution_count": 89,
     "metadata": {},
     "output_type": "execute_result"
    }
   ],
   "source": [
    "d"
   ]
  },
  {
   "cell_type": "code",
   "execution_count": 91,
   "id": "7b18072e-6cb5-4007-ac87-b535b0458dc2",
   "metadata": {},
   "outputs": [
    {
     "data": {
      "text/plain": [
       "3"
      ]
     },
     "execution_count": 91,
     "metadata": {},
     "output_type": "execute_result"
    }
   ],
   "source": [
    "d[2]"
   ]
  },
  {
   "cell_type": "code",
   "execution_count": 93,
   "id": "d05176e7-244c-4f63-8c8a-722190ea31e9",
   "metadata": {},
   "outputs": [
    {
     "data": {
      "text/plain": [
       "2"
      ]
     },
     "execution_count": 93,
     "metadata": {},
     "output_type": "execute_result"
    }
   ],
   "source": [
    "d[-2]"
   ]
  },
  {
   "cell_type": "code",
   "execution_count": 95,
   "id": "3a337cdf-0406-4ad7-9564-09cd0af57755",
   "metadata": {},
   "outputs": [
    {
     "data": {
      "text/plain": [
       "array([1, 2])"
      ]
     },
     "execution_count": 95,
     "metadata": {},
     "output_type": "execute_result"
    }
   ],
   "source": [
    "d[:2]"
   ]
  },
  {
   "cell_type": "code",
   "execution_count": 97,
   "id": "44d5c97f-83ad-4a5e-98a0-7c3c1a4bc99e",
   "metadata": {},
   "outputs": [
    {
     "data": {
      "text/plain": [
       "array([3, 2, 1])"
      ]
     },
     "execution_count": 97,
     "metadata": {},
     "output_type": "execute_result"
    }
   ],
   "source": [
    "d[::-1]"
   ]
  },
  {
   "cell_type": "code",
   "execution_count": 133,
   "id": "9e237d68-c8d6-4488-8d1d-e980980a0d22",
   "metadata": {},
   "outputs": [
    {
     "data": {
      "text/plain": [
       "array([[ 9,  5, 12,  5],\n",
       "       [20, 20, 15,  8],\n",
       "       [18,  5, 13,  7],\n",
       "       [ 8, 15,  1, 18]])"
      ]
     },
     "execution_count": 133,
     "metadata": {},
     "output_type": "execute_result"
    }
   ],
   "source": [
    "a= np.random.randint(1,21, (4,4))\n",
    "a"
   ]
  },
  {
   "cell_type": "code",
   "execution_count": 147,
   "id": "9cbd0673-f723-4307-b50c-9dc0e88ea2de",
   "metadata": {},
   "outputs": [
    {
     "data": {
      "text/plain": [
       "8"
      ]
     },
     "execution_count": 147,
     "metadata": {},
     "output_type": "execute_result"
    }
   ],
   "source": [
    "a[1,3]\n"
   ]
  },
  {
   "cell_type": "code",
   "execution_count": null,
   "id": "85a0195c-305a-4a1f-9b0f-7df97a541566",
   "metadata": {},
   "outputs": [],
   "source": []
  },
  {
   "cell_type": "code",
   "execution_count": 175,
   "id": "652f83f4-fc89-4ccd-b1a6-7dc4cc914427",
   "metadata": {},
   "outputs": [
    {
     "data": {
      "text/plain": [
       "array([[ 5],\n",
       "       [ 8],\n",
       "       [ 7],\n",
       "       [18]])"
      ]
     },
     "execution_count": 175,
     "metadata": {},
     "output_type": "execute_result"
    }
   ],
   "source": [
    "# toget the last coloum\n",
    "a[::, 3::]"
   ]
  },
  {
   "cell_type": "code",
   "execution_count": 177,
   "id": "fdce813e-d797-4697-b20c-9443fb62d1db",
   "metadata": {},
   "outputs": [
    {
     "data": {
      "text/plain": [
       "array([[13,  7],\n",
       "       [ 1, 18]])"
      ]
     },
     "execution_count": 177,
     "metadata": {},
     "output_type": "execute_result"
    }
   ],
   "source": [
    "a[2::, 2::]"
   ]
  },
  {
   "cell_type": "code",
   "execution_count": 179,
   "id": "3920f162-c940-4a3c-980a-c4186d839052",
   "metadata": {},
   "outputs": [
    {
     "data": {
      "text/plain": [
       "array([[20, 15],\n",
       "       [ 5, 13]])"
      ]
     },
     "execution_count": 179,
     "metadata": {},
     "output_type": "execute_result"
    }
   ],
   "source": [
    "a[1:3 ,1:3]"
   ]
  },
  {
   "cell_type": "code",
   "execution_count": 181,
   "id": "a18a4e81-88d0-4537-a5ff-633e662dc618",
   "metadata": {},
   "outputs": [
    {
     "data": {
      "text/plain": [
       "array([[[1., 2., 3.],\n",
       "        [4., 5., 6.]],\n",
       "\n",
       "       [[6., 7., 9.],\n",
       "        [7., 8., 0.]]], dtype=float32)"
      ]
     },
     "execution_count": 181,
     "metadata": {},
     "output_type": "execute_result"
    }
   ],
   "source": [
    "a_3d"
   ]
  },
  {
   "cell_type": "code",
   "execution_count": 209,
   "id": "1d3c8e3b-38df-4b4d-b011-5f156b19c588",
   "metadata": {},
   "outputs": [
    {
     "data": {
      "text/plain": [
       "array([[[4., 5.]],\n",
       "\n",
       "       [[7., 8.]]], dtype=float32)"
      ]
     },
     "execution_count": 209,
     "metadata": {},
     "output_type": "execute_result"
    }
   ],
   "source": [
    "# a_3d[0,1,0]\n",
    "# a_3d[1,1,0]\n",
    "a_3d[:, 1:, 0:2]"
   ]
  },
  {
   "cell_type": "code",
   "execution_count": 189,
   "id": "d4d50f7f-e19d-4638-91be-8827971bf312",
   "metadata": {},
   "outputs": [
    {
     "data": {
      "text/plain": [
       "array([[92, 79, 68, 88, 56],\n",
       "       [81, 98, 73, 91, 79],\n",
       "       [74, 74, 59, 89, 82],\n",
       "       [83, 51, 72, 63, 97],\n",
       "       [51, 82, 84, 93, 82]])"
      ]
     },
     "execution_count": 189,
     "metadata": {},
     "output_type": "execute_result"
    }
   ],
   "source": [
    "a= np.random.randint(50,100, (5,5))\n",
    "a"
   ]
  },
  {
   "cell_type": "code",
   "execution_count": 191,
   "id": "52442633-7114-467a-960f-e79a86126e26",
   "metadata": {},
   "outputs": [],
   "source": [
    "a[1:4 , 1:4] = 0"
   ]
  },
  {
   "cell_type": "code",
   "execution_count": 193,
   "id": "42bba551-4a37-4eab-94c6-52967858b7d2",
   "metadata": {},
   "outputs": [
    {
     "data": {
      "text/plain": [
       "array([[92, 79, 68, 88, 56],\n",
       "       [81,  0,  0,  0, 79],\n",
       "       [74,  0,  0,  0, 82],\n",
       "       [83,  0,  0,  0, 97],\n",
       "       [51, 82, 84, 93, 82]])"
      ]
     },
     "execution_count": 193,
     "metadata": {},
     "output_type": "execute_result"
    }
   ],
   "source": [
    "a"
   ]
  },
  {
   "cell_type": "code",
   "execution_count": 215,
   "id": "d062c0ba-be4e-4737-a91e-6646de4cd913",
   "metadata": {},
   "outputs": [],
   "source": [
    "a_4d = np.random.randint(1, 100, (2,2,2,2))"
   ]
  },
  {
   "cell_type": "code",
   "execution_count": 217,
   "id": "37753b33-2cdf-430b-8a9e-7a0a322d15d5",
   "metadata": {},
   "outputs": [
    {
     "data": {
      "text/plain": [
       "array([[[[83, 68],\n",
       "         [ 1, 44]],\n",
       "\n",
       "        [[81, 83],\n",
       "         [32, 67]]],\n",
       "\n",
       "\n",
       "       [[[22, 37],\n",
       "         [97, 22]],\n",
       "\n",
       "        [[17, 30],\n",
       "         [51, 79]]]])"
      ]
     },
     "execution_count": 217,
     "metadata": {},
     "output_type": "execute_result"
    }
   ],
   "source": [
    "a_4d"
   ]
  },
  {
   "cell_type": "code",
   "execution_count": 223,
   "id": "390f88a5-059b-4773-b332-b7be35d1235e",
   "metadata": {},
   "outputs": [
    {
     "data": {
      "text/plain": [
       "22"
      ]
     },
     "execution_count": 223,
     "metadata": {},
     "output_type": "execute_result"
    }
   ],
   "source": [
    "a_4d[1,0,0,0]"
   ]
  },
  {
   "cell_type": "code",
   "execution_count": 229,
   "id": "721ac783-7277-460c-8917-e865ec1b192f",
   "metadata": {},
   "outputs": [
    {
     "data": {
      "text/plain": [
       "array([[[[83, 68]],\n",
       "\n",
       "        [[81, 83]]],\n",
       "\n",
       "\n",
       "       [[[22, 37]],\n",
       "\n",
       "        [[17, 30]]]])"
      ]
     },
     "execution_count": 229,
     "metadata": {},
     "output_type": "execute_result"
    }
   ],
   "source": [
    "a_4d[:,:,:1,0:]"
   ]
  },
  {
   "cell_type": "code",
   "execution_count": 255,
   "id": "c3e1d99a-898a-4183-9f08-ac28eb28ec66",
   "metadata": {},
   "outputs": [],
   "source": [
    "a_7 = np.random.randint(10, 100, (5,3))"
   ]
  },
  {
   "cell_type": "code",
   "execution_count": 265,
   "id": "c8d36110-c699-492d-b7e8-49068a230147",
   "metadata": {},
   "outputs": [],
   "source": [
    "a_7_t=a_7.T"
   ]
  },
  {
   "cell_type": "code",
   "execution_count": 263,
   "id": "0a126359-f362-4787-8419-34cc2f3055a8",
   "metadata": {},
   "outputs": [
    {
     "data": {
      "text/plain": [
       "62.06666666666667"
      ]
     },
     "execution_count": 263,
     "metadata": {},
     "output_type": "execute_result"
    }
   ],
   "source": [
    "a_7.mean()"
   ]
  },
  {
   "cell_type": "code",
   "execution_count": 267,
   "id": "b4a5015c-a88f-4f11-8e01-72be7efebb72",
   "metadata": {},
   "outputs": [
    {
     "data": {
      "text/plain": [
       "62.06666666666667"
      ]
     },
     "execution_count": 267,
     "metadata": {},
     "output_type": "execute_result"
    }
   ],
   "source": [
    "a_7_t.mean()"
   ]
  },
  {
   "cell_type": "code",
   "execution_count": 251,
   "id": "281c2f0b-f50a-42c0-9bf9-acfd918fbcb6",
   "metadata": {},
   "outputs": [
    {
     "data": {
      "text/plain": [
       "array([[ 5, 37, 27],\n",
       "       [30, 11, 38]])"
      ]
     },
     "execution_count": 251,
     "metadata": {},
     "output_type": "execute_result"
    }
   ],
   "source": [
    "a_8=np.random.randint(1,43,(2,3))\n",
    "a_8"
   ]
  },
  {
   "cell_type": "code",
   "execution_count": 269,
   "id": "570fa53d-894e-4535-8378-65c726f745f3",
   "metadata": {},
   "outputs": [],
   "source": [
    "A=np.random.randint(2,8,(1,3))"
   ]
  },
  {
   "cell_type": "code",
   "execution_count": 271,
   "id": "b01dfbce-ed9f-4455-9afc-010cc8472ad2",
   "metadata": {},
   "outputs": [
    {
     "data": {
      "text/plain": [
       "array([[2, 2, 3]])"
      ]
     },
     "execution_count": 271,
     "metadata": {},
     "output_type": "execute_result"
    }
   ],
   "source": [
    "A\n"
   ]
  },
  {
   "cell_type": "code",
   "execution_count": 273,
   "id": "817851b2-0ac4-4abf-b01c-68fe873232df",
   "metadata": {},
   "outputs": [
    {
     "data": {
      "text/plain": [
       "dtype('int32')"
      ]
     },
     "execution_count": 273,
     "metadata": {},
     "output_type": "execute_result"
    }
   ],
   "source": [
    "A.dtype"
   ]
  },
  {
   "cell_type": "code",
   "execution_count": 286,
   "id": "9343a98b-d896-4c75-a432-61fc3dbd7aad",
   "metadata": {},
   "outputs": [],
   "source": [
    "text = np.loadtxt('testt.csv', delimiter = \";\") "
   ]
  },
  {
   "cell_type": "code",
   "execution_count": 288,
   "id": "51c23360-2aaa-40cc-a44d-7dc64aad3062",
   "metadata": {},
   "outputs": [
    {
     "data": {
      "text/plain": [
       "array([[1., 2., 3.],\n",
       "       [4., 5., 6.],\n",
       "       [7., 8., 9.]])"
      ]
     },
     "execution_count": 288,
     "metadata": {},
     "output_type": "execute_result"
    }
   ],
   "source": [
    "text"
   ]
  },
  {
   "cell_type": "code",
   "execution_count": 312,
   "id": "76880b10-84c9-4e94-a952-779c93768a76",
   "metadata": {},
   "outputs": [],
   "source": [
    "text1=np.genfromtxt(\"testt.csv\", delimiter = \";\")"
   ]
  },
  {
   "cell_type": "code",
   "execution_count": 306,
   "id": "aa06e9ec-96b4-4645-9b62-d0d59c7442bf",
   "metadata": {},
   "outputs": [
    {
     "data": {
      "text/plain": [
       "array([[1., 2., 3.],\n",
       "       [4., 5., 6.],\n",
       "       [7., 8., 9.]])"
      ]
     },
     "execution_count": 306,
     "metadata": {},
     "output_type": "execute_result"
    }
   ],
   "source": [
    "text1"
   ]
  },
  {
   "cell_type": "code",
   "execution_count": 319,
   "id": "5aa08389-7e92-44dc-a291-0334ae5bef1e",
   "metadata": {},
   "outputs": [],
   "source": [
    "a=np.arange(1,17)"
   ]
  },
  {
   "cell_type": "code",
   "execution_count": 321,
   "id": "034e9c1a-c6f4-4b45-ae6e-396ec9c6a64b",
   "metadata": {},
   "outputs": [
    {
     "data": {
      "text/plain": [
       "array([ 1,  2,  3,  4,  5,  6,  7,  8,  9, 10, 11, 12, 13, 14, 15, 16])"
      ]
     },
     "execution_count": 321,
     "metadata": {},
     "output_type": "execute_result"
    }
   ],
   "source": [
    "a"
   ]
  },
  {
   "cell_type": "code",
   "execution_count": 329,
   "id": "90f153e1-204b-40d6-bab3-2a7de72ab5bf",
   "metadata": {},
   "outputs": [],
   "source": [
    "b = np.sqrt(a)"
   ]
  },
  {
   "cell_type": "code",
   "execution_count": 331,
   "id": "bc57d219-47e5-439a-996f-e034f7b509d6",
   "metadata": {},
   "outputs": [
    {
     "data": {
      "text/plain": [
       "array([1.        , 1.41421356, 1.73205081, 2.        , 2.23606798,\n",
       "       2.44948974, 2.64575131, 2.82842712, 3.        , 3.16227766,\n",
       "       3.31662479, 3.46410162, 3.60555128, 3.74165739, 3.87298335,\n",
       "       4.        ])"
      ]
     },
     "execution_count": 331,
     "metadata": {},
     "output_type": "execute_result"
    }
   ],
   "source": [
    "b"
   ]
  },
  {
   "cell_type": "code",
   "execution_count": 363,
   "id": "6f1c704c-39a7-4d2b-b275-f069085af6fb",
   "metadata": {},
   "outputs": [],
   "source": [
    "# np.savetxt(\"sqrt.csv\",a,  delimiter = ',',header = \"number\")"
   ]
  },
  {
   "cell_type": "code",
   "execution_count": 365,
   "id": "7d889820-9ee6-4f85-ab0e-18ede17ccf84",
   "metadata": {},
   "outputs": [],
   "source": [
    "# np.savetxt(\"sqrt.csv\",b,  delimiter = ',',header = \"sqrt\")"
   ]
  },
  {
   "cell_type": "code",
   "execution_count": 373,
   "id": "357b1da4-6f0f-474a-96be-65bec1ebda92",
   "metadata": {},
   "outputs": [],
   "source": [
    "combined_array=np.column_stack((a,b))"
   ]
  },
  {
   "cell_type": "code",
   "execution_count": 378,
   "id": "ad9397b0-a428-4766-b4f4-5189dafa378c",
   "metadata": {},
   "outputs": [],
   "source": [
    "np.savetxt(\"sqrt.csv\",combined_array,  delimiter = ',',header = \"number ,sqrt\" ,fmt= '%d, %.2f')"
   ]
  },
  {
   "cell_type": "code",
   "execution_count": 401,
   "id": "66becd15-3e18-4ec9-bf2e-0a2f2dfa63b6",
   "metadata": {},
   "outputs": [
    {
     "data": {
      "text/plain": [
       "array([[8, 9],\n",
       "       [6, 9],\n",
       "       [2, 7],\n",
       "       [1, 2]])"
      ]
     },
     "execution_count": 401,
     "metadata": {},
     "output_type": "execute_result"
    }
   ],
   "source": [
    "# assignment 10 matrix multiplication and transosition\n",
    "a1 = np.random.randint(1,11,(4,2))\n",
    "a2 = np.random.randint(1,11,(2,3))\n",
    "a1"
   ]
  },
  {
   "cell_type": "code",
   "execution_count": 403,
   "id": "1ea79be9-5691-4c7b-8ac4-3ffa8b58ec50",
   "metadata": {},
   "outputs": [],
   "source": [
    "a1_a2 = np.matmul(a1,a2)"
   ]
  },
  {
   "cell_type": "code",
   "execution_count": 408,
   "id": "82638b69-6d69-426f-83fb-12665fd32736",
   "metadata": {},
   "outputs": [
    {
     "name": "stdout",
     "output_type": "stream",
     "text": [
      "first matrix: \n",
      "[[8 9]\n",
      " [6 9]\n",
      " [2 7]\n",
      " [1 2]]\n",
      "second matrix: \n",
      "[[ 4  3  3]\n",
      " [ 9  3 10]]\n",
      "transposed multiplied matrix: \n",
      "[[113 105  71  22]\n",
      " [ 51  45  27   9]\n",
      " [114 108  76  23]]\n"
     ]
    }
   ],
   "source": [
    "print(f\"first matrix: \\n{a1}\\nsecond matrix: \\n{a2}\\ntransposed multiplied matrix: \\n{a1_a2.T}\")"
   ]
  },
  {
   "cell_type": "code",
   "execution_count": null,
   "id": "f820a3f0-cd50-4ffd-9242-eb24f66e51e4",
   "metadata": {},
   "outputs": [],
   "source": []
  },
  {
   "cell_type": "code",
   "execution_count": null,
   "id": "093f2c38-49f2-4f07-a795-c0f4a8555ad0",
   "metadata": {},
   "outputs": [],
   "source": []
  }
 ],
 "metadata": {
  "kernelspec": {
   "display_name": "Python 3 (ipykernel)",
   "language": "python",
   "name": "python3"
  },
  "language_info": {
   "codemirror_mode": {
    "name": "ipython",
    "version": 3
   },
   "file_extension": ".py",
   "mimetype": "text/x-python",
   "name": "python",
   "nbconvert_exporter": "python",
   "pygments_lexer": "ipython3",
   "version": "3.12.4"
  }
 },
 "nbformat": 4,
 "nbformat_minor": 5
}
