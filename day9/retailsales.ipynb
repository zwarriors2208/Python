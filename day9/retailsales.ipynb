{
 "cells": [
  {
   "cell_type": "code",
   "execution_count": 5,
   "id": "8196e35a-d666-46ac-ae67-4bf695d01028",
   "metadata": {},
   "outputs": [],
   "source": [
    "import pandas as pd\n",
    "import numpy as np\n"
   ]
  },
  {
   "cell_type": "code",
   "execution_count": 7,
   "id": "23cdaf85-cbe1-4baa-bac6-bda1156b764c",
   "metadata": {},
   "outputs": [],
   "source": [
    "df = pd.read_csv(\"retail_sales.csv\")"
   ]
  },
  {
   "cell_type": "code",
   "execution_count": 9,
   "id": "b7fb249b-05f0-4438-b96f-221e11e5ad53",
   "metadata": {},
   "outputs": [
    {
     "data": {
      "text/html": [
       "<div>\n",
       "<style scoped>\n",
       "    .dataframe tbody tr th:only-of-type {\n",
       "        vertical-align: middle;\n",
       "    }\n",
       "\n",
       "    .dataframe tbody tr th {\n",
       "        vertical-align: top;\n",
       "    }\n",
       "\n",
       "    .dataframe thead th {\n",
       "        text-align: right;\n",
       "    }\n",
       "</style>\n",
       "<table border=\"1\" class=\"dataframe\">\n",
       "  <thead>\n",
       "    <tr style=\"text-align: right;\">\n",
       "      <th></th>\n",
       "      <th>Date</th>\n",
       "      <th>Store</th>\n",
       "      <th>Product</th>\n",
       "      <th>Category</th>\n",
       "      <th>Sales</th>\n",
       "      <th>Quantity</th>\n",
       "    </tr>\n",
       "  </thead>\n",
       "  <tbody>\n",
       "    <tr>\n",
       "      <th>0</th>\n",
       "      <td>29-01-2023</td>\n",
       "      <td>Store_D</td>\n",
       "      <td>Product_3</td>\n",
       "      <td>Category_2</td>\n",
       "      <td>430.24</td>\n",
       "      <td>11</td>\n",
       "    </tr>\n",
       "    <tr>\n",
       "      <th>1</th>\n",
       "      <td>09-10-2023</td>\n",
       "      <td>Store_B</td>\n",
       "      <td>Product_1</td>\n",
       "      <td>Category_2</td>\n",
       "      <td>212.26</td>\n",
       "      <td>18</td>\n",
       "    </tr>\n",
       "    <tr>\n",
       "      <th>2</th>\n",
       "      <td>09-08-2023</td>\n",
       "      <td>Store_C</td>\n",
       "      <td>Product_1</td>\n",
       "      <td>Category_1</td>\n",
       "      <td>538.42</td>\n",
       "      <td>8</td>\n",
       "    </tr>\n",
       "    <tr>\n",
       "      <th>3</th>\n",
       "      <td>03-05-2023</td>\n",
       "      <td>Store_B</td>\n",
       "      <td>Product_2</td>\n",
       "      <td>Category_2</td>\n",
       "      <td>670.34</td>\n",
       "      <td>9</td>\n",
       "    </tr>\n",
       "    <tr>\n",
       "      <th>4</th>\n",
       "      <td>08-11-2023</td>\n",
       "      <td>Store_A</td>\n",
       "      <td>Product_3</td>\n",
       "      <td>Category_3</td>\n",
       "      <td>562.97</td>\n",
       "      <td>17</td>\n",
       "    </tr>\n",
       "  </tbody>\n",
       "</table>\n",
       "</div>"
      ],
      "text/plain": [
       "         Date    Store    Product    Category   Sales  Quantity\n",
       "0  29-01-2023  Store_D  Product_3  Category_2  430.24        11\n",
       "1  09-10-2023  Store_B  Product_1  Category_2  212.26        18\n",
       "2  09-08-2023  Store_C  Product_1  Category_1  538.42         8\n",
       "3  03-05-2023  Store_B  Product_2  Category_2  670.34         9\n",
       "4  08-11-2023  Store_A  Product_3  Category_3  562.97        17"
      ]
     },
     "execution_count": 9,
     "metadata": {},
     "output_type": "execute_result"
    }
   ],
   "source": [
    "df.head()"
   ]
  },
  {
   "cell_type": "code",
   "execution_count": 49,
   "id": "d2e0a873-3ba7-4095-9818-7f0220c1a427",
   "metadata": {},
   "outputs": [],
   "source": [
    "s = df.groupby('Store').sum()['Sales']"
   ]
  },
  {
   "cell_type": "code",
   "execution_count": 122,
   "id": "f1191ce6-325f-44eb-9d2f-e4d28b206cea",
   "metadata": {},
   "outputs": [
    {
     "data": {
      "text/html": [
       "<div>\n",
       "<style scoped>\n",
       "    .dataframe tbody tr th:only-of-type {\n",
       "        vertical-align: middle;\n",
       "    }\n",
       "\n",
       "    .dataframe tbody tr th {\n",
       "        vertical-align: top;\n",
       "    }\n",
       "\n",
       "    .dataframe thead th {\n",
       "        text-align: right;\n",
       "    }\n",
       "</style>\n",
       "<table border=\"1\" class=\"dataframe\">\n",
       "  <thead>\n",
       "    <tr style=\"text-align: right;\">\n",
       "      <th></th>\n",
       "      <th>Date</th>\n",
       "      <th>Store</th>\n",
       "      <th>Product</th>\n",
       "      <th>Category</th>\n",
       "      <th>Sales</th>\n",
       "      <th>Quantity</th>\n",
       "    </tr>\n",
       "  </thead>\n",
       "  <tbody>\n",
       "  </tbody>\n",
       "</table>\n",
       "</div>"
      ],
      "text/plain": [
       "Empty DataFrame\n",
       "Columns: [Date, Store, Product, Category, Sales, Quantity]\n",
       "Index: []"
      ]
     },
     "execution_count": 122,
     "metadata": {},
     "output_type": "execute_result"
    }
   ],
   "source": [
    "Q1 = df[\"Sales\"].quantile(0.25)\n",
    "Q3 = df[\"Sales\"].quantile(0.75)\n",
    "IQR = Q3 - Q1\n",
    "lb =  Q1 - 1.5 * IQR\n",
    "ub = Q3 + 1.5 * IQR\n",
    "df[(df[\"Sales\"] < lb )| (df[\"Sales\"] > ub)].dropna()"
   ]
  },
  {
   "cell_type": "code",
   "execution_count": 51,
   "id": "934181a5-5d62-4754-89cc-243840cb757d",
   "metadata": {},
   "outputs": [
    {
     "data": {
      "text/plain": [
       "Store\n",
       "Store_A    52090.36\n",
       "Store_B    50726.71\n",
       "Store_C    44523.58\n",
       "Store_D    45760.32\n",
       "Store_E    45513.99\n",
       "Name: Sales, dtype: float64"
      ]
     },
     "execution_count": 51,
     "metadata": {},
     "output_type": "execute_result"
    }
   ],
   "source": [
    "s"
   ]
  },
  {
   "cell_type": "code",
   "execution_count": 69,
   "id": "c4192d30-a92f-4455-8251-e05d3e610012",
   "metadata": {},
   "outputs": [],
   "source": [
    "s2 = df.groupby('Product')['Sales'].mean()"
   ]
  },
  {
   "cell_type": "code",
   "execution_count": 71,
   "id": "1ff0d287-9983-47bc-9da3-b8d4190e72f2",
   "metadata": {},
   "outputs": [
    {
     "data": {
      "text/plain": [
       "Product\n",
       "Product_1    475.286455\n",
       "Product_2    435.928041\n",
       "Product_3    488.653878\n",
       "Product_4    497.446531\n",
       "Product_5    488.768969\n",
       "Name: Sales, dtype: float64"
      ]
     },
     "execution_count": 71,
     "metadata": {},
     "output_type": "execute_result"
    }
   ],
   "source": [
    "s2"
   ]
  },
  {
   "cell_type": "code",
   "execution_count": 73,
   "id": "0e4f0f1b-c13c-4447-b0eb-04622040c6d0",
   "metadata": {},
   "outputs": [],
   "source": [
    "s2 = s2.reset_index()"
   ]
  },
  {
   "cell_type": "code",
   "execution_count": 77,
   "id": "f5b287e9-a04c-4b24-bff2-d66769a3587a",
   "metadata": {},
   "outputs": [
    {
     "data": {
      "text/plain": [
       "Product     Product_5\n",
       "Sales      497.446531\n",
       "dtype: object"
      ]
     },
     "execution_count": 77,
     "metadata": {},
     "output_type": "execute_result"
    }
   ],
   "source": [
    "s2.max()"
   ]
  },
  {
   "cell_type": "code",
   "execution_count": 99,
   "id": "cc34725d-739f-4fab-b7ef-9e06a5023dc2",
   "metadata": {},
   "outputs": [],
   "source": [
    "s3 = df.groupby('Product')['Quantity'].sum().reset_index()"
   ]
  },
  {
   "cell_type": "code",
   "execution_count": 101,
   "id": "302c0375-f923-4f48-a268-3ebe588453d0",
   "metadata": {},
   "outputs": [
    {
     "data": {
      "text/html": [
       "<div>\n",
       "<style scoped>\n",
       "    .dataframe tbody tr th:only-of-type {\n",
       "        vertical-align: middle;\n",
       "    }\n",
       "\n",
       "    .dataframe tbody tr th {\n",
       "        vertical-align: top;\n",
       "    }\n",
       "\n",
       "    .dataframe thead th {\n",
       "        text-align: right;\n",
       "    }\n",
       "</style>\n",
       "<table border=\"1\" class=\"dataframe\">\n",
       "  <thead>\n",
       "    <tr style=\"text-align: right;\">\n",
       "      <th></th>\n",
       "      <th>Product</th>\n",
       "      <th>Quantity</th>\n",
       "    </tr>\n",
       "  </thead>\n",
       "  <tbody>\n",
       "    <tr>\n",
       "      <th>0</th>\n",
       "      <td>Product_1</td>\n",
       "      <td>1222</td>\n",
       "    </tr>\n",
       "    <tr>\n",
       "      <th>1</th>\n",
       "      <td>Product_2</td>\n",
       "      <td>991</td>\n",
       "    </tr>\n",
       "    <tr>\n",
       "      <th>2</th>\n",
       "      <td>Product_3</td>\n",
       "      <td>1017</td>\n",
       "    </tr>\n",
       "    <tr>\n",
       "      <th>3</th>\n",
       "      <td>Product_4</td>\n",
       "      <td>1018</td>\n",
       "    </tr>\n",
       "    <tr>\n",
       "      <th>4</th>\n",
       "      <td>Product_5</td>\n",
       "      <td>982</td>\n",
       "    </tr>\n",
       "  </tbody>\n",
       "</table>\n",
       "</div>"
      ],
      "text/plain": [
       "     Product  Quantity\n",
       "0  Product_1      1222\n",
       "1  Product_2       991\n",
       "2  Product_3      1017\n",
       "3  Product_4      1018\n",
       "4  Product_5       982"
      ]
     },
     "execution_count": 101,
     "metadata": {},
     "output_type": "execute_result"
    }
   ],
   "source": [
    "s3"
   ]
  },
  {
   "cell_type": "code",
   "execution_count": 103,
   "id": "184f4d8a-0013-4e45-bb5f-d2233598188d",
   "metadata": {},
   "outputs": [
    {
     "data": {
      "text/plain": [
       "Product     Product_5\n",
       "Quantity         1222\n",
       "dtype: object"
      ]
     },
     "execution_count": 103,
     "metadata": {},
     "output_type": "execute_result"
    }
   ],
   "source": [
    "s3.max()"
   ]
  },
  {
   "cell_type": "code",
   "execution_count": 120,
   "id": "f0c60c68-80bd-4c82-8f61-2b9557e10070",
   "metadata": {},
   "outputs": [
    {
     "data": {
      "text/html": [
       "<div>\n",
       "<style scoped>\n",
       "    .dataframe tbody tr th:only-of-type {\n",
       "        vertical-align: middle;\n",
       "    }\n",
       "\n",
       "    .dataframe tbody tr th {\n",
       "        vertical-align: top;\n",
       "    }\n",
       "\n",
       "    .dataframe thead th {\n",
       "        text-align: right;\n",
       "    }\n",
       "</style>\n",
       "<table border=\"1\" class=\"dataframe\">\n",
       "  <thead>\n",
       "    <tr style=\"text-align: right;\">\n",
       "      <th></th>\n",
       "      <th>Date</th>\n",
       "      <th>Store</th>\n",
       "      <th>Product</th>\n",
       "      <th>Category</th>\n",
       "      <th>Sales</th>\n",
       "      <th>Quantity</th>\n",
       "    </tr>\n",
       "  </thead>\n",
       "  <tbody>\n",
       "  </tbody>\n",
       "</table>\n",
       "</div>"
      ],
      "text/plain": [
       "Empty DataFrame\n",
       "Columns: [Date, Store, Product, Category, Sales, Quantity]\n",
       "Index: []"
      ]
     },
     "execution_count": 120,
     "metadata": {},
     "output_type": "execute_result"
    }
   ],
   "source": [
    "#Use the IQR method to detect outliers in the Quantity column.\n",
    "Q1 = df[\"Quantity\"].quantile(0.25)\n",
    "Q3 = df[\"Quantity\"].quantile(0.75)\n",
    "IQR = Q3 - Q1\n",
    "lb =  Q1 - 1.5 * IQR\n",
    "ub = Q3 + 1.5 * IQR\n",
    "df[(df[\"Quantity\"] < lb )| (df[\"Quantity\"] > ub)].dropna()"
   ]
  },
  {
   "cell_type": "code",
   "execution_count": 128,
   "id": "9a9b9a99-cefe-4fa9-b49d-8bec5f0e536b",
   "metadata": {},
   "outputs": [],
   "source": [
    "df = df.sort_values(by = \"Sales\")"
   ]
  },
  {
   "cell_type": "code",
   "execution_count": 130,
   "id": "5d8ccc4a-0f1c-4a4a-90ad-f0322c1348bb",
   "metadata": {},
   "outputs": [],
   "source": [
    "df = df.sort_index(ascending = False)"
   ]
  },
  {
   "cell_type": "code",
   "execution_count": 132,
   "id": "09787b75-e466-4bea-b1de-b0ce1b737c94",
   "metadata": {},
   "outputs": [
    {
     "data": {
      "text/html": [
       "<div>\n",
       "<style scoped>\n",
       "    .dataframe tbody tr th:only-of-type {\n",
       "        vertical-align: middle;\n",
       "    }\n",
       "\n",
       "    .dataframe tbody tr th {\n",
       "        vertical-align: top;\n",
       "    }\n",
       "\n",
       "    .dataframe thead th {\n",
       "        text-align: right;\n",
       "    }\n",
       "</style>\n",
       "<table border=\"1\" class=\"dataframe\">\n",
       "  <thead>\n",
       "    <tr style=\"text-align: right;\">\n",
       "      <th></th>\n",
       "      <th>Date</th>\n",
       "      <th>Store</th>\n",
       "      <th>Product</th>\n",
       "      <th>Category</th>\n",
       "      <th>Sales</th>\n",
       "      <th>Quantity</th>\n",
       "    </tr>\n",
       "  </thead>\n",
       "  <tbody>\n",
       "    <tr>\n",
       "      <th>499</th>\n",
       "      <td>04-01-2023</td>\n",
       "      <td>Store_C</td>\n",
       "      <td>Product_5</td>\n",
       "      <td>Category_3</td>\n",
       "      <td>708.42</td>\n",
       "      <td>12</td>\n",
       "    </tr>\n",
       "    <tr>\n",
       "      <th>498</th>\n",
       "      <td>23-07-2023</td>\n",
       "      <td>Store_D</td>\n",
       "      <td>Product_5</td>\n",
       "      <td>Category_2</td>\n",
       "      <td>748.95</td>\n",
       "      <td>18</td>\n",
       "    </tr>\n",
       "    <tr>\n",
       "      <th>497</th>\n",
       "      <td>28-11-2023</td>\n",
       "      <td>Store_B</td>\n",
       "      <td>Product_5</td>\n",
       "      <td>Category_1</td>\n",
       "      <td>553.18</td>\n",
       "      <td>11</td>\n",
       "    </tr>\n",
       "    <tr>\n",
       "      <th>496</th>\n",
       "      <td>28-11-2023</td>\n",
       "      <td>Store_C</td>\n",
       "      <td>Product_1</td>\n",
       "      <td>Category_2</td>\n",
       "      <td>551.81</td>\n",
       "      <td>3</td>\n",
       "    </tr>\n",
       "    <tr>\n",
       "      <th>495</th>\n",
       "      <td>29-09-2023</td>\n",
       "      <td>Store_E</td>\n",
       "      <td>Product_1</td>\n",
       "      <td>Category_1</td>\n",
       "      <td>698.10</td>\n",
       "      <td>19</td>\n",
       "    </tr>\n",
       "    <tr>\n",
       "      <th>494</th>\n",
       "      <td>18-12-2023</td>\n",
       "      <td>Store_B</td>\n",
       "      <td>Product_5</td>\n",
       "      <td>Category_1</td>\n",
       "      <td>283.23</td>\n",
       "      <td>1</td>\n",
       "    </tr>\n",
       "    <tr>\n",
       "      <th>493</th>\n",
       "      <td>10-12-2023</td>\n",
       "      <td>Store_D</td>\n",
       "      <td>Product_4</td>\n",
       "      <td>Category_1</td>\n",
       "      <td>312.13</td>\n",
       "      <td>19</td>\n",
       "    </tr>\n",
       "    <tr>\n",
       "      <th>492</th>\n",
       "      <td>19-01-2023</td>\n",
       "      <td>Store_C</td>\n",
       "      <td>Product_2</td>\n",
       "      <td>Category_1</td>\n",
       "      <td>816.11</td>\n",
       "      <td>11</td>\n",
       "    </tr>\n",
       "    <tr>\n",
       "      <th>491</th>\n",
       "      <td>10-02-2023</td>\n",
       "      <td>Store_E</td>\n",
       "      <td>Product_1</td>\n",
       "      <td>Category_3</td>\n",
       "      <td>858.87</td>\n",
       "      <td>1</td>\n",
       "    </tr>\n",
       "    <tr>\n",
       "      <th>490</th>\n",
       "      <td>03-11-2023</td>\n",
       "      <td>Store_E</td>\n",
       "      <td>Product_5</td>\n",
       "      <td>Category_1</td>\n",
       "      <td>990.02</td>\n",
       "      <td>4</td>\n",
       "    </tr>\n",
       "    <tr>\n",
       "      <th>489</th>\n",
       "      <td>07-08-2023</td>\n",
       "      <td>Store_B</td>\n",
       "      <td>Product_3</td>\n",
       "      <td>Category_3</td>\n",
       "      <td>811.75</td>\n",
       "      <td>8</td>\n",
       "    </tr>\n",
       "    <tr>\n",
       "      <th>488</th>\n",
       "      <td>02-11-2023</td>\n",
       "      <td>Store_E</td>\n",
       "      <td>Product_5</td>\n",
       "      <td>Category_3</td>\n",
       "      <td>237.24</td>\n",
       "      <td>6</td>\n",
       "    </tr>\n",
       "    <tr>\n",
       "      <th>487</th>\n",
       "      <td>05-06-2023</td>\n",
       "      <td>Store_D</td>\n",
       "      <td>Product_4</td>\n",
       "      <td>Category_3</td>\n",
       "      <td>992.74</td>\n",
       "      <td>8</td>\n",
       "    </tr>\n",
       "    <tr>\n",
       "      <th>486</th>\n",
       "      <td>19-02-2023</td>\n",
       "      <td>Store_A</td>\n",
       "      <td>Product_1</td>\n",
       "      <td>Category_3</td>\n",
       "      <td>413.72</td>\n",
       "      <td>7</td>\n",
       "    </tr>\n",
       "    <tr>\n",
       "      <th>485</th>\n",
       "      <td>03-01-2023</td>\n",
       "      <td>Store_C</td>\n",
       "      <td>Product_3</td>\n",
       "      <td>Category_2</td>\n",
       "      <td>371.87</td>\n",
       "      <td>10</td>\n",
       "    </tr>\n",
       "    <tr>\n",
       "      <th>484</th>\n",
       "      <td>19-05-2023</td>\n",
       "      <td>Store_D</td>\n",
       "      <td>Product_4</td>\n",
       "      <td>Category_3</td>\n",
       "      <td>449.05</td>\n",
       "      <td>18</td>\n",
       "    </tr>\n",
       "    <tr>\n",
       "      <th>483</th>\n",
       "      <td>08-04-2023</td>\n",
       "      <td>Store_B</td>\n",
       "      <td>Product_2</td>\n",
       "      <td>Category_1</td>\n",
       "      <td>663.46</td>\n",
       "      <td>18</td>\n",
       "    </tr>\n",
       "    <tr>\n",
       "      <th>482</th>\n",
       "      <td>21-07-2023</td>\n",
       "      <td>Store_A</td>\n",
       "      <td>Product_1</td>\n",
       "      <td>Category_1</td>\n",
       "      <td>288.93</td>\n",
       "      <td>13</td>\n",
       "    </tr>\n",
       "    <tr>\n",
       "      <th>481</th>\n",
       "      <td>30-09-2023</td>\n",
       "      <td>Store_C</td>\n",
       "      <td>Product_2</td>\n",
       "      <td>Category_1</td>\n",
       "      <td>578.84</td>\n",
       "      <td>5</td>\n",
       "    </tr>\n",
       "    <tr>\n",
       "      <th>480</th>\n",
       "      <td>15-02-2023</td>\n",
       "      <td>Store_A</td>\n",
       "      <td>Product_5</td>\n",
       "      <td>Category_2</td>\n",
       "      <td>785.72</td>\n",
       "      <td>5</td>\n",
       "    </tr>\n",
       "  </tbody>\n",
       "</table>\n",
       "</div>"
      ],
      "text/plain": [
       "           Date    Store    Product    Category   Sales  Quantity\n",
       "499  04-01-2023  Store_C  Product_5  Category_3  708.42        12\n",
       "498  23-07-2023  Store_D  Product_5  Category_2  748.95        18\n",
       "497  28-11-2023  Store_B  Product_5  Category_1  553.18        11\n",
       "496  28-11-2023  Store_C  Product_1  Category_2  551.81         3\n",
       "495  29-09-2023  Store_E  Product_1  Category_1  698.10        19\n",
       "494  18-12-2023  Store_B  Product_5  Category_1  283.23         1\n",
       "493  10-12-2023  Store_D  Product_4  Category_1  312.13        19\n",
       "492  19-01-2023  Store_C  Product_2  Category_1  816.11        11\n",
       "491  10-02-2023  Store_E  Product_1  Category_3  858.87         1\n",
       "490  03-11-2023  Store_E  Product_5  Category_1  990.02         4\n",
       "489  07-08-2023  Store_B  Product_3  Category_3  811.75         8\n",
       "488  02-11-2023  Store_E  Product_5  Category_3  237.24         6\n",
       "487  05-06-2023  Store_D  Product_4  Category_3  992.74         8\n",
       "486  19-02-2023  Store_A  Product_1  Category_3  413.72         7\n",
       "485  03-01-2023  Store_C  Product_3  Category_2  371.87        10\n",
       "484  19-05-2023  Store_D  Product_4  Category_3  449.05        18\n",
       "483  08-04-2023  Store_B  Product_2  Category_1  663.46        18\n",
       "482  21-07-2023  Store_A  Product_1  Category_1  288.93        13\n",
       "481  30-09-2023  Store_C  Product_2  Category_1  578.84         5\n",
       "480  15-02-2023  Store_A  Product_5  Category_2  785.72         5"
      ]
     },
     "execution_count": 132,
     "metadata": {},
     "output_type": "execute_result"
    }
   ],
   "source": [
    "df.head(20)"
   ]
  },
  {
   "cell_type": "code",
   "execution_count": 146,
   "id": "d8b9152d-a2dc-46de-a996-7a702e8d2c92",
   "metadata": {},
   "outputs": [
    {
     "data": {
      "text/plain": [
       "Store\n",
       "Store_A    526.165253\n",
       "Store_B    487.756827\n",
       "Store_C    459.005979\n",
       "Store_D    466.942041\n",
       "Store_E    446.215588\n",
       "Name: Sales, dtype: float64"
      ]
     },
     "execution_count": 146,
     "metadata": {},
     "output_type": "execute_result"
    }
   ],
   "source": [
    "# Rank the stores by their average sales amount using the rank() method with the 'min' ranking method for ties.\n",
    "r = df.groupby(\"Store\")[\"Sales\"].mean()\n",
    "r"
   ]
  },
  {
   "cell_type": "code",
   "execution_count": 152,
   "id": "8ee1f927-39e8-4d0e-b01f-19b5748aaf73",
   "metadata": {},
   "outputs": [
    {
     "data": {
      "text/plain": [
       "Store\n",
       "Store_A    1.0\n",
       "Store_B    0.8\n",
       "Store_C    0.4\n",
       "Store_D    0.6\n",
       "Store_E    0.2\n",
       "Name: Sales, dtype: float64"
      ]
     },
     "execution_count": 152,
     "metadata": {},
     "output_type": "execute_result"
    }
   ],
   "source": [
    "# rnk = r.rank(ascending = False)\n",
    "rnk = r.rank(pct=True)\n",
    "rnk"
   ]
  },
  {
   "cell_type": "code",
   "execution_count": null,
   "id": "3d6af461-2b49-430b-a8ac-60c6df4bb0aa",
   "metadata": {},
   "outputs": [],
   "source": []
  }
 ],
 "metadata": {
  "kernelspec": {
   "display_name": "Python 3 (ipykernel)",
   "language": "python",
   "name": "python3"
  },
  "language_info": {
   "codemirror_mode": {
    "name": "ipython",
    "version": 3
   },
   "file_extension": ".py",
   "mimetype": "text/x-python",
   "name": "python",
   "nbconvert_exporter": "python",
   "pygments_lexer": "ipython3",
   "version": "3.12.4"
  }
 },
 "nbformat": 4,
 "nbformat_minor": 5
}
